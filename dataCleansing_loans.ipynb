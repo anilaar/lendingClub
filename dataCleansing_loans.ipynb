{
 "cells": [
  {
   "cell_type": "markdown",
   "id": "8dc28930",
   "metadata": {},
   "source": [
    "# cleansing Loans data"
   ]
  },
  {
   "cell_type": "code",
   "execution_count": 1,
   "id": "7474e415",
   "metadata": {},
   "outputs": [],
   "source": [
    "from pyspark.sql import SparkSession\n",
    "from pyspark.sql.functions import sha2, concat_ws\n",
    "from pyspark.sql.functions import *\n",
    "spark  = SparkSession.builder\\\n",
    "                    .appName(\"lendingClubProject\")\\\n",
    "                    .config('spark.shuffle.useOldFetchProtocol', 'true') \\\n",
    "                    .config(\"spark.sql.warehouse.dir\",\"/user/anil/warehouse\")\\\n",
    "                    .enableHiveSupport()\\\n",
    "                    .master('yarn')\\\n",
    "                    .getOrCreate()"
   ]
  },
  {
   "cell_type": "code",
   "execution_count": 2,
   "id": "40075914",
   "metadata": {},
   "outputs": [],
   "source": [
    "loansSchema = 'loan_id string, member_id string, loan_amount float, funded_amount float, loan_term_months string, interest_rate float, monthly_installment float, issue_date string, loan_status string, loan_purpose string, loan_title string'"
   ]
  },
  {
   "cell_type": "markdown",
   "id": "6f0026dd",
   "metadata": {},
   "source": [
    "# Adding proper Schema"
   ]
  },
  {
   "cell_type": "code",
   "execution_count": 3,
   "id": "3961bbd3",
   "metadata": {},
   "outputs": [],
   "source": [
    "loans = spark.read \\\n",
    ".format(\"csv\") \\\n",
    ".option(\"header\",True) \\\n",
    ".schema(loansSchema) \\\n",
    ".load(\"/user/anil/lendingClubProject/loans_data\")"
   ]
  },
  {
   "cell_type": "code",
   "execution_count": 4,
   "id": "26424455",
   "metadata": {},
   "outputs": [
    {
     "data": {
      "text/html": [
       "<table border='1'>\n",
       "<tr><th>loan_id</th><th>member_id</th><th>loan_amount</th><th>funded_amount</th><th>loan_term_months</th><th>interest_rate</th><th>monthly_installment</th><th>issue_date</th><th>loan_status</th><th>loan_purpose</th><th>loan_title</th></tr>\n",
       "<tr><td>40391322</td><td>4480925324607267c...</td><td>35000.0</td><td>35000.0</td><td>60 months</td><td>19.99</td><td>927.1</td><td>Feb-2015</td><td>Fully Paid</td><td>debt_consolidation</td><td>Debt consolidation</td></tr>\n",
       "<tr><td>40461475</td><td>b54711d4a553ea330...</td><td>5600.0</td><td>5600.0</td><td>36 months</td><td>14.31</td><td>192.24</td><td>Feb-2015</td><td>Charged Off</td><td>debt_consolidation</td><td>Debt consolidation</td></tr>\n",
       "<tr><td>40361493</td><td>db06b45a938f1a3b5...</td><td>2925.0</td><td>2925.0</td><td>36 months</td><td>16.49</td><td>103.55</td><td>Feb-2015</td><td>Fully Paid</td><td>credit_card</td><td>Credit card refin...</td></tr>\n",
       "<tr><td>38615026</td><td>ad9d9524477e85c11...</td><td>12300.0</td><td>12300.0</td><td>36 months</td><td>7.49</td><td>382.55</td><td>Feb-2015</td><td>Fully Paid</td><td>credit_card</td><td>Credit card refin...</td></tr>\n",
       "<tr><td>40451319</td><td>c67f6ac3fea6ef46d...</td><td>12000.0</td><td>12000.0</td><td>36 months</td><td>10.49</td><td>389.98</td><td>Feb-2015</td><td>Fully Paid</td><td>debt_consolidation</td><td>Debt consolidation</td></tr>\n",
       "<tr><td>40287423</td><td>bb36e2cb69517fac3...</td><td>11625.0</td><td>11625.0</td><td>36 months</td><td>19.99</td><td>431.97</td><td>Feb-2015</td><td>Charged Off</td><td>debt_consolidation</td><td>Debt consolidation</td></tr>\n",
       "<tr><td>39987662</td><td>af69a7dff814fb213...</td><td>6500.0</td><td>6500.0</td><td>36 months</td><td>14.99</td><td>225.3</td><td>Feb-2015</td><td>Fully Paid</td><td>debt_consolidation</td><td>Debt consolidation</td></tr>\n",
       "<tr><td>40360143</td><td>c9c794b5025e14a7d...</td><td>20950.0</td><td>20950.0</td><td>36 months</td><td>17.86</td><td>755.93</td><td>Feb-2015</td><td>Charged Off</td><td>debt_consolidation</td><td>Debt consolidation</td></tr>\n",
       "<tr><td>40510540</td><td>61b48d763bd82369a...</td><td>22000.0</td><td>22000.0</td><td>36 months</td><td>9.49</td><td>704.63</td><td>Feb-2015</td><td>Fully Paid</td><td>credit_card</td><td>Credit card refin...</td></tr>\n",
       "<tr><td>40581708</td><td>adc390ceaa6428ba4...</td><td>5000.0</td><td>5000.0</td><td>36 months</td><td>12.99</td><td>168.45</td><td>Feb-2015</td><td>Fully Paid</td><td>debt_consolidation</td><td>Debt consolidation</td></tr>\n",
       "<tr><td>39721566</td><td>b8591b1957416d0d0...</td><td>15150.0</td><td>15150.0</td><td>36 months</td><td>15.59</td><td>529.57</td><td>Feb-2015</td><td>Fully Paid</td><td>debt_consolidation</td><td>Debt consolidation</td></tr>\n",
       "<tr><td>40490766</td><td>edf6bc814b2514406...</td><td>10000.0</td><td>10000.0</td><td>36 months</td><td>14.99</td><td>346.61</td><td>Feb-2015</td><td>Fully Paid</td><td>debt_consolidation</td><td>Debt consolidation</td></tr>\n",
       "<tr><td>40391051</td><td>cbb2027fdad44e370...</td><td>18500.0</td><td>18500.0</td><td>36 months</td><td>12.99</td><td>623.25</td><td>Feb-2015</td><td>Fully Paid</td><td>debt_consolidation</td><td>Debt consolidation</td></tr>\n",
       "<tr><td>40451607</td><td>2833e66fc35f729ff...</td><td>7200.0</td><td>7200.0</td><td>36 months</td><td>14.31</td><td>247.17</td><td>Feb-2015</td><td>Fully Paid</td><td>other</td><td>Other</td></tr>\n",
       "<tr><td>40591290</td><td>30257f9f7bb1ee5f7...</td><td>12000.0</td><td>12000.0</td><td>36 months</td><td>6.49</td><td>367.74</td><td>Feb-2015</td><td>Fully Paid</td><td>credit_card</td><td>Credit card refin...</td></tr>\n",
       "<tr><td>40361421</td><td>1f9bcde5a863520ef...</td><td>3500.0</td><td>3500.0</td><td>36 months</td><td>15.59</td><td>122.35</td><td>Feb-2015</td><td>Fully Paid</td><td>other</td><td>Other</td></tr>\n",
       "<tr><td>40352113</td><td>1809df0b4a0abe9b0...</td><td>5300.0</td><td>5300.0</td><td>36 months</td><td>17.14</td><td>189.33</td><td>Feb-2015</td><td>Fully Paid</td><td>other</td><td>Other</td></tr>\n",
       "<tr><td>39530485</td><td>6da09f2e86c405a0c...</td><td>22375.0</td><td>22375.0</td><td>60 months</td><td>17.14</td><td>557.77</td><td>Feb-2015</td><td>Fully Paid</td><td>credit_card</td><td>Credit card refin...</td></tr>\n",
       "<tr><td>40411601</td><td>0229fe984f04c4817...</td><td>32500.0</td><td>32500.0</td><td>60 months</td><td>15.99</td><td>790.17</td><td>Feb-2015</td><td>Fully Paid</td><td>debt_consolidation</td><td>Debt consolidation</td></tr>\n",
       "<tr><td>40461483</td><td>d8868b8f86fc7c7ea...</td><td>10075.0</td><td>10075.0</td><td>36 months</td><td>14.99</td><td>349.21</td><td>Feb-2015</td><td>Charged Off</td><td>debt_consolidation</td><td>Debt consolidation</td></tr>\n",
       "</table>\n",
       "only showing top 20 rows\n"
      ],
      "text/plain": [
       "+--------+--------------------+-----------+-------------+----------------+-------------+-------------------+----------+-----------+------------------+--------------------+\n",
       "| loan_id|           member_id|loan_amount|funded_amount|loan_term_months|interest_rate|monthly_installment|issue_date|loan_status|      loan_purpose|          loan_title|\n",
       "+--------+--------------------+-----------+-------------+----------------+-------------+-------------------+----------+-----------+------------------+--------------------+\n",
       "|40391322|4480925324607267c...|    35000.0|      35000.0|       60 months|        19.99|              927.1|  Feb-2015| Fully Paid|debt_consolidation|  Debt consolidation|\n",
       "|40461475|b54711d4a553ea330...|     5600.0|       5600.0|       36 months|        14.31|             192.24|  Feb-2015|Charged Off|debt_consolidation|  Debt consolidation|\n",
       "|40361493|db06b45a938f1a3b5...|     2925.0|       2925.0|       36 months|        16.49|             103.55|  Feb-2015| Fully Paid|       credit_card|Credit card refin...|\n",
       "|38615026|ad9d9524477e85c11...|    12300.0|      12300.0|       36 months|         7.49|             382.55|  Feb-2015| Fully Paid|       credit_card|Credit card refin...|\n",
       "|40451319|c67f6ac3fea6ef46d...|    12000.0|      12000.0|       36 months|        10.49|             389.98|  Feb-2015| Fully Paid|debt_consolidation|  Debt consolidation|\n",
       "|40287423|bb36e2cb69517fac3...|    11625.0|      11625.0|       36 months|        19.99|             431.97|  Feb-2015|Charged Off|debt_consolidation|  Debt consolidation|\n",
       "|39987662|af69a7dff814fb213...|     6500.0|       6500.0|       36 months|        14.99|              225.3|  Feb-2015| Fully Paid|debt_consolidation|  Debt consolidation|\n",
       "|40360143|c9c794b5025e14a7d...|    20950.0|      20950.0|       36 months|        17.86|             755.93|  Feb-2015|Charged Off|debt_consolidation|  Debt consolidation|\n",
       "|40510540|61b48d763bd82369a...|    22000.0|      22000.0|       36 months|         9.49|             704.63|  Feb-2015| Fully Paid|       credit_card|Credit card refin...|\n",
       "|40581708|adc390ceaa6428ba4...|     5000.0|       5000.0|       36 months|        12.99|             168.45|  Feb-2015| Fully Paid|debt_consolidation|  Debt consolidation|\n",
       "|39721566|b8591b1957416d0d0...|    15150.0|      15150.0|       36 months|        15.59|             529.57|  Feb-2015| Fully Paid|debt_consolidation|  Debt consolidation|\n",
       "|40490766|edf6bc814b2514406...|    10000.0|      10000.0|       36 months|        14.99|             346.61|  Feb-2015| Fully Paid|debt_consolidation|  Debt consolidation|\n",
       "|40391051|cbb2027fdad44e370...|    18500.0|      18500.0|       36 months|        12.99|             623.25|  Feb-2015| Fully Paid|debt_consolidation|  Debt consolidation|\n",
       "|40451607|2833e66fc35f729ff...|     7200.0|       7200.0|       36 months|        14.31|             247.17|  Feb-2015| Fully Paid|             other|               Other|\n",
       "|40591290|30257f9f7bb1ee5f7...|    12000.0|      12000.0|       36 months|         6.49|             367.74|  Feb-2015| Fully Paid|       credit_card|Credit card refin...|\n",
       "|40361421|1f9bcde5a863520ef...|     3500.0|       3500.0|       36 months|        15.59|             122.35|  Feb-2015| Fully Paid|             other|               Other|\n",
       "|40352113|1809df0b4a0abe9b0...|     5300.0|       5300.0|       36 months|        17.14|             189.33|  Feb-2015| Fully Paid|             other|               Other|\n",
       "|39530485|6da09f2e86c405a0c...|    22375.0|      22375.0|       60 months|        17.14|             557.77|  Feb-2015| Fully Paid|       credit_card|Credit card refin...|\n",
       "|40411601|0229fe984f04c4817...|    32500.0|      32500.0|       60 months|        15.99|             790.17|  Feb-2015| Fully Paid|debt_consolidation|  Debt consolidation|\n",
       "|40461483|d8868b8f86fc7c7ea...|    10075.0|      10075.0|       36 months|        14.99|             349.21|  Feb-2015|Charged Off|debt_consolidation|  Debt consolidation|\n",
       "+--------+--------------------+-----------+-------------+----------------+-------------+-------------------+----------+-----------+------------------+--------------------+\n",
       "only showing top 20 rows"
      ]
     },
     "execution_count": 4,
     "metadata": {},
     "output_type": "execute_result"
    }
   ],
   "source": [
    "loans"
   ]
  },
  {
   "cell_type": "markdown",
   "id": "3813428a",
   "metadata": {},
   "source": [
    "# Adding current time stanmp"
   ]
  },
  {
   "cell_type": "code",
   "execution_count": 5,
   "id": "d32d520e",
   "metadata": {},
   "outputs": [],
   "source": [
    "loansIngestedTime = loans.withColumn('IngestedTimeStamp', current_timestamp())"
   ]
  },
  {
   "cell_type": "code",
   "execution_count": 6,
   "id": "95dc1e69",
   "metadata": {},
   "outputs": [
    {
     "data": {
      "text/html": [
       "<table border='1'>\n",
       "<tr><th>loan_id</th><th>member_id</th><th>loan_amount</th><th>funded_amount</th><th>loan_term_months</th><th>interest_rate</th><th>monthly_installment</th><th>issue_date</th><th>loan_status</th><th>loan_purpose</th><th>loan_title</th><th>IngestedTimeStamp</th></tr>\n",
       "<tr><td>40391322</td><td>4480925324607267c...</td><td>35000.0</td><td>35000.0</td><td>60 months</td><td>19.99</td><td>927.1</td><td>Feb-2015</td><td>Fully Paid</td><td>debt_consolidation</td><td>Debt consolidation</td><td>2024-11-13 09:02:...</td></tr>\n",
       "<tr><td>40461475</td><td>b54711d4a553ea330...</td><td>5600.0</td><td>5600.0</td><td>36 months</td><td>14.31</td><td>192.24</td><td>Feb-2015</td><td>Charged Off</td><td>debt_consolidation</td><td>Debt consolidation</td><td>2024-11-13 09:02:...</td></tr>\n",
       "<tr><td>40361493</td><td>db06b45a938f1a3b5...</td><td>2925.0</td><td>2925.0</td><td>36 months</td><td>16.49</td><td>103.55</td><td>Feb-2015</td><td>Fully Paid</td><td>credit_card</td><td>Credit card refin...</td><td>2024-11-13 09:02:...</td></tr>\n",
       "<tr><td>38615026</td><td>ad9d9524477e85c11...</td><td>12300.0</td><td>12300.0</td><td>36 months</td><td>7.49</td><td>382.55</td><td>Feb-2015</td><td>Fully Paid</td><td>credit_card</td><td>Credit card refin...</td><td>2024-11-13 09:02:...</td></tr>\n",
       "<tr><td>40451319</td><td>c67f6ac3fea6ef46d...</td><td>12000.0</td><td>12000.0</td><td>36 months</td><td>10.49</td><td>389.98</td><td>Feb-2015</td><td>Fully Paid</td><td>debt_consolidation</td><td>Debt consolidation</td><td>2024-11-13 09:02:...</td></tr>\n",
       "<tr><td>40287423</td><td>bb36e2cb69517fac3...</td><td>11625.0</td><td>11625.0</td><td>36 months</td><td>19.99</td><td>431.97</td><td>Feb-2015</td><td>Charged Off</td><td>debt_consolidation</td><td>Debt consolidation</td><td>2024-11-13 09:02:...</td></tr>\n",
       "<tr><td>39987662</td><td>af69a7dff814fb213...</td><td>6500.0</td><td>6500.0</td><td>36 months</td><td>14.99</td><td>225.3</td><td>Feb-2015</td><td>Fully Paid</td><td>debt_consolidation</td><td>Debt consolidation</td><td>2024-11-13 09:02:...</td></tr>\n",
       "<tr><td>40360143</td><td>c9c794b5025e14a7d...</td><td>20950.0</td><td>20950.0</td><td>36 months</td><td>17.86</td><td>755.93</td><td>Feb-2015</td><td>Charged Off</td><td>debt_consolidation</td><td>Debt consolidation</td><td>2024-11-13 09:02:...</td></tr>\n",
       "<tr><td>40510540</td><td>61b48d763bd82369a...</td><td>22000.0</td><td>22000.0</td><td>36 months</td><td>9.49</td><td>704.63</td><td>Feb-2015</td><td>Fully Paid</td><td>credit_card</td><td>Credit card refin...</td><td>2024-11-13 09:02:...</td></tr>\n",
       "<tr><td>40581708</td><td>adc390ceaa6428ba4...</td><td>5000.0</td><td>5000.0</td><td>36 months</td><td>12.99</td><td>168.45</td><td>Feb-2015</td><td>Fully Paid</td><td>debt_consolidation</td><td>Debt consolidation</td><td>2024-11-13 09:02:...</td></tr>\n",
       "<tr><td>39721566</td><td>b8591b1957416d0d0...</td><td>15150.0</td><td>15150.0</td><td>36 months</td><td>15.59</td><td>529.57</td><td>Feb-2015</td><td>Fully Paid</td><td>debt_consolidation</td><td>Debt consolidation</td><td>2024-11-13 09:02:...</td></tr>\n",
       "<tr><td>40490766</td><td>edf6bc814b2514406...</td><td>10000.0</td><td>10000.0</td><td>36 months</td><td>14.99</td><td>346.61</td><td>Feb-2015</td><td>Fully Paid</td><td>debt_consolidation</td><td>Debt consolidation</td><td>2024-11-13 09:02:...</td></tr>\n",
       "<tr><td>40391051</td><td>cbb2027fdad44e370...</td><td>18500.0</td><td>18500.0</td><td>36 months</td><td>12.99</td><td>623.25</td><td>Feb-2015</td><td>Fully Paid</td><td>debt_consolidation</td><td>Debt consolidation</td><td>2024-11-13 09:02:...</td></tr>\n",
       "<tr><td>40451607</td><td>2833e66fc35f729ff...</td><td>7200.0</td><td>7200.0</td><td>36 months</td><td>14.31</td><td>247.17</td><td>Feb-2015</td><td>Fully Paid</td><td>other</td><td>Other</td><td>2024-11-13 09:02:...</td></tr>\n",
       "<tr><td>40591290</td><td>30257f9f7bb1ee5f7...</td><td>12000.0</td><td>12000.0</td><td>36 months</td><td>6.49</td><td>367.74</td><td>Feb-2015</td><td>Fully Paid</td><td>credit_card</td><td>Credit card refin...</td><td>2024-11-13 09:02:...</td></tr>\n",
       "<tr><td>40361421</td><td>1f9bcde5a863520ef...</td><td>3500.0</td><td>3500.0</td><td>36 months</td><td>15.59</td><td>122.35</td><td>Feb-2015</td><td>Fully Paid</td><td>other</td><td>Other</td><td>2024-11-13 09:02:...</td></tr>\n",
       "<tr><td>40352113</td><td>1809df0b4a0abe9b0...</td><td>5300.0</td><td>5300.0</td><td>36 months</td><td>17.14</td><td>189.33</td><td>Feb-2015</td><td>Fully Paid</td><td>other</td><td>Other</td><td>2024-11-13 09:02:...</td></tr>\n",
       "<tr><td>39530485</td><td>6da09f2e86c405a0c...</td><td>22375.0</td><td>22375.0</td><td>60 months</td><td>17.14</td><td>557.77</td><td>Feb-2015</td><td>Fully Paid</td><td>credit_card</td><td>Credit card refin...</td><td>2024-11-13 09:02:...</td></tr>\n",
       "<tr><td>40411601</td><td>0229fe984f04c4817...</td><td>32500.0</td><td>32500.0</td><td>60 months</td><td>15.99</td><td>790.17</td><td>Feb-2015</td><td>Fully Paid</td><td>debt_consolidation</td><td>Debt consolidation</td><td>2024-11-13 09:02:...</td></tr>\n",
       "<tr><td>40461483</td><td>d8868b8f86fc7c7ea...</td><td>10075.0</td><td>10075.0</td><td>36 months</td><td>14.99</td><td>349.21</td><td>Feb-2015</td><td>Charged Off</td><td>debt_consolidation</td><td>Debt consolidation</td><td>2024-11-13 09:02:...</td></tr>\n",
       "</table>\n",
       "only showing top 20 rows\n"
      ],
      "text/plain": [
       "+--------+--------------------+-----------+-------------+----------------+-------------+-------------------+----------+-----------+------------------+--------------------+--------------------+\n",
       "| loan_id|           member_id|loan_amount|funded_amount|loan_term_months|interest_rate|monthly_installment|issue_date|loan_status|      loan_purpose|          loan_title|   IngestedTimeStamp|\n",
       "+--------+--------------------+-----------+-------------+----------------+-------------+-------------------+----------+-----------+------------------+--------------------+--------------------+\n",
       "|40391322|4480925324607267c...|    35000.0|      35000.0|       60 months|        19.99|              927.1|  Feb-2015| Fully Paid|debt_consolidation|  Debt consolidation|2024-11-13 09:02:...|\n",
       "|40461475|b54711d4a553ea330...|     5600.0|       5600.0|       36 months|        14.31|             192.24|  Feb-2015|Charged Off|debt_consolidation|  Debt consolidation|2024-11-13 09:02:...|\n",
       "|40361493|db06b45a938f1a3b5...|     2925.0|       2925.0|       36 months|        16.49|             103.55|  Feb-2015| Fully Paid|       credit_card|Credit card refin...|2024-11-13 09:02:...|\n",
       "|38615026|ad9d9524477e85c11...|    12300.0|      12300.0|       36 months|         7.49|             382.55|  Feb-2015| Fully Paid|       credit_card|Credit card refin...|2024-11-13 09:02:...|\n",
       "|40451319|c67f6ac3fea6ef46d...|    12000.0|      12000.0|       36 months|        10.49|             389.98|  Feb-2015| Fully Paid|debt_consolidation|  Debt consolidation|2024-11-13 09:02:...|\n",
       "|40287423|bb36e2cb69517fac3...|    11625.0|      11625.0|       36 months|        19.99|             431.97|  Feb-2015|Charged Off|debt_consolidation|  Debt consolidation|2024-11-13 09:02:...|\n",
       "|39987662|af69a7dff814fb213...|     6500.0|       6500.0|       36 months|        14.99|              225.3|  Feb-2015| Fully Paid|debt_consolidation|  Debt consolidation|2024-11-13 09:02:...|\n",
       "|40360143|c9c794b5025e14a7d...|    20950.0|      20950.0|       36 months|        17.86|             755.93|  Feb-2015|Charged Off|debt_consolidation|  Debt consolidation|2024-11-13 09:02:...|\n",
       "|40510540|61b48d763bd82369a...|    22000.0|      22000.0|       36 months|         9.49|             704.63|  Feb-2015| Fully Paid|       credit_card|Credit card refin...|2024-11-13 09:02:...|\n",
       "|40581708|adc390ceaa6428ba4...|     5000.0|       5000.0|       36 months|        12.99|             168.45|  Feb-2015| Fully Paid|debt_consolidation|  Debt consolidation|2024-11-13 09:02:...|\n",
       "|39721566|b8591b1957416d0d0...|    15150.0|      15150.0|       36 months|        15.59|             529.57|  Feb-2015| Fully Paid|debt_consolidation|  Debt consolidation|2024-11-13 09:02:...|\n",
       "|40490766|edf6bc814b2514406...|    10000.0|      10000.0|       36 months|        14.99|             346.61|  Feb-2015| Fully Paid|debt_consolidation|  Debt consolidation|2024-11-13 09:02:...|\n",
       "|40391051|cbb2027fdad44e370...|    18500.0|      18500.0|       36 months|        12.99|             623.25|  Feb-2015| Fully Paid|debt_consolidation|  Debt consolidation|2024-11-13 09:02:...|\n",
       "|40451607|2833e66fc35f729ff...|     7200.0|       7200.0|       36 months|        14.31|             247.17|  Feb-2015| Fully Paid|             other|               Other|2024-11-13 09:02:...|\n",
       "|40591290|30257f9f7bb1ee5f7...|    12000.0|      12000.0|       36 months|         6.49|             367.74|  Feb-2015| Fully Paid|       credit_card|Credit card refin...|2024-11-13 09:02:...|\n",
       "|40361421|1f9bcde5a863520ef...|     3500.0|       3500.0|       36 months|        15.59|             122.35|  Feb-2015| Fully Paid|             other|               Other|2024-11-13 09:02:...|\n",
       "|40352113|1809df0b4a0abe9b0...|     5300.0|       5300.0|       36 months|        17.14|             189.33|  Feb-2015| Fully Paid|             other|               Other|2024-11-13 09:02:...|\n",
       "|39530485|6da09f2e86c405a0c...|    22375.0|      22375.0|       60 months|        17.14|             557.77|  Feb-2015| Fully Paid|       credit_card|Credit card refin...|2024-11-13 09:02:...|\n",
       "|40411601|0229fe984f04c4817...|    32500.0|      32500.0|       60 months|        15.99|             790.17|  Feb-2015| Fully Paid|debt_consolidation|  Debt consolidation|2024-11-13 09:02:...|\n",
       "|40461483|d8868b8f86fc7c7ea...|    10075.0|      10075.0|       36 months|        14.99|             349.21|  Feb-2015|Charged Off|debt_consolidation|  Debt consolidation|2024-11-13 09:02:...|\n",
       "+--------+--------------------+-----------+-------------+----------------+-------------+-------------------+----------+-----------+------------------+--------------------+--------------------+\n",
       "only showing top 20 rows"
      ]
     },
     "execution_count": 6,
     "metadata": {},
     "output_type": "execute_result"
    }
   ],
   "source": [
    "loansIngestedTime"
   ]
  },
  {
   "cell_type": "markdown",
   "id": "9f174cd9",
   "metadata": {},
   "source": [
    "# Dropping the rows which has null values in the mentioned columns"
   ]
  },
  {
   "cell_type": "code",
   "execution_count": 7,
   "id": "fd795129",
   "metadata": {},
   "outputs": [],
   "source": [
    "columnsLookup = [\"loan_amount\", \"funded_amount\", \"loan_term_months\", \"interest_rate\", \"monthly_installment\", \"issue_date\", \"loan_status\", \"loan_purpose\"]"
   ]
  },
  {
   "cell_type": "code",
   "execution_count": 8,
   "id": "a7da1562",
   "metadata": {},
   "outputs": [],
   "source": [
    "loansFiltered = loansIngestedTime.na.drop(subset = columnsLookup)"
   ]
  },
  {
   "cell_type": "code",
   "execution_count": 9,
   "id": "f28008e4",
   "metadata": {},
   "outputs": [
    {
     "data": {
      "text/plain": [
       "2260667"
      ]
     },
     "execution_count": 9,
     "metadata": {},
     "output_type": "execute_result"
    }
   ],
   "source": [
    "loansFiltered.count()"
   ]
  },
  {
   "cell_type": "code",
   "execution_count": 10,
   "id": "77389164",
   "metadata": {},
   "outputs": [
    {
     "data": {
      "text/plain": [
       "2260701"
      ]
     },
     "execution_count": 10,
     "metadata": {},
     "output_type": "execute_result"
    }
   ],
   "source": [
    "loansIngestedTime.count()"
   ]
  },
  {
   "cell_type": "markdown",
   "id": "2cf51107",
   "metadata": {},
   "source": [
    "# convert loan_term_months to integer"
   ]
  },
  {
   "cell_type": "code",
   "execution_count": 16,
   "id": "3c766122",
   "metadata": {},
   "outputs": [
    {
     "data": {
      "text/html": [
       "<table border='1'>\n",
       "<tr><th>loan_id</th><th>member_id</th><th>loan_amount</th><th>funded_amount</th><th>loan_term_years</th><th>interest_rate</th><th>monthly_installment</th><th>issue_date</th><th>loan_status</th><th>loan_purpose</th><th>loan_title</th><th>IngestedTimeStamp</th></tr>\n",
       "<tr><td>40391322</td><td>4480925324607267c...</td><td>35000.0</td><td>35000.0</td><td>5</td><td>19.99</td><td>927.1</td><td>Feb-2015</td><td>Fully Paid</td><td>debt_consolidation</td><td>Debt consolidation</td><td>2024-11-13 09:04:...</td></tr>\n",
       "<tr><td>40461475</td><td>b54711d4a553ea330...</td><td>5600.0</td><td>5600.0</td><td>3</td><td>14.31</td><td>192.24</td><td>Feb-2015</td><td>Charged Off</td><td>debt_consolidation</td><td>Debt consolidation</td><td>2024-11-13 09:04:...</td></tr>\n",
       "<tr><td>40361493</td><td>db06b45a938f1a3b5...</td><td>2925.0</td><td>2925.0</td><td>3</td><td>16.49</td><td>103.55</td><td>Feb-2015</td><td>Fully Paid</td><td>credit_card</td><td>Credit card refin...</td><td>2024-11-13 09:04:...</td></tr>\n",
       "<tr><td>38615026</td><td>ad9d9524477e85c11...</td><td>12300.0</td><td>12300.0</td><td>3</td><td>7.49</td><td>382.55</td><td>Feb-2015</td><td>Fully Paid</td><td>credit_card</td><td>Credit card refin...</td><td>2024-11-13 09:04:...</td></tr>\n",
       "<tr><td>40451319</td><td>c67f6ac3fea6ef46d...</td><td>12000.0</td><td>12000.0</td><td>3</td><td>10.49</td><td>389.98</td><td>Feb-2015</td><td>Fully Paid</td><td>debt_consolidation</td><td>Debt consolidation</td><td>2024-11-13 09:04:...</td></tr>\n",
       "<tr><td>40287423</td><td>bb36e2cb69517fac3...</td><td>11625.0</td><td>11625.0</td><td>3</td><td>19.99</td><td>431.97</td><td>Feb-2015</td><td>Charged Off</td><td>debt_consolidation</td><td>Debt consolidation</td><td>2024-11-13 09:04:...</td></tr>\n",
       "<tr><td>39987662</td><td>af69a7dff814fb213...</td><td>6500.0</td><td>6500.0</td><td>3</td><td>14.99</td><td>225.3</td><td>Feb-2015</td><td>Fully Paid</td><td>debt_consolidation</td><td>Debt consolidation</td><td>2024-11-13 09:04:...</td></tr>\n",
       "<tr><td>40360143</td><td>c9c794b5025e14a7d...</td><td>20950.0</td><td>20950.0</td><td>3</td><td>17.86</td><td>755.93</td><td>Feb-2015</td><td>Charged Off</td><td>debt_consolidation</td><td>Debt consolidation</td><td>2024-11-13 09:04:...</td></tr>\n",
       "<tr><td>40510540</td><td>61b48d763bd82369a...</td><td>22000.0</td><td>22000.0</td><td>3</td><td>9.49</td><td>704.63</td><td>Feb-2015</td><td>Fully Paid</td><td>credit_card</td><td>Credit card refin...</td><td>2024-11-13 09:04:...</td></tr>\n",
       "<tr><td>40581708</td><td>adc390ceaa6428ba4...</td><td>5000.0</td><td>5000.0</td><td>3</td><td>12.99</td><td>168.45</td><td>Feb-2015</td><td>Fully Paid</td><td>debt_consolidation</td><td>Debt consolidation</td><td>2024-11-13 09:04:...</td></tr>\n",
       "<tr><td>39721566</td><td>b8591b1957416d0d0...</td><td>15150.0</td><td>15150.0</td><td>3</td><td>15.59</td><td>529.57</td><td>Feb-2015</td><td>Fully Paid</td><td>debt_consolidation</td><td>Debt consolidation</td><td>2024-11-13 09:04:...</td></tr>\n",
       "<tr><td>40490766</td><td>edf6bc814b2514406...</td><td>10000.0</td><td>10000.0</td><td>3</td><td>14.99</td><td>346.61</td><td>Feb-2015</td><td>Fully Paid</td><td>debt_consolidation</td><td>Debt consolidation</td><td>2024-11-13 09:04:...</td></tr>\n",
       "<tr><td>40391051</td><td>cbb2027fdad44e370...</td><td>18500.0</td><td>18500.0</td><td>3</td><td>12.99</td><td>623.25</td><td>Feb-2015</td><td>Fully Paid</td><td>debt_consolidation</td><td>Debt consolidation</td><td>2024-11-13 09:04:...</td></tr>\n",
       "<tr><td>40451607</td><td>2833e66fc35f729ff...</td><td>7200.0</td><td>7200.0</td><td>3</td><td>14.31</td><td>247.17</td><td>Feb-2015</td><td>Fully Paid</td><td>other</td><td>Other</td><td>2024-11-13 09:04:...</td></tr>\n",
       "<tr><td>40591290</td><td>30257f9f7bb1ee5f7...</td><td>12000.0</td><td>12000.0</td><td>3</td><td>6.49</td><td>367.74</td><td>Feb-2015</td><td>Fully Paid</td><td>credit_card</td><td>Credit card refin...</td><td>2024-11-13 09:04:...</td></tr>\n",
       "<tr><td>40361421</td><td>1f9bcde5a863520ef...</td><td>3500.0</td><td>3500.0</td><td>3</td><td>15.59</td><td>122.35</td><td>Feb-2015</td><td>Fully Paid</td><td>other</td><td>Other</td><td>2024-11-13 09:04:...</td></tr>\n",
       "<tr><td>40352113</td><td>1809df0b4a0abe9b0...</td><td>5300.0</td><td>5300.0</td><td>3</td><td>17.14</td><td>189.33</td><td>Feb-2015</td><td>Fully Paid</td><td>other</td><td>Other</td><td>2024-11-13 09:04:...</td></tr>\n",
       "<tr><td>39530485</td><td>6da09f2e86c405a0c...</td><td>22375.0</td><td>22375.0</td><td>5</td><td>17.14</td><td>557.77</td><td>Feb-2015</td><td>Fully Paid</td><td>credit_card</td><td>Credit card refin...</td><td>2024-11-13 09:04:...</td></tr>\n",
       "<tr><td>40411601</td><td>0229fe984f04c4817...</td><td>32500.0</td><td>32500.0</td><td>5</td><td>15.99</td><td>790.17</td><td>Feb-2015</td><td>Fully Paid</td><td>debt_consolidation</td><td>Debt consolidation</td><td>2024-11-13 09:04:...</td></tr>\n",
       "<tr><td>40461483</td><td>d8868b8f86fc7c7ea...</td><td>10075.0</td><td>10075.0</td><td>3</td><td>14.99</td><td>349.21</td><td>Feb-2015</td><td>Charged Off</td><td>debt_consolidation</td><td>Debt consolidation</td><td>2024-11-13 09:04:...</td></tr>\n",
       "</table>\n",
       "only showing top 20 rows\n"
      ],
      "text/plain": [
       "+--------+--------------------+-----------+-------------+---------------+-------------+-------------------+----------+-----------+------------------+--------------------+--------------------+\n",
       "| loan_id|           member_id|loan_amount|funded_amount|loan_term_years|interest_rate|monthly_installment|issue_date|loan_status|      loan_purpose|          loan_title|   IngestedTimeStamp|\n",
       "+--------+--------------------+-----------+-------------+---------------+-------------+-------------------+----------+-----------+------------------+--------------------+--------------------+\n",
       "|40391322|4480925324607267c...|    35000.0|      35000.0|              5|        19.99|              927.1|  Feb-2015| Fully Paid|debt_consolidation|  Debt consolidation|2024-11-13 09:04:...|\n",
       "|40461475|b54711d4a553ea330...|     5600.0|       5600.0|              3|        14.31|             192.24|  Feb-2015|Charged Off|debt_consolidation|  Debt consolidation|2024-11-13 09:04:...|\n",
       "|40361493|db06b45a938f1a3b5...|     2925.0|       2925.0|              3|        16.49|             103.55|  Feb-2015| Fully Paid|       credit_card|Credit card refin...|2024-11-13 09:04:...|\n",
       "|38615026|ad9d9524477e85c11...|    12300.0|      12300.0|              3|         7.49|             382.55|  Feb-2015| Fully Paid|       credit_card|Credit card refin...|2024-11-13 09:04:...|\n",
       "|40451319|c67f6ac3fea6ef46d...|    12000.0|      12000.0|              3|        10.49|             389.98|  Feb-2015| Fully Paid|debt_consolidation|  Debt consolidation|2024-11-13 09:04:...|\n",
       "|40287423|bb36e2cb69517fac3...|    11625.0|      11625.0|              3|        19.99|             431.97|  Feb-2015|Charged Off|debt_consolidation|  Debt consolidation|2024-11-13 09:04:...|\n",
       "|39987662|af69a7dff814fb213...|     6500.0|       6500.0|              3|        14.99|              225.3|  Feb-2015| Fully Paid|debt_consolidation|  Debt consolidation|2024-11-13 09:04:...|\n",
       "|40360143|c9c794b5025e14a7d...|    20950.0|      20950.0|              3|        17.86|             755.93|  Feb-2015|Charged Off|debt_consolidation|  Debt consolidation|2024-11-13 09:04:...|\n",
       "|40510540|61b48d763bd82369a...|    22000.0|      22000.0|              3|         9.49|             704.63|  Feb-2015| Fully Paid|       credit_card|Credit card refin...|2024-11-13 09:04:...|\n",
       "|40581708|adc390ceaa6428ba4...|     5000.0|       5000.0|              3|        12.99|             168.45|  Feb-2015| Fully Paid|debt_consolidation|  Debt consolidation|2024-11-13 09:04:...|\n",
       "|39721566|b8591b1957416d0d0...|    15150.0|      15150.0|              3|        15.59|             529.57|  Feb-2015| Fully Paid|debt_consolidation|  Debt consolidation|2024-11-13 09:04:...|\n",
       "|40490766|edf6bc814b2514406...|    10000.0|      10000.0|              3|        14.99|             346.61|  Feb-2015| Fully Paid|debt_consolidation|  Debt consolidation|2024-11-13 09:04:...|\n",
       "|40391051|cbb2027fdad44e370...|    18500.0|      18500.0|              3|        12.99|             623.25|  Feb-2015| Fully Paid|debt_consolidation|  Debt consolidation|2024-11-13 09:04:...|\n",
       "|40451607|2833e66fc35f729ff...|     7200.0|       7200.0|              3|        14.31|             247.17|  Feb-2015| Fully Paid|             other|               Other|2024-11-13 09:04:...|\n",
       "|40591290|30257f9f7bb1ee5f7...|    12000.0|      12000.0|              3|         6.49|             367.74|  Feb-2015| Fully Paid|       credit_card|Credit card refin...|2024-11-13 09:04:...|\n",
       "|40361421|1f9bcde5a863520ef...|     3500.0|       3500.0|              3|        15.59|             122.35|  Feb-2015| Fully Paid|             other|               Other|2024-11-13 09:04:...|\n",
       "|40352113|1809df0b4a0abe9b0...|     5300.0|       5300.0|              3|        17.14|             189.33|  Feb-2015| Fully Paid|             other|               Other|2024-11-13 09:04:...|\n",
       "|39530485|6da09f2e86c405a0c...|    22375.0|      22375.0|              5|        17.14|             557.77|  Feb-2015| Fully Paid|       credit_card|Credit card refin...|2024-11-13 09:04:...|\n",
       "|40411601|0229fe984f04c4817...|    32500.0|      32500.0|              5|        15.99|             790.17|  Feb-2015| Fully Paid|debt_consolidation|  Debt consolidation|2024-11-13 09:04:...|\n",
       "|40461483|d8868b8f86fc7c7ea...|    10075.0|      10075.0|              3|        14.99|             349.21|  Feb-2015|Charged Off|debt_consolidation|  Debt consolidation|2024-11-13 09:04:...|\n",
       "+--------+--------------------+-----------+-------------+---------------+-------------+-------------------+----------+-----------+------------------+--------------------+--------------------+\n",
       "only showing top 20 rows"
      ]
     },
     "execution_count": 16,
     "metadata": {},
     "output_type": "execute_result"
    }
   ],
   "source": [
    "loansReplaced = loansFiltered.withColumn('loan_term_months',(regexp_replace(col('loan_term_months'),'(\\D)',\"\").cast('int')/12).cast('int'))\n",
    "loans_Replaced = loansReplaced.withColumnRenamed('loan_term_months','loan_term_years')\n",
    "loans_Replaced"
   ]
  },
  {
   "cell_type": "code",
   "execution_count": 17,
   "id": "0b04bea8",
   "metadata": {},
   "outputs": [
    {
     "name": "stdout",
     "output_type": "stream",
     "text": [
      "root\n",
      " |-- loan_id: string (nullable = true)\n",
      " |-- member_id: string (nullable = true)\n",
      " |-- loan_amount: float (nullable = true)\n",
      " |-- funded_amount: float (nullable = true)\n",
      " |-- loan_term_months: integer (nullable = true)\n",
      " |-- interest_rate: float (nullable = true)\n",
      " |-- monthly_installment: float (nullable = true)\n",
      " |-- issue_date: string (nullable = true)\n",
      " |-- loan_status: string (nullable = true)\n",
      " |-- loan_purpose: string (nullable = true)\n",
      " |-- loan_title: string (nullable = true)\n",
      " |-- IngestedTimeStamp: timestamp (nullable = false)\n",
      "\n"
     ]
    }
   ],
   "source": [
    "loansReplaced.printSchema()"
   ]
  },
  {
   "cell_type": "markdown",
   "id": "ab59cdca",
   "metadata": {},
   "source": [
    "# Clean the loans_purpose column"
   ]
  },
  {
   "cell_type": "code",
   "execution_count": 18,
   "id": "5d409744",
   "metadata": {},
   "outputs": [
    {
     "data": {
      "text/html": [
       "<table border='1'>\n",
       "<tr><th>loan_purpose</th></tr>\n",
       "<tr><td>guaranteed!&quot;</td></tr>\n",
       "<tr><td>and if they are a...</td></tr>\n",
       "<tr><td>never had any tro...</td></tr>\n",
       "<tr><td>Bank of America c...</td></tr>\n",
       "<tr><td>&lt;br/&gt;&lt;br/&gt;Lending...</td></tr>\n",
       "<tr><td>stocks</td></tr>\n",
       "<tr><td>please feel free ...</td></tr>\n",
       "<tr><td>I became his prim...</td></tr>\n",
       "<tr><td>brakes</td></tr>\n",
       "<tr><td>on one of the bus...</td></tr>\n",
       "<tr><td>because of the na...</td></tr>\n",
       "<tr><td>progressive multi...</td></tr>\n",
       "<tr><td>but not much info...</td></tr>\n",
       "<tr><td>I have eliminated...</td></tr>\n",
       "<tr><td>TutoringOne is a ...</td></tr>\n",
       "<tr><td>so I have to pay ...</td></tr>\n",
       "<tr><td>you may feel conf...</td></tr>\n",
       "<tr><td>Hilal Khalil Homa...</td></tr>\n",
       "<tr><td>000 in debt on cr...</td></tr>\n",
       "<tr><td>and the monthly p...</td></tr>\n",
       "</table>\n",
       "only showing top 20 rows\n"
      ],
      "text/plain": [
       "+--------------------+\n",
       "|        loan_purpose|\n",
       "+--------------------+\n",
       "|        guaranteed!\"|\n",
       "|and if they are a...|\n",
       "|never had any tro...|\n",
       "|<br/><br/>Lending...|\n",
       "|Bank of America c...|\n",
       "|              stocks|\n",
       "|please feel free ...|\n",
       "|I became his prim...|\n",
       "|              brakes|\n",
       "|on one of the bus...|\n",
       "|because of the na...|\n",
       "|progressive multi...|\n",
       "|but not much info...|\n",
       "|I have eliminated...|\n",
       "|TutoringOne is a ...|\n",
       "|you may feel conf...|\n",
       "|so I have to pay ...|\n",
       "|Hilal Khalil Homa...|\n",
       "|000 in debt on cr...|\n",
       "|and the monthly p...|\n",
       "+--------------------+\n",
       "only showing top 20 rows"
      ]
     },
     "execution_count": 18,
     "metadata": {},
     "output_type": "execute_result"
    }
   ],
   "source": [
    "loansReplaced.select('loan_purpose').distinct()"
   ]
  },
  {
   "cell_type": "code",
   "execution_count": 20,
   "id": "2f223220",
   "metadata": {},
   "outputs": [
    {
     "data": {
      "text/html": [
       "<table border='1'>\n",
       "<tr><th>loan_purpose</th><th>count</th></tr>\n",
       "<tr><td>debt_consolidation</td><td>1277790</td></tr>\n",
       "<tr><td>credit_card</td><td>516926</td></tr>\n",
       "<tr><td>home_improvement</td><td>150440</td></tr>\n",
       "<tr><td>other</td><td>139413</td></tr>\n",
       "<tr><td>major_purchase</td><td>50429</td></tr>\n",
       "<tr><td>medical</td><td>27481</td></tr>\n",
       "<tr><td>small_business</td><td>24659</td></tr>\n",
       "<tr><td>car</td><td>24009</td></tr>\n",
       "<tr><td>vacation</td><td>15525</td></tr>\n",
       "<tr><td>moving</td><td>15402</td></tr>\n",
       "<tr><td>house</td><td>14131</td></tr>\n",
       "<tr><td>wedding</td><td>2351</td></tr>\n",
       "<tr><td>renewable_energy</td><td>1445</td></tr>\n",
       "<tr><td>educational</td><td>412</td></tr>\n",
       "<tr><td>but we cant all b...</td><td>1</td></tr>\n",
       "<tr><td>brakes</td><td>1</td></tr>\n",
       "<tr><td>&lt;br/&gt;&lt;br/&gt;Lending...</td><td>1</td></tr>\n",
       "<tr><td>on one of the bus...</td><td>1</td></tr>\n",
       "<tr><td>guaranteed!&quot;</td><td>1</td></tr>\n",
       "<tr><td>because of the na...</td><td>1</td></tr>\n",
       "</table>\n",
       "only showing top 20 rows\n"
      ],
      "text/plain": [
       "+--------------------+-------+\n",
       "|        loan_purpose|  count|\n",
       "+--------------------+-------+\n",
       "|  debt_consolidation|1277790|\n",
       "|         credit_card| 516926|\n",
       "|    home_improvement| 150440|\n",
       "|               other| 139413|\n",
       "|      major_purchase|  50429|\n",
       "|             medical|  27481|\n",
       "|      small_business|  24659|\n",
       "|                 car|  24009|\n",
       "|            vacation|  15525|\n",
       "|              moving|  15402|\n",
       "|               house|  14131|\n",
       "|             wedding|   2351|\n",
       "|    renewable_energy|   1445|\n",
       "|         educational|    412|\n",
       "|never had any tro...|      1|\n",
       "|on one of the bus...|      1|\n",
       "|progressive multi...|      1|\n",
       "|because of the na...|      1|\n",
       "|TutoringOne is a ...|      1|\n",
       "|you may feel conf...|      1|\n",
       "+--------------------+-------+\n",
       "only showing top 20 rows"
      ]
     },
     "execution_count": 20,
     "metadata": {},
     "output_type": "execute_result"
    }
   ],
   "source": [
    "loansReplaced.groupBy('loan_purpose').count().orderBy(desc('count'))"
   ]
  },
  {
   "cell_type": "code",
   "execution_count": 21,
   "id": "b7c82099",
   "metadata": {},
   "outputs": [],
   "source": [
    "purposeLookUp = [\"debt_consolidation\", \"credit_card\", \"home_improvement\", \"other\", \"major_purchase\", \"medical\", \"small_business\", \"car\", \"vacation\", \"moving\", \"house\", \"wedding\", \"renewable_energy\", \"educational\"]"
   ]
  },
  {
   "cell_type": "code",
   "execution_count": 23,
   "id": "b656b574",
   "metadata": {},
   "outputs": [],
   "source": [
    "loansPurposeModified = loansReplaced.withColumn(\"loan_purpose\", when(col(\"loan_purpose\").isin(purposeLookUp), col(\"loan_purpose\")).otherwise(\"other\"))"
   ]
  },
  {
   "cell_type": "code",
   "execution_count": 24,
   "id": "449aa340",
   "metadata": {},
   "outputs": [
    {
     "data": {
      "text/html": [
       "<table border='1'>\n",
       "<tr><th>loan_purpose</th><th>count</th></tr>\n",
       "<tr><td>debt_consolidation</td><td>1277790</td></tr>\n",
       "<tr><td>credit_card</td><td>516926</td></tr>\n",
       "<tr><td>home_improvement</td><td>150440</td></tr>\n",
       "<tr><td>other</td><td>139667</td></tr>\n",
       "<tr><td>major_purchase</td><td>50429</td></tr>\n",
       "<tr><td>medical</td><td>27481</td></tr>\n",
       "<tr><td>small_business</td><td>24659</td></tr>\n",
       "<tr><td>car</td><td>24009</td></tr>\n",
       "<tr><td>vacation</td><td>15525</td></tr>\n",
       "<tr><td>moving</td><td>15402</td></tr>\n",
       "<tr><td>house</td><td>14131</td></tr>\n",
       "<tr><td>wedding</td><td>2351</td></tr>\n",
       "<tr><td>renewable_energy</td><td>1445</td></tr>\n",
       "<tr><td>educational</td><td>412</td></tr>\n",
       "</table>\n"
      ],
      "text/plain": [
       "+------------------+-------+\n",
       "|      loan_purpose|  count|\n",
       "+------------------+-------+\n",
       "|debt_consolidation|1277790|\n",
       "|       credit_card| 516926|\n",
       "|  home_improvement| 150440|\n",
       "|             other| 139667|\n",
       "|    major_purchase|  50429|\n",
       "|           medical|  27481|\n",
       "|    small_business|  24659|\n",
       "|               car|  24009|\n",
       "|          vacation|  15525|\n",
       "|            moving|  15402|\n",
       "|             house|  14131|\n",
       "|           wedding|   2351|\n",
       "|  renewable_energy|   1445|\n",
       "|       educational|    412|\n",
       "+------------------+-------+"
      ]
     },
     "execution_count": 24,
     "metadata": {},
     "output_type": "execute_result"
    }
   ],
   "source": [
    "loansPurposeModified.groupBy('loan_purpose').count().orderBy(desc('count'))"
   ]
  },
  {
   "cell_type": "code",
   "execution_count": 26,
   "id": "8e630f8a",
   "metadata": {},
   "outputs": [],
   "source": [
    "loansPurposeModified.write \\\n",
    ".format(\"parquet\") \\\n",
    ".mode(\"overwrite\") \\\n",
    ".option(\"path\", \"/user/anil/lendingClubProject/cleansed/loansParquet\") \\\n",
    ".save()"
   ]
  },
  {
   "cell_type": "code",
   "execution_count": null,
   "id": "6760b5fd",
   "metadata": {},
   "outputs": [],
   "source": [
    "loansPurposeModified.write \\\n",
    ".format(\"csv\") \\\n",
    ".mode(\"overwrite\") \\\n",
    ".option(\"path\", \"/user/anil/lendingClubProject/cleansed/loanscsv\") \\\n",
    ".save()"
   ]
  }
 ],
 "metadata": {
  "kernelspec": {
   "display_name": "Pyspark 3",
   "language": "python",
   "name": "pyspark3"
  },
  "language_info": {
   "codemirror_mode": {
    "name": "ipython",
    "version": 3
   },
   "file_extension": ".py",
   "mimetype": "text/x-python",
   "name": "python",
   "nbconvert_exporter": "python",
   "pygments_lexer": "ipython3",
   "version": "3.6.12"
  }
 },
 "nbformat": 4,
 "nbformat_minor": 5
}
