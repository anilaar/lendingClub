{
 "cells": [
  {
   "cell_type": "code",
   "execution_count": 35,
   "id": "e2c3df4c",
   "metadata": {},
   "outputs": [],
   "source": [
    "from pyspark.sql import SparkSession\n",
    "from pyspark.sql.functions import sha2, concat_ws\n",
    "from pyspark.sql.functions import *\n",
    "spark  = SparkSession.builder\\\n",
    "                    .appName(\"lendingClubProject\")\\\n",
    "                    .config(\"spark.sql.warehouse.dir\",\"/user/anil/warehouse\")\\\n",
    "                    .enableHiveSupport()\\\n",
    "                    .master('yarn')\\\n",
    "                    .getOrCreate()"
   ]
  },
  {
   "cell_type": "markdown",
   "id": "ff4c402c",
   "metadata": {},
   "source": [
    "# Adding Proper Schema"
   ]
  },
  {
   "cell_type": "code",
   "execution_count": 36,
   "id": "45612d8b",
   "metadata": {},
   "outputs": [],
   "source": [
    "loansRepaymentSchema = 'loan_id_ string, total_principal_received float, total_interest_received float, total_late_fee_received float, total_payment_received float, last_payment_amount float, last_payment_date string, next_payment_date string'"
   ]
  },
  {
   "cell_type": "code",
   "execution_count": 37,
   "id": "3df8842f",
   "metadata": {},
   "outputs": [
    {
     "data": {
      "text/html": [
       "<table border='1'>\n",
       "<tr><th>loan_id_</th><th>total_principal_received</th><th>total_interest_received</th><th>total_late_fee_received</th><th>total_payment_received</th><th>last_payment_amount</th><th>last_payment_date</th><th>next_payment_date</th></tr>\n",
       "<tr><td>68407277</td><td>3600.0</td><td>821.72</td><td>0.0</td><td>4421.724</td><td>122.67</td><td>Jan-2019</td><td>null</td></tr>\n",
       "<tr><td>68355089</td><td>24700.0</td><td>979.66</td><td>0.0</td><td>25679.66</td><td>926.35</td><td>Jun-2016</td><td>null</td></tr>\n",
       "<tr><td>68341763</td><td>20000.0</td><td>2705.92</td><td>0.0</td><td>22705.924</td><td>15813.3</td><td>Jun-2017</td><td>null</td></tr>\n",
       "<tr><td>66310712</td><td>19102.35</td><td>12361.66</td><td>0.0</td><td>31464.01</td><td>829.9</td><td>Feb-2019</td><td>Apr-2019</td></tr>\n",
       "<tr><td>68476807</td><td>10400.0</td><td>1340.5</td><td>0.0</td><td>11740.5</td><td>10128.96</td><td>Jul-2016</td><td>null</td></tr>\n",
       "<tr><td>68426831</td><td>11950.0</td><td>1758.95</td><td>0.0</td><td>13708.948</td><td>7653.56</td><td>May-2017</td><td>null</td></tr>\n",
       "<tr><td>68476668</td><td>20000.0</td><td>1393.8</td><td>0.0</td><td>21393.8</td><td>15681.05</td><td>Nov-2016</td><td>null</td></tr>\n",
       "<tr><td>67275481</td><td>20000.0</td><td>1538.51</td><td>0.0</td><td>21538.51</td><td>14618.23</td><td>Jan-2017</td><td>null</td></tr>\n",
       "<tr><td>68466926</td><td>10000.0</td><td>998.97</td><td>0.0</td><td>10998.972</td><td>1814.48</td><td>Aug-2018</td><td>null</td></tr>\n",
       "<tr><td>68616873</td><td>8000.0</td><td>939.58</td><td>0.0</td><td>8939.58</td><td>4996.24</td><td>Apr-2017</td><td>null</td></tr>\n",
       "<tr><td>68356421</td><td>12487.12</td><td>6788.21</td><td>0.0</td><td>19275.33</td><td>508.3</td><td>Feb-2019</td><td>Apr-2019</td></tr>\n",
       "<tr><td>68426545</td><td>8919.3</td><td>4848.74</td><td>0.0</td><td>13768.04</td><td>363.07</td><td>Feb-2019</td><td>Apr-2019</td></tr>\n",
       "<tr><td>68338832</td><td>1400.0</td><td>175.16</td><td>0.0</td><td>1575.1606</td><td>965.36</td><td>Mar-2017</td><td>null</td></tr>\n",
       "<tr><td>66624733</td><td>3481.86</td><td>4351.98</td><td>0.0</td><td>9452.74</td><td>471.7</td><td>May-2017</td><td>null</td></tr>\n",
       "<tr><td>68466961</td><td>28000.0</td><td>1939.02</td><td>0.0</td><td>29939.018</td><td>17093.51</td><td>May-2017</td><td>null</td></tr>\n",
       "<tr><td>68354783</td><td>9600.0</td><td>1036.1</td><td>0.0</td><td>10636.099</td><td>3480.17</td><td>Feb-2018</td><td>null</td></tr>\n",
       "<tr><td>68466916</td><td>25000.0</td><td>1224.23</td><td>0.0</td><td>26224.23</td><td>20807.39</td><td>Sep-2016</td><td>null</td></tr>\n",
       "<tr><td>68577849</td><td>18000.0</td><td>387.22</td><td>0.0</td><td>18387.22</td><td>18004.9</td><td>Mar-2016</td><td>null</td></tr>\n",
       "<tr><td>68506798</td><td>13419.8</td><td>4480.34</td><td>0.0</td><td>17900.14</td><td>471.77</td><td>Feb-2019</td><td>Apr-2019</td></tr>\n",
       "<tr><td>68495092</td><td>8650.0</td><td>540.49</td><td>0.0</td><td>9190.49</td><td>8251.42</td><td>May-2016</td><td>null</td></tr>\n",
       "</table>\n",
       "only showing top 20 rows\n"
      ],
      "text/plain": [
       "+--------+------------------------+-----------------------+-----------------------+----------------------+-------------------+-----------------+-----------------+\n",
       "|loan_id_|total_principal_received|total_interest_received|total_late_fee_received|total_payment_received|last_payment_amount|last_payment_date|next_payment_date|\n",
       "+--------+------------------------+-----------------------+-----------------------+----------------------+-------------------+-----------------+-----------------+\n",
       "|68407277|                  3600.0|                 821.72|                    0.0|              4421.724|             122.67|         Jan-2019|             null|\n",
       "|68355089|                 24700.0|                 979.66|                    0.0|              25679.66|             926.35|         Jun-2016|             null|\n",
       "|68341763|                 20000.0|                2705.92|                    0.0|             22705.924|            15813.3|         Jun-2017|             null|\n",
       "|66310712|                19102.35|               12361.66|                    0.0|              31464.01|              829.9|         Feb-2019|         Apr-2019|\n",
       "|68476807|                 10400.0|                 1340.5|                    0.0|               11740.5|           10128.96|         Jul-2016|             null|\n",
       "|68426831|                 11950.0|                1758.95|                    0.0|             13708.948|            7653.56|         May-2017|             null|\n",
       "|68476668|                 20000.0|                 1393.8|                    0.0|               21393.8|           15681.05|         Nov-2016|             null|\n",
       "|67275481|                 20000.0|                1538.51|                    0.0|              21538.51|           14618.23|         Jan-2017|             null|\n",
       "|68466926|                 10000.0|                 998.97|                    0.0|             10998.972|            1814.48|         Aug-2018|             null|\n",
       "|68616873|                  8000.0|                 939.58|                    0.0|               8939.58|            4996.24|         Apr-2017|             null|\n",
       "|68356421|                12487.12|                6788.21|                    0.0|              19275.33|              508.3|         Feb-2019|         Apr-2019|\n",
       "|68426545|                  8919.3|                4848.74|                    0.0|              13768.04|             363.07|         Feb-2019|         Apr-2019|\n",
       "|68338832|                  1400.0|                 175.16|                    0.0|             1575.1606|             965.36|         Mar-2017|             null|\n",
       "|66624733|                 3481.86|                4351.98|                    0.0|               9452.74|              471.7|         May-2017|             null|\n",
       "|68466961|                 28000.0|                1939.02|                    0.0|             29939.018|           17093.51|         May-2017|             null|\n",
       "|68354783|                  9600.0|                 1036.1|                    0.0|             10636.099|            3480.17|         Feb-2018|             null|\n",
       "|68466916|                 25000.0|                1224.23|                    0.0|              26224.23|           20807.39|         Sep-2016|             null|\n",
       "|68577849|                 18000.0|                 387.22|                    0.0|              18387.22|            18004.9|         Mar-2016|             null|\n",
       "|68506798|                 13419.8|                4480.34|                    0.0|              17900.14|             471.77|         Feb-2019|         Apr-2019|\n",
       "|68495092|                  8650.0|                 540.49|                    0.0|               9190.49|            8251.42|         May-2016|             null|\n",
       "+--------+------------------------+-----------------------+-----------------------+----------------------+-------------------+-----------------+-----------------+\n",
       "only showing top 20 rows"
      ]
     },
     "execution_count": 37,
     "metadata": {},
     "output_type": "execute_result"
    }
   ],
   "source": [
    "loansRepayment = spark.read \\\n",
    ".format(\"csv\") \\\n",
    ".option(\"header\",True) \\\n",
    ".schema(loansRepaymentSchema) \\\n",
    ".load(\"/user/anil/lendingClubProject/loans_repayments\")\n",
    "loansRepayment"
   ]
  },
  {
   "cell_type": "code",
   "execution_count": 5,
   "id": "2e905cc9",
   "metadata": {},
   "outputs": [
    {
     "name": "stdout",
     "output_type": "stream",
     "text": [
      "root\n",
      " |-- loan_id_: string (nullable = true)\n",
      " |-- total_principal_received: float (nullable = true)\n",
      " |-- total_interest_received: float (nullable = true)\n",
      " |-- total_late_fee_received: float (nullable = true)\n",
      " |-- total_payment_received: float (nullable = true)\n",
      " |-- last_payment_amount: float (nullable = true)\n",
      " |-- last_payment_date: string (nullable = true)\n",
      " |-- next_payment_date: string (nullable = true)\n",
      "\n"
     ]
    }
   ],
   "source": [
    "loansRepayment.printSchema()"
   ]
  },
  {
   "cell_type": "markdown",
   "id": "97e0d57c",
   "metadata": {},
   "source": [
    "# Adding Ingested Timestamp"
   ]
  },
  {
   "cell_type": "code",
   "execution_count": 6,
   "id": "740945ca",
   "metadata": {},
   "outputs": [],
   "source": [
    "loansRepaymentIngested = loansRepayment.withColumn('IngestedDateTime',current_timestamp())"
   ]
  },
  {
   "cell_type": "code",
   "execution_count": 7,
   "id": "e9df6b29",
   "metadata": {},
   "outputs": [
    {
     "data": {
      "text/html": [
       "<table border='1'>\n",
       "<tr><th>loan_id_</th><th>total_principal_received</th><th>total_interest_received</th><th>total_late_fee_received</th><th>total_payment_received</th><th>last_payment_amount</th><th>last_payment_date</th><th>next_payment_date</th><th>IngestedDateTime</th></tr>\n",
       "<tr><td>68407277</td><td>3600.0</td><td>821.72</td><td>0.0</td><td>4421.724</td><td>122.67</td><td>Jan-2019</td><td>null</td><td>2024-11-15 01:51:...</td></tr>\n",
       "<tr><td>68355089</td><td>24700.0</td><td>979.66</td><td>0.0</td><td>25679.66</td><td>926.35</td><td>Jun-2016</td><td>null</td><td>2024-11-15 01:51:...</td></tr>\n",
       "<tr><td>68341763</td><td>20000.0</td><td>2705.92</td><td>0.0</td><td>22705.924</td><td>15813.3</td><td>Jun-2017</td><td>null</td><td>2024-11-15 01:51:...</td></tr>\n",
       "<tr><td>66310712</td><td>19102.35</td><td>12361.66</td><td>0.0</td><td>31464.01</td><td>829.9</td><td>Feb-2019</td><td>Apr-2019</td><td>2024-11-15 01:51:...</td></tr>\n",
       "<tr><td>68476807</td><td>10400.0</td><td>1340.5</td><td>0.0</td><td>11740.5</td><td>10128.96</td><td>Jul-2016</td><td>null</td><td>2024-11-15 01:51:...</td></tr>\n",
       "<tr><td>68426831</td><td>11950.0</td><td>1758.95</td><td>0.0</td><td>13708.948</td><td>7653.56</td><td>May-2017</td><td>null</td><td>2024-11-15 01:51:...</td></tr>\n",
       "<tr><td>68476668</td><td>20000.0</td><td>1393.8</td><td>0.0</td><td>21393.8</td><td>15681.05</td><td>Nov-2016</td><td>null</td><td>2024-11-15 01:51:...</td></tr>\n",
       "<tr><td>67275481</td><td>20000.0</td><td>1538.51</td><td>0.0</td><td>21538.51</td><td>14618.23</td><td>Jan-2017</td><td>null</td><td>2024-11-15 01:51:...</td></tr>\n",
       "<tr><td>68466926</td><td>10000.0</td><td>998.97</td><td>0.0</td><td>10998.972</td><td>1814.48</td><td>Aug-2018</td><td>null</td><td>2024-11-15 01:51:...</td></tr>\n",
       "<tr><td>68616873</td><td>8000.0</td><td>939.58</td><td>0.0</td><td>8939.58</td><td>4996.24</td><td>Apr-2017</td><td>null</td><td>2024-11-15 01:51:...</td></tr>\n",
       "<tr><td>68356421</td><td>12487.12</td><td>6788.21</td><td>0.0</td><td>19275.33</td><td>508.3</td><td>Feb-2019</td><td>Apr-2019</td><td>2024-11-15 01:51:...</td></tr>\n",
       "<tr><td>68426545</td><td>8919.3</td><td>4848.74</td><td>0.0</td><td>13768.04</td><td>363.07</td><td>Feb-2019</td><td>Apr-2019</td><td>2024-11-15 01:51:...</td></tr>\n",
       "<tr><td>68338832</td><td>1400.0</td><td>175.16</td><td>0.0</td><td>1575.1606</td><td>965.36</td><td>Mar-2017</td><td>null</td><td>2024-11-15 01:51:...</td></tr>\n",
       "<tr><td>66624733</td><td>3481.86</td><td>4351.98</td><td>0.0</td><td>9452.74</td><td>471.7</td><td>May-2017</td><td>null</td><td>2024-11-15 01:51:...</td></tr>\n",
       "<tr><td>68466961</td><td>28000.0</td><td>1939.02</td><td>0.0</td><td>29939.018</td><td>17093.51</td><td>May-2017</td><td>null</td><td>2024-11-15 01:51:...</td></tr>\n",
       "<tr><td>68354783</td><td>9600.0</td><td>1036.1</td><td>0.0</td><td>10636.099</td><td>3480.17</td><td>Feb-2018</td><td>null</td><td>2024-11-15 01:51:...</td></tr>\n",
       "<tr><td>68466916</td><td>25000.0</td><td>1224.23</td><td>0.0</td><td>26224.23</td><td>20807.39</td><td>Sep-2016</td><td>null</td><td>2024-11-15 01:51:...</td></tr>\n",
       "<tr><td>68577849</td><td>18000.0</td><td>387.22</td><td>0.0</td><td>18387.22</td><td>18004.9</td><td>Mar-2016</td><td>null</td><td>2024-11-15 01:51:...</td></tr>\n",
       "<tr><td>68506798</td><td>13419.8</td><td>4480.34</td><td>0.0</td><td>17900.14</td><td>471.77</td><td>Feb-2019</td><td>Apr-2019</td><td>2024-11-15 01:51:...</td></tr>\n",
       "<tr><td>68495092</td><td>8650.0</td><td>540.49</td><td>0.0</td><td>9190.49</td><td>8251.42</td><td>May-2016</td><td>null</td><td>2024-11-15 01:51:...</td></tr>\n",
       "</table>\n",
       "only showing top 20 rows\n"
      ],
      "text/plain": [
       "+--------+------------------------+-----------------------+-----------------------+----------------------+-------------------+-----------------+-----------------+--------------------+\n",
       "|loan_id_|total_principal_received|total_interest_received|total_late_fee_received|total_payment_received|last_payment_amount|last_payment_date|next_payment_date|    IngestedDateTime|\n",
       "+--------+------------------------+-----------------------+-----------------------+----------------------+-------------------+-----------------+-----------------+--------------------+\n",
       "|68407277|                  3600.0|                 821.72|                    0.0|              4421.724|             122.67|         Jan-2019|             null|2024-11-15 01:51:...|\n",
       "|68355089|                 24700.0|                 979.66|                    0.0|              25679.66|             926.35|         Jun-2016|             null|2024-11-15 01:51:...|\n",
       "|68341763|                 20000.0|                2705.92|                    0.0|             22705.924|            15813.3|         Jun-2017|             null|2024-11-15 01:51:...|\n",
       "|66310712|                19102.35|               12361.66|                    0.0|              31464.01|              829.9|         Feb-2019|         Apr-2019|2024-11-15 01:51:...|\n",
       "|68476807|                 10400.0|                 1340.5|                    0.0|               11740.5|           10128.96|         Jul-2016|             null|2024-11-15 01:51:...|\n",
       "|68426831|                 11950.0|                1758.95|                    0.0|             13708.948|            7653.56|         May-2017|             null|2024-11-15 01:51:...|\n",
       "|68476668|                 20000.0|                 1393.8|                    0.0|               21393.8|           15681.05|         Nov-2016|             null|2024-11-15 01:51:...|\n",
       "|67275481|                 20000.0|                1538.51|                    0.0|              21538.51|           14618.23|         Jan-2017|             null|2024-11-15 01:51:...|\n",
       "|68466926|                 10000.0|                 998.97|                    0.0|             10998.972|            1814.48|         Aug-2018|             null|2024-11-15 01:51:...|\n",
       "|68616873|                  8000.0|                 939.58|                    0.0|               8939.58|            4996.24|         Apr-2017|             null|2024-11-15 01:51:...|\n",
       "|68356421|                12487.12|                6788.21|                    0.0|              19275.33|              508.3|         Feb-2019|         Apr-2019|2024-11-15 01:51:...|\n",
       "|68426545|                  8919.3|                4848.74|                    0.0|              13768.04|             363.07|         Feb-2019|         Apr-2019|2024-11-15 01:51:...|\n",
       "|68338832|                  1400.0|                 175.16|                    0.0|             1575.1606|             965.36|         Mar-2017|             null|2024-11-15 01:51:...|\n",
       "|66624733|                 3481.86|                4351.98|                    0.0|               9452.74|              471.7|         May-2017|             null|2024-11-15 01:51:...|\n",
       "|68466961|                 28000.0|                1939.02|                    0.0|             29939.018|           17093.51|         May-2017|             null|2024-11-15 01:51:...|\n",
       "|68354783|                  9600.0|                 1036.1|                    0.0|             10636.099|            3480.17|         Feb-2018|             null|2024-11-15 01:51:...|\n",
       "|68466916|                 25000.0|                1224.23|                    0.0|              26224.23|           20807.39|         Sep-2016|             null|2024-11-15 01:51:...|\n",
       "|68577849|                 18000.0|                 387.22|                    0.0|              18387.22|            18004.9|         Mar-2016|             null|2024-11-15 01:51:...|\n",
       "|68506798|                 13419.8|                4480.34|                    0.0|              17900.14|             471.77|         Feb-2019|         Apr-2019|2024-11-15 01:51:...|\n",
       "|68495092|                  8650.0|                 540.49|                    0.0|               9190.49|            8251.42|         May-2016|             null|2024-11-15 01:51:...|\n",
       "+--------+------------------------+-----------------------+-----------------------+----------------------+-------------------+-----------------+-----------------+--------------------+\n",
       "only showing top 20 rows"
      ]
     },
     "execution_count": 7,
     "metadata": {},
     "output_type": "execute_result"
    }
   ],
   "source": [
    "loansRepaymentIngested"
   ]
  },
  {
   "cell_type": "code",
   "execution_count": 8,
   "id": "50a01981",
   "metadata": {},
   "outputs": [
    {
     "name": "stdout",
     "output_type": "stream",
     "text": [
      "root\n",
      " |-- loan_id_: string (nullable = true)\n",
      " |-- total_principal_received: float (nullable = true)\n",
      " |-- total_interest_received: float (nullable = true)\n",
      " |-- total_late_fee_received: float (nullable = true)\n",
      " |-- total_payment_received: float (nullable = true)\n",
      " |-- last_payment_amount: float (nullable = true)\n",
      " |-- last_payment_date: string (nullable = true)\n",
      " |-- next_payment_date: string (nullable = true)\n",
      " |-- IngestedDateTime: timestamp (nullable = false)\n",
      "\n"
     ]
    }
   ],
   "source": [
    "loansRepaymentIngested.printSchema()"
   ]
  },
  {
   "cell_type": "markdown",
   "id": "cb011913",
   "metadata": {},
   "source": [
    "# Drop records if any columns are null"
   ]
  },
  {
   "cell_type": "code",
   "execution_count": 9,
   "id": "08319868",
   "metadata": {},
   "outputs": [
    {
     "data": {
      "text/plain": [
       "2260701"
      ]
     },
     "execution_count": 9,
     "metadata": {},
     "output_type": "execute_result"
    }
   ],
   "source": [
    "loansRepaymentIngested.count()"
   ]
  },
  {
   "cell_type": "code",
   "execution_count": 10,
   "id": "abd9f68e",
   "metadata": {},
   "outputs": [],
   "source": [
    "columnsLookup = [\"total_principal_received\", \"total_interest_received\", \"total_late_fee_received\", \"total_payment_received\", \"last_payment_amount\"]"
   ]
  },
  {
   "cell_type": "code",
   "execution_count": 11,
   "id": "1a6325c2",
   "metadata": {},
   "outputs": [],
   "source": [
    "loansRepaymentcleansed = loansRepaymentIngested.na.drop(subset = columnsLookup )"
   ]
  },
  {
   "cell_type": "code",
   "execution_count": 12,
   "id": "2f40fc89",
   "metadata": {},
   "outputs": [
    {
     "data": {
      "text/plain": [
       "2260498"
      ]
     },
     "execution_count": 12,
     "metadata": {},
     "output_type": "execute_result"
    }
   ],
   "source": [
    "loansRepaymentcleansed.count()"
   ]
  },
  {
   "cell_type": "markdown",
   "id": "0122c06f",
   "metadata": {},
   "source": [
    "# total_payment_received should n't be zero when total principle recieved"
   ]
  },
  {
   "cell_type": "code",
   "execution_count": 13,
   "id": "bbe1fa58",
   "metadata": {},
   "outputs": [
    {
     "data": {
      "text/plain": [
       "995"
      ]
     },
     "execution_count": 13,
     "metadata": {},
     "output_type": "execute_result"
    }
   ],
   "source": [
    "loansRepaymentcleansed.filter(col('total_payment_received') == 0 ).count()"
   ]
  },
  {
   "cell_type": "code",
   "execution_count": 14,
   "id": "8df98e10",
   "metadata": {},
   "outputs": [
    {
     "data": {
      "text/plain": [
       "46"
      ]
     },
     "execution_count": 14,
     "metadata": {},
     "output_type": "execute_result"
    }
   ],
   "source": [
    "loansRepaymentcleansed.filter((col('total_payment_received') == 0) & (col('total_principal_received') != 0) ).count()"
   ]
  },
  {
   "cell_type": "code",
   "execution_count": 16,
   "id": "aefac587",
   "metadata": {},
   "outputs": [],
   "source": [
    "loansRepaymentModified = loansRepaymentcleansed.withColumn('total_payment_received', when((col('total_payment_received') == 0 ) & (col('total_principal_received') != 0) ,col('total_principal_received') + col('total_interest_received') + col('total_late_fee_received')).otherwise('total_payment_received'))"
   ]
  },
  {
   "cell_type": "code",
   "execution_count": 17,
   "id": "542872dd",
   "metadata": {},
   "outputs": [
    {
     "data": {
      "text/plain": [
       "0"
      ]
     },
     "execution_count": 17,
     "metadata": {},
     "output_type": "execute_result"
    }
   ],
   "source": [
    "loansRepaymentModified.filter((col('total_payment_received') == 0) & (col('total_principal_received') != 0) ).count()"
   ]
  },
  {
   "cell_type": "code",
   "execution_count": 23,
   "id": "a3fc34d8",
   "metadata": {},
   "outputs": [
    {
     "data": {
      "text/plain": [
       "48"
      ]
     },
     "execution_count": 23,
     "metadata": {},
     "output_type": "execute_result"
    }
   ],
   "source": [
    "loansRepaymentModified.filter(col('last_payment_date') == 0.0 ).count()"
   ]
  },
  {
   "cell_type": "code",
   "execution_count": 24,
   "id": "891c3e6e",
   "metadata": {},
   "outputs": [
    {
     "data": {
      "text/plain": [
       "24"
      ]
     },
     "execution_count": 24,
     "metadata": {},
     "output_type": "execute_result"
    }
   ],
   "source": [
    "loansRepaymentModified.filter(col('next_payment_date') == 0.0 ).count()"
   ]
  },
  {
   "cell_type": "code",
   "execution_count": 25,
   "id": "d8d59263",
   "metadata": {},
   "outputs": [
    {
     "data": {
      "text/plain": [
       "2426"
      ]
     },
     "execution_count": 25,
     "metadata": {},
     "output_type": "execute_result"
    }
   ],
   "source": [
    "loansRepaymentModified.filter(\"last_payment_date is null\").count()"
   ]
  },
  {
   "cell_type": "code",
   "execution_count": 26,
   "id": "096a106f",
   "metadata": {},
   "outputs": [
    {
     "data": {
      "text/plain": [
       "1345084"
      ]
     },
     "execution_count": 26,
     "metadata": {},
     "output_type": "execute_result"
    }
   ],
   "source": [
    "loansRepaymentModified.filter(\"next_payment_date is null\").count()"
   ]
  },
  {
   "cell_type": "code",
   "execution_count": 27,
   "id": "f2536e30",
   "metadata": {},
   "outputs": [],
   "source": [
    "loansPaymentsLdateFixed = loansRepaymentModified.withColumn(\n",
    "  \"last_payment_date\",\n",
    "   when(\n",
    "       (col(\"last_payment_date\") == 0.0),\n",
    "       None\n",
    "       ).otherwise(col(\"last_payment_date\"))\n",
    ")"
   ]
  },
  {
   "cell_type": "code",
   "execution_count": 28,
   "id": "af19f4ce",
   "metadata": {},
   "outputs": [],
   "source": [
    "loansPaymentsNdateFixed = loansPaymentsLdateFixed.withColumn(\n",
    "  \"last_payment_date\",\n",
    "   when(\n",
    "       (col(\"next_payment_date\") == 0.0),\n",
    "       None\n",
    "       ).otherwise(col(\"next_payment_date\"))\n",
    ")"
   ]
  },
  {
   "cell_type": "code",
   "execution_count": 29,
   "id": "b9882891",
   "metadata": {},
   "outputs": [
    {
     "data": {
      "text/plain": [
       "0"
      ]
     },
     "execution_count": 29,
     "metadata": {},
     "output_type": "execute_result"
    }
   ],
   "source": [
    "loansPaymentsNdateFixed.filter(\"last_payment_date = 0.0\").count()"
   ]
  },
  {
   "cell_type": "code",
   "execution_count": 30,
   "id": "39dd01e2",
   "metadata": {},
   "outputs": [
    {
     "data": {
      "text/plain": [
       "24"
      ]
     },
     "execution_count": 30,
     "metadata": {},
     "output_type": "execute_result"
    }
   ],
   "source": [
    "loansPaymentsNdateFixed.filter(\"next_payment_date = 0.0\").count()"
   ]
  },
  {
   "cell_type": "code",
   "execution_count": 31,
   "id": "ed67efdb",
   "metadata": {},
   "outputs": [],
   "source": [
    "loansPaymentsNdateFixed.write \\\n",
    ".format(\"parquet\") \\\n",
    ".mode(\"overwrite\") \\\n",
    ".option(\"path\", \"/user/anil/lendingClubProject/cleansed/loansRepaymentParquet\") \\\n",
    ".save()"
   ]
  },
  {
   "cell_type": "code",
   "execution_count": 32,
   "id": "80d9f668",
   "metadata": {},
   "outputs": [],
   "source": [
    "loansPaymentsNdateFixed.write \\\n",
    ".format(\"csv\") \\\n",
    ".mode(\"overwrite\") \\\n",
    ".option(\"path\", \"/user/anil/lendingClubProject/cleansed/loansRepaymentcsv\") \\\n",
    ".save()"
   ]
  },
  {
   "cell_type": "code",
   "execution_count": 38,
   "id": "6e375c3a",
   "metadata": {},
   "outputs": [],
   "source": [
    "spark.stop()"
   ]
  }
 ],
 "metadata": {
  "kernelspec": {
   "display_name": "Pyspark 3",
   "language": "python",
   "name": "pyspark3"
  },
  "language_info": {
   "codemirror_mode": {
    "name": "ipython",
    "version": 3
   },
   "file_extension": ".py",
   "mimetype": "text/x-python",
   "name": "python",
   "nbconvert_exporter": "python",
   "pygments_lexer": "ipython3",
   "version": "3.6.12"
  }
 },
 "nbformat": 4,
 "nbformat_minor": 5
}
