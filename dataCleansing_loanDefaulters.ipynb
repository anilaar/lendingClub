{
 "cells": [
  {
   "cell_type": "code",
   "execution_count": 1,
   "id": "34e8f21d",
   "metadata": {},
   "outputs": [],
   "source": [
    "from pyspark.sql import SparkSession\n",
    "from pyspark.sql.functions import sha2, concat_ws\n",
    "from pyspark.sql.functions import *\n",
    "spark  = SparkSession.builder\\\n",
    "                    .appName(\"lendingClubProject\")\\\n",
    "                    .config('spark.shuffle.useOldFetchProtocol', 'true') \\\n",
    "                    .config(\"spark.sql.warehouse.dir\",\"/user/anil/warehouse\")\\\n",
    "                    .enableHiveSupport()\\\n",
    "                    .master('yarn')\\\n",
    "                    .getOrCreate()"
   ]
  },
  {
   "cell_type": "markdown",
   "id": "69ea2d83",
   "metadata": {},
   "source": [
    "# adding Schema"
   ]
  },
  {
   "cell_type": "code",
   "execution_count": 2,
   "id": "8f42937b",
   "metadata": {},
   "outputs": [
    {
     "data": {
      "text/html": [
       "<table border='1'>\n",
       "<tr><th>member</th><th>delinq_2yrs</th><th>delinq_amnt</th><th>pub_rec</th><th>pub_rec_bankruptcies</th><th>inq_last_6mths</th><th>total_rec_late_fee</th><th>mths_since_last_delinq</th><th>mths_since_last_record</th></tr>\n",
       "<tr><td>b59d80da191f5b573...</td><td>0.0</td><td>0.0</td><td>0.0</td><td>0.0</td><td>1.0</td><td>0.0</td><td>31.0</td><td>null</td></tr>\n",
       "<tr><td>202d9f56ecb7c3bc9...</td><td>1.0</td><td>0.0</td><td>0.0</td><td>0.0</td><td>0.0</td><td>0.0</td><td>6.0</td><td>null</td></tr>\n",
       "<tr><td>e5a140c0922b554b9...</td><td>0.0</td><td>0.0</td><td>0.0</td><td>0.0</td><td>0.0</td><td>0.0</td><td>47.0</td><td>null</td></tr>\n",
       "<tr><td>e12aefc548f750777...</td><td>0.0</td><td>0.0</td><td>0.0</td><td>0.0</td><td>0.0</td><td>0.0</td><td>33.0</td><td>null</td></tr>\n",
       "<tr><td>1b3a50d854fbbf97e...</td><td>1.0</td><td>0.0</td><td>0.0</td><td>0.0</td><td>0.0</td><td>0.0</td><td>21.0</td><td>null</td></tr>\n",
       "<tr><td>1c4329e5f17697127...</td><td>0.0</td><td>0.0</td><td>0.0</td><td>0.0</td><td>0.0</td><td>0.0</td><td>null</td><td>null</td></tr>\n",
       "<tr><td>5026c86ad983175eb...</td><td>0.0</td><td>0.0</td><td>1.0</td><td>0.0</td><td>2.0</td><td>0.0</td><td>null</td><td>71.0</td></tr>\n",
       "<tr><td>9847d8c1e9d0b2084...</td><td>1.0</td><td>0.0</td><td>2.0</td><td>0.0</td><td>0.0</td><td>0.0</td><td>6.0</td><td>63.0</td></tr>\n",
       "<tr><td>8340dbe1adea41fb4...</td><td>0.0</td><td>0.0</td><td>0.0</td><td>0.0</td><td>0.0</td><td>0.0</td><td>36.0</td><td>null</td></tr>\n",
       "<tr><td>d4de0de3ab7d79ad4...</td><td>0.0</td><td>0.0</td><td>0.0</td><td>0.0</td><td>0.0</td><td>0.0</td><td>35.0</td><td>null</td></tr>\n",
       "<tr><td>3df3cdeddb74a8712...</td><td>0.0</td><td>0.0</td><td>0.0</td><td>0.0</td><td>0.0</td><td>0.0</td><td>null</td><td>null</td></tr>\n",
       "<tr><td>9dd72636b1b4045b4...</td><td>0.0</td><td>0.0</td><td>0.0</td><td>0.0</td><td>3.0</td><td>0.0</td><td>null</td><td>null</td></tr>\n",
       "<tr><td>1d4e1ef4353b73c00...</td><td>0.0</td><td>0.0</td><td>0.0</td><td>0.0</td><td>2.0</td><td>0.0</td><td>30.0</td><td>null</td></tr>\n",
       "<tr><td>6f196952e71277fd4...</td><td>4.0</td><td>0.0</td><td>0.0</td><td>0.0</td><td>0.0</td><td>0.0</td><td>5.0</td><td>null</td></tr>\n",
       "<tr><td>9c617cbc6e3e3d6a1...</td><td>1.0</td><td>0.0</td><td>0.0</td><td>0.0</td><td>2.0</td><td>0.0</td><td>20.0</td><td>null</td></tr>\n",
       "<tr><td>45eb04dd75400a942...</td><td>0.0</td><td>0.0</td><td>0.0</td><td>0.0</td><td>2.0</td><td>0.0</td><td>28.0</td><td>null</td></tr>\n",
       "<tr><td>08d233c81f9e50726...</td><td>0.0</td><td>0.0</td><td>0.0</td><td>0.0</td><td>1.0</td><td>0.0</td><td>null</td><td>null</td></tr>\n",
       "<tr><td>8ff4d0ed17a1cab92...</td><td>1.0</td><td>0.0</td><td>2.0</td><td>0.0</td><td>2.0</td><td>0.0</td><td>15.0</td><td>32.0</td></tr>\n",
       "<tr><td>aec13cfd611b2cfea...</td><td>1.0</td><td>0.0</td><td>0.0</td><td>0.0</td><td>1.0</td><td>0.0</td><td>19.0</td><td>null</td></tr>\n",
       "<tr><td>9ba8c96ccba6cd1f0...</td><td>0.0</td><td>0.0</td><td>0.0</td><td>0.0</td><td>0.0</td><td>0.0</td><td>37.0</td><td>null</td></tr>\n",
       "</table>\n",
       "only showing top 20 rows\n"
      ],
      "text/plain": [
       "+--------------------+-----------+-----------+-------+--------------------+--------------+------------------+----------------------+----------------------+\n",
       "|              member|delinq_2yrs|delinq_amnt|pub_rec|pub_rec_bankruptcies|inq_last_6mths|total_rec_late_fee|mths_since_last_delinq|mths_since_last_record|\n",
       "+--------------------+-----------+-----------+-------+--------------------+--------------+------------------+----------------------+----------------------+\n",
       "|b59d80da191f5b573...|        0.0|        0.0|    0.0|                 0.0|           1.0|               0.0|                  31.0|                  null|\n",
       "|202d9f56ecb7c3bc9...|        1.0|        0.0|    0.0|                 0.0|           0.0|               0.0|                   6.0|                  null|\n",
       "|e5a140c0922b554b9...|        0.0|        0.0|    0.0|                 0.0|           0.0|               0.0|                  47.0|                  null|\n",
       "|e12aefc548f750777...|        0.0|        0.0|    0.0|                 0.0|           0.0|               0.0|                  33.0|                  null|\n",
       "|1b3a50d854fbbf97e...|        1.0|        0.0|    0.0|                 0.0|           0.0|               0.0|                  21.0|                  null|\n",
       "|1c4329e5f17697127...|        0.0|        0.0|    0.0|                 0.0|           0.0|               0.0|                  null|                  null|\n",
       "|5026c86ad983175eb...|        0.0|        0.0|    1.0|                 0.0|           2.0|               0.0|                  null|                  71.0|\n",
       "|9847d8c1e9d0b2084...|        1.0|        0.0|    2.0|                 0.0|           0.0|               0.0|                   6.0|                  63.0|\n",
       "|8340dbe1adea41fb4...|        0.0|        0.0|    0.0|                 0.0|           0.0|               0.0|                  36.0|                  null|\n",
       "|d4de0de3ab7d79ad4...|        0.0|        0.0|    0.0|                 0.0|           0.0|               0.0|                  35.0|                  null|\n",
       "|3df3cdeddb74a8712...|        0.0|        0.0|    0.0|                 0.0|           0.0|               0.0|                  null|                  null|\n",
       "|9dd72636b1b4045b4...|        0.0|        0.0|    0.0|                 0.0|           3.0|               0.0|                  null|                  null|\n",
       "|1d4e1ef4353b73c00...|        0.0|        0.0|    0.0|                 0.0|           2.0|               0.0|                  30.0|                  null|\n",
       "|6f196952e71277fd4...|        4.0|        0.0|    0.0|                 0.0|           0.0|               0.0|                   5.0|                  null|\n",
       "|9c617cbc6e3e3d6a1...|        1.0|        0.0|    0.0|                 0.0|           2.0|               0.0|                  20.0|                  null|\n",
       "|45eb04dd75400a942...|        0.0|        0.0|    0.0|                 0.0|           2.0|               0.0|                  28.0|                  null|\n",
       "|08d233c81f9e50726...|        0.0|        0.0|    0.0|                 0.0|           1.0|               0.0|                  null|                  null|\n",
       "|8ff4d0ed17a1cab92...|        1.0|        0.0|    2.0|                 0.0|           2.0|               0.0|                  15.0|                  32.0|\n",
       "|aec13cfd611b2cfea...|        1.0|        0.0|    0.0|                 0.0|           1.0|               0.0|                  19.0|                  null|\n",
       "|9ba8c96ccba6cd1f0...|        0.0|        0.0|    0.0|                 0.0|           0.0|               0.0|                  37.0|                  null|\n",
       "+--------------------+-----------+-----------+-------+--------------------+--------------+------------------+----------------------+----------------------+\n",
       "only showing top 20 rows"
      ]
     },
     "execution_count": 2,
     "metadata": {},
     "output_type": "execute_result"
    }
   ],
   "source": [
    "loanDefaulters = spark.read.format('csv')\\\n",
    "                    .option('header',\"true\")\\\n",
    "                    .option('inferSchema',\"true\")\\\n",
    "                    .load('/user/anil/lendingClubProject/loans_defaulters')\n",
    "loanDefaulters"
   ]
  },
  {
   "cell_type": "code",
   "execution_count": 3,
   "id": "d705c0ac",
   "metadata": {},
   "outputs": [
    {
     "name": "stdout",
     "output_type": "stream",
     "text": [
      "root\n",
      " |-- member: string (nullable = true)\n",
      " |-- delinq_2yrs: string (nullable = true)\n",
      " |-- delinq_amnt: double (nullable = true)\n",
      " |-- pub_rec: string (nullable = true)\n",
      " |-- pub_rec_bankruptcies: double (nullable = true)\n",
      " |-- inq_last_6mths: string (nullable = true)\n",
      " |-- total_rec_late_fee: string (nullable = true)\n",
      " |-- mths_since_last_delinq: string (nullable = true)\n",
      " |-- mths_since_last_record: string (nullable = true)\n",
      "\n"
     ]
    }
   ],
   "source": [
    "loanDefaulters.printSchema()"
   ]
  },
  {
   "cell_type": "code",
   "execution_count": 4,
   "id": "afc86b41",
   "metadata": {},
   "outputs": [
    {
     "data": {
      "text/html": [
       "<table border='1'>\n",
       "<tr><th>delinq_2yrs</th></tr>\n",
       "<tr><td>1.0</td></tr>\n",
       "<tr><td>271 monthly payme...</td></tr>\n",
       "<tr><td>I bike to work on...</td></tr>\n",
       "<tr><td>183xx</td></tr>\n",
       "<tr><td>VISA and AMEX cre...</td></tr>\n",
       "<tr><td>etc. and I feel t...</td></tr>\n",
       "<tr><td>AZ</td></tr>\n",
       "<tr><td>017xx</td></tr>\n",
       "<tr><td>923xx</td></tr>\n",
       "<tr><td>446xx</td></tr>\n",
       "<tr><td>who is a financia...</td></tr>\n",
       "<tr><td>and all of that c...</td></tr>\n",
       "<tr><td>LA</td></tr>\n",
       "<tr><td>24.66</td></tr>\n",
       "<tr><td>and the removal o...</td></tr>\n",
       "<tr><td>I would like to c...</td></tr>\n",
       "<tr><td>12.24</td></tr>\n",
       "<tr><td>22.0</td></tr>\n",
       "<tr><td>so most of my inc...</td></tr>\n",
       "<tr><td>I would like to p...</td></tr>\n",
       "</table>\n",
       "only showing top 20 rows\n"
      ],
      "text/plain": [
       "+--------------------+\n",
       "|         delinq_2yrs|\n",
       "+--------------------+\n",
       "|                 1.0|\n",
       "|271 monthly payme...|\n",
       "|I bike to work on...|\n",
       "|               183xx|\n",
       "|VISA and AMEX cre...|\n",
       "|etc. and I feel t...|\n",
       "|                  AZ|\n",
       "|               017xx|\n",
       "|               923xx|\n",
       "|               446xx|\n",
       "|who is a financia...|\n",
       "|and all of that c...|\n",
       "|                  LA|\n",
       "|               24.66|\n",
       "|and the removal o...|\n",
       "|I would like to c...|\n",
       "|               12.24|\n",
       "|                22.0|\n",
       "|so most of my inc...|\n",
       "|I would like to p...|\n",
       "+--------------------+\n",
       "only showing top 20 rows"
      ]
     },
     "execution_count": 4,
     "metadata": {},
     "output_type": "execute_result"
    }
   ],
   "source": [
    "loanDefaulters.select('delinq_2yrs').distinct()"
   ]
  },
  {
   "cell_type": "code",
   "execution_count": 5,
   "id": "e2c6622b",
   "metadata": {},
   "outputs": [
    {
     "name": "stdout",
     "output_type": "stream",
     "text": [
      "+------------------+-------+\n",
      "|       delinq_2yrs|  count|\n",
      "+------------------+-------+\n",
      "|               0.0|1838878|\n",
      "|               1.0| 281335|\n",
      "|               2.0|  81285|\n",
      "|               3.0|  29539|\n",
      "|               4.0|  13179|\n",
      "|               5.0|   6599|\n",
      "|               6.0|   3717|\n",
      "|               7.0|   2062|\n",
      "|               8.0|   1223|\n",
      "|               9.0|    818|\n",
      "|              10.0|    556|\n",
      "|              11.0|    363|\n",
      "|              12.0|    264|\n",
      "|              13.0|    165|\n",
      "|              14.0|    120|\n",
      "|              15.0|     87|\n",
      "|              null|     63|\n",
      "|              16.0|     55|\n",
      "|              18.0|     30|\n",
      "|              17.0|     30|\n",
      "|              19.0|     23|\n",
      "|              20.0|     17|\n",
      "|              21.0|     12|\n",
      "|                CA|      8|\n",
      "|                TX|      6|\n",
      "|debt_consolidation|      5|\n",
      "|    small_business|      5|\n",
      "|                IL|      5|\n",
      "|              22.0|      5|\n",
      "|              24.0|      4|\n",
      "+------------------+-------+\n",
      "only showing top 30 rows\n",
      "\n"
     ]
    }
   ],
   "source": [
    "loanDefaulters.groupBy('delinq_2yrs').count().orderBy(desc('count')).show(30)"
   ]
  },
  {
   "cell_type": "code",
   "execution_count": 6,
   "id": "a00a07b2",
   "metadata": {},
   "outputs": [],
   "source": [
    "# In delinq_2yrs columns there are many string values which is not expected. when reading them as float they will be converted as null\n",
    "loanDefaulterSchema = 'member_id string, delinq_2yrs float, delinq_amnt float, pub_rec float, pub_rec_bankruptcies float,inq_last_6mths float, total_rec_late_fee float, mths_since_last_delinq float, mths_since_last_record float'"
   ]
  },
  {
   "cell_type": "code",
   "execution_count": 7,
   "id": "76da1960",
   "metadata": {},
   "outputs": [],
   "source": [
    "loanDefaulters = spark.read.format('csv')\\\n",
    "                    .option('header',\"true\")\\\n",
    "                    .schema(loanDefaulterSchema)\\\n",
    "                    .load('/user/anil/lendingClubProject/loans_defaulters')"
   ]
  },
  {
   "cell_type": "code",
   "execution_count": 8,
   "id": "b0c387eb",
   "metadata": {},
   "outputs": [
    {
     "name": "stdout",
     "output_type": "stream",
     "text": [
      "root\n",
      " |-- member_id: string (nullable = true)\n",
      " |-- delinq_2yrs: float (nullable = true)\n",
      " |-- delinq_amnt: float (nullable = true)\n",
      " |-- pub_rec: float (nullable = true)\n",
      " |-- pub_rec_bankruptcies: float (nullable = true)\n",
      " |-- inq_last_6mths: float (nullable = true)\n",
      " |-- total_rec_late_fee: float (nullable = true)\n",
      " |-- mths_since_last_delinq: float (nullable = true)\n",
      " |-- mths_since_last_record: float (nullable = true)\n",
      "\n"
     ]
    }
   ],
   "source": [
    "loanDefaulters.printSchema()"
   ]
  },
  {
   "cell_type": "code",
   "execution_count": 9,
   "id": "bf97c71d",
   "metadata": {},
   "outputs": [
    {
     "name": "stdout",
     "output_type": "stream",
     "text": [
      "+-----------+-------+\n",
      "|delinq_2yrs|  count|\n",
      "+-----------+-------+\n",
      "|        0.0|1838878|\n",
      "|        1.0| 281335|\n",
      "|        2.0|  81285|\n",
      "|        3.0|  29539|\n",
      "|        4.0|  13179|\n",
      "|        5.0|   6599|\n",
      "|        6.0|   3717|\n",
      "|        7.0|   2062|\n",
      "|        8.0|   1223|\n",
      "|        9.0|    818|\n",
      "|       10.0|    556|\n",
      "|       11.0|    363|\n",
      "|       12.0|    264|\n",
      "|       null|    261|\n",
      "|       13.0|    165|\n",
      "|       14.0|    120|\n",
      "|       15.0|     87|\n",
      "|       16.0|     55|\n",
      "|       18.0|     30|\n",
      "|       17.0|     30|\n",
      "|       19.0|     23|\n",
      "|       20.0|     17|\n",
      "|       21.0|     12|\n",
      "|       22.0|      5|\n",
      "|       24.0|      4|\n",
      "|       26.0|      3|\n",
      "|       29.0|      2|\n",
      "|       23.0|      2|\n",
      "|       30.0|      2|\n",
      "|       3.44|      2|\n",
      "+-----------+-------+\n",
      "only showing top 30 rows\n",
      "\n"
     ]
    }
   ],
   "source": [
    "loanDefaulters.groupBy('delinq_2yrs').count().orderBy(desc('count')).show(30)"
   ]
  },
  {
   "cell_type": "code",
   "execution_count": 10,
   "id": "37ec4bf0",
   "metadata": {},
   "outputs": [],
   "source": [
    "loanDefaultersModified = loanDefaulters.na.fill(0, subset = ['delinq_2yrs'])"
   ]
  },
  {
   "cell_type": "code",
   "execution_count": 11,
   "id": "76de17d9",
   "metadata": {},
   "outputs": [
    {
     "name": "stdout",
     "output_type": "stream",
     "text": [
      "+-----------+-------+\n",
      "|delinq_2yrs|  count|\n",
      "+-----------+-------+\n",
      "|        0.0|1839139|\n",
      "|        1.0| 281335|\n",
      "|        2.0|  81285|\n",
      "|        3.0|  29539|\n",
      "|        4.0|  13179|\n",
      "|        5.0|   6599|\n",
      "|        6.0|   3717|\n",
      "|        7.0|   2062|\n",
      "|        8.0|   1223|\n",
      "|        9.0|    818|\n",
      "|       10.0|    556|\n",
      "|       11.0|    363|\n",
      "|       12.0|    264|\n",
      "|       13.0|    165|\n",
      "|       14.0|    120|\n",
      "|       15.0|     87|\n",
      "|       16.0|     55|\n",
      "|       17.0|     30|\n",
      "|       18.0|     30|\n",
      "|       19.0|     23|\n",
      "|       20.0|     17|\n",
      "|       21.0|     12|\n",
      "|       22.0|      5|\n",
      "|       24.0|      4|\n",
      "|       26.0|      3|\n",
      "|       29.0|      2|\n",
      "|       30.0|      2|\n",
      "|       23.0|      2|\n",
      "|       25.0|      2|\n",
      "|       3.44|      2|\n",
      "|      21.72|      1|\n",
      "|      20.04|      1|\n",
      "|      18.53|      1|\n",
      "|       9.44|      1|\n",
      "|       39.0|      1|\n",
      "|       58.0|      1|\n",
      "|      22.95|      1|\n",
      "|       9.56|      1|\n",
      "|      26.24|      1|\n",
      "|       6.52|      1|\n",
      "|      17.17|      1|\n",
      "|      14.15|      1|\n",
      "|       3.45|      1|\n",
      "|      21.48|      1|\n",
      "|       14.1|      1|\n",
      "|       32.0|      1|\n",
      "|      10.92|      1|\n",
      "|       1.41|      1|\n",
      "|      16.42|      1|\n",
      "|      17.18|      1|\n",
      "|      13.76|      1|\n",
      "|       1.37|      1|\n",
      "|      22.62|      1|\n",
      "|      10.58|      1|\n",
      "|       35.0|      1|\n",
      "|       5.52|      1|\n",
      "|       21.6|      1|\n",
      "|      23.44|      1|\n",
      "|      24.63|      1|\n",
      "|       3.78|      1|\n",
      "|       3.47|      1|\n",
      "|      19.23|      1|\n",
      "|      12.67|      1|\n",
      "|       8.56|      1|\n",
      "|      13.52|      1|\n",
      "|       27.0|      1|\n",
      "|      17.68|      1|\n",
      "|      21.94|      1|\n",
      "|      12.24|      1|\n",
      "|       8.74|      1|\n",
      "|      23.58|      1|\n",
      "|      24.66|      1|\n",
      "|       3.58|      1|\n",
      "|      18.06|      1|\n",
      "|       42.0|      1|\n",
      "|      15.91|      1|\n",
      "|      15.99|      1|\n",
      "|       20.4|      1|\n",
      "|       0.52|      1|\n",
      "|       36.0|      1|\n",
      "|       0.94|      1|\n",
      "|       6.72|      1|\n",
      "|       4.61|      1|\n",
      "|       7.51|      1|\n",
      "|       5.68|      1|\n",
      "|       28.0|      1|\n",
      "|       9.66|      1|\n",
      "|        8.8|      1|\n",
      "|      23.41|      1|\n",
      "|      15.17|      1|\n",
      "|      14.51|      1|\n",
      "+-----------+-------+\n",
      "\n"
     ]
    }
   ],
   "source": [
    "loanDefaultersModified.groupBy('delinq_2yrs').count().orderBy(desc('count')).show(100)"
   ]
  },
  {
   "cell_type": "code",
   "execution_count": 12,
   "id": "eb0ed59f",
   "metadata": {},
   "outputs": [
    {
     "name": "stdout",
     "output_type": "stream",
     "text": [
      "root\n",
      " |-- member_id: string (nullable = true)\n",
      " |-- delinq_2yrs: float (nullable = false)\n",
      " |-- delinq_amnt: float (nullable = true)\n",
      " |-- pub_rec: float (nullable = true)\n",
      " |-- pub_rec_bankruptcies: float (nullable = true)\n",
      " |-- inq_last_6mths: float (nullable = true)\n",
      " |-- total_rec_late_fee: float (nullable = true)\n",
      " |-- mths_since_last_delinq: float (nullable = true)\n",
      " |-- mths_since_last_record: float (nullable = true)\n",
      "\n"
     ]
    }
   ],
   "source": [
    "loanDefaultersModified.printSchema()"
   ]
  },
  {
   "cell_type": "code",
   "execution_count": 13,
   "id": "8f32063e",
   "metadata": {},
   "outputs": [],
   "source": [
    "loanDefaultersModified = loanDefaultersModified.withColumn('delinq_2yrs', col('delinq_2yrs').cast('int'))"
   ]
  },
  {
   "cell_type": "code",
   "execution_count": 14,
   "id": "ad0195cf",
   "metadata": {},
   "outputs": [
    {
     "name": "stdout",
     "output_type": "stream",
     "text": [
      "root\n",
      " |-- member_id: string (nullable = true)\n",
      " |-- delinq_2yrs: integer (nullable = true)\n",
      " |-- delinq_amnt: float (nullable = true)\n",
      " |-- pub_rec: float (nullable = true)\n",
      " |-- pub_rec_bankruptcies: float (nullable = true)\n",
      " |-- inq_last_6mths: float (nullable = true)\n",
      " |-- total_rec_late_fee: float (nullable = true)\n",
      " |-- mths_since_last_delinq: float (nullable = true)\n",
      " |-- mths_since_last_record: float (nullable = true)\n",
      "\n"
     ]
    }
   ],
   "source": [
    "loanDefaultersModified.printSchema()"
   ]
  },
  {
   "cell_type": "code",
   "execution_count": 15,
   "id": "c4c0d7f2",
   "metadata": {},
   "outputs": [
    {
     "name": "stdout",
     "output_type": "stream",
     "text": [
      "+-----------+-------+\n",
      "|delinq_2yrs|  count|\n",
      "+-----------+-------+\n",
      "|          0|1839141|\n",
      "|          1| 281337|\n",
      "|          2|  81285|\n",
      "|          3|  29545|\n",
      "|          4|  13180|\n",
      "|          5|   6601|\n",
      "|          6|   3719|\n",
      "|          7|   2063|\n",
      "|          8|   1226|\n",
      "|          9|    821|\n",
      "|         10|    558|\n",
      "|         11|    363|\n",
      "|         12|    266|\n",
      "|         13|    167|\n",
      "|         14|    123|\n",
      "|         15|     90|\n",
      "|         16|     56|\n",
      "|         17|     33|\n",
      "|         18|     32|\n",
      "|         19|     24|\n",
      "|         20|     19|\n",
      "|         21|     16|\n",
      "|         22|      7|\n",
      "|         24|      6|\n",
      "|         23|      5|\n",
      "|         26|      4|\n",
      "|         29|      2|\n",
      "|         30|      2|\n",
      "|         25|      2|\n",
      "|         28|      1|\n",
      "|         35|      1|\n",
      "|         27|      1|\n",
      "|         39|      1|\n",
      "|         32|      1|\n",
      "|         58|      1|\n",
      "|         42|      1|\n",
      "|         36|      1|\n",
      "+-----------+-------+\n",
      "\n"
     ]
    }
   ],
   "source": [
    "loanDefaultersModified.groupBy('delinq_2yrs').count().orderBy(desc('count')).show(100)"
   ]
  },
  {
   "cell_type": "code",
   "execution_count": 20,
   "id": "acd5b2cd",
   "metadata": {},
   "outputs": [],
   "source": [
    "loanDefaultersCleansed = loanDefaultersModified.withColumn(\"pub_rec\", col(\"pub_rec\").cast(\"integer\")).fillna(0, subset = [\"pub_rec\"])\n",
    "loanDefaultersCleansedV = loanDefaultersCleansed.withColumn(\"pub_rec_bankruptcies\", col(\"pub_rec_bankruptcies\").cast(\"integer\")).fillna(0, subset = [\"pub_rec_bankruptcies\"])\n",
    "loanDefaultersCleansedFinal = loanDefaultersCleansedV.withColumn(\"inq_last_6mths\", col(\"inq_last_6mths\").cast(\"integer\")).fillna(0, subset = [\"inq_last_6mths\"])\n"
   ]
  },
  {
   "cell_type": "code",
   "execution_count": 22,
   "id": "43e1ade8",
   "metadata": {},
   "outputs": [],
   "source": [
    "loanDefaultersCleansedFinal.createOrReplaceTempView(\"loan_defaulters\")"
   ]
  },
  {
   "cell_type": "code",
   "execution_count": 23,
   "id": "5eca5f01",
   "metadata": {},
   "outputs": [
    {
     "data": {
      "text/html": [
       "<table border='1'>\n",
       "<tr><th>count(1)</th></tr>\n",
       "<tr><td>0</td></tr>\n",
       "</table>\n"
      ],
      "text/plain": [
       "+--------+\n",
       "|count(1)|\n",
       "+--------+\n",
       "|       0|\n",
       "+--------+"
      ]
     },
     "execution_count": 23,
     "metadata": {},
     "output_type": "execute_result"
    }
   ],
   "source": [
    "spark.sql(\"select count(*) from loan_defaulters where delinq_2yrs is null\")"
   ]
  },
  {
   "cell_type": "code",
   "execution_count": 24,
   "id": "550deecf",
   "metadata": {},
   "outputs": [],
   "source": [
    "loansDefDelinq = spark.sql(\"select member_id,delinq_2yrs, delinq_amnt, int(mths_since_last_delinq) from loan_defaulters where delinq_2yrs > 0 or mths_since_last_delinq > 0\")"
   ]
  },
  {
   "cell_type": "code",
   "execution_count": 25,
   "id": "23f5778b",
   "metadata": {},
   "outputs": [
    {
     "data": {
      "text/html": [
       "<table border='1'>\n",
       "<tr><th>member_id</th><th>delinq_2yrs</th><th>delinq_amnt</th><th>mths_since_last_delinq</th></tr>\n",
       "<tr><td>b59d80da191f5b573...</td><td>0</td><td>0.0</td><td>31</td></tr>\n",
       "<tr><td>202d9f56ecb7c3bc9...</td><td>1</td><td>0.0</td><td>6</td></tr>\n",
       "<tr><td>e5a140c0922b554b9...</td><td>0</td><td>0.0</td><td>47</td></tr>\n",
       "<tr><td>e12aefc548f750777...</td><td>0</td><td>0.0</td><td>33</td></tr>\n",
       "<tr><td>1b3a50d854fbbf97e...</td><td>1</td><td>0.0</td><td>21</td></tr>\n",
       "<tr><td>9847d8c1e9d0b2084...</td><td>1</td><td>0.0</td><td>6</td></tr>\n",
       "<tr><td>8340dbe1adea41fb4...</td><td>0</td><td>0.0</td><td>36</td></tr>\n",
       "<tr><td>d4de0de3ab7d79ad4...</td><td>0</td><td>0.0</td><td>35</td></tr>\n",
       "<tr><td>1d4e1ef4353b73c00...</td><td>0</td><td>0.0</td><td>30</td></tr>\n",
       "<tr><td>6f196952e71277fd4...</td><td>4</td><td>0.0</td><td>5</td></tr>\n",
       "<tr><td>9c617cbc6e3e3d6a1...</td><td>1</td><td>0.0</td><td>20</td></tr>\n",
       "<tr><td>45eb04dd75400a942...</td><td>0</td><td>0.0</td><td>28</td></tr>\n",
       "<tr><td>8ff4d0ed17a1cab92...</td><td>1</td><td>0.0</td><td>15</td></tr>\n",
       "<tr><td>aec13cfd611b2cfea...</td><td>1</td><td>0.0</td><td>19</td></tr>\n",
       "<tr><td>9ba8c96ccba6cd1f0...</td><td>0</td><td>0.0</td><td>37</td></tr>\n",
       "<tr><td>2cf47faee0c996343...</td><td>0</td><td>0.0</td><td>24</td></tr>\n",
       "<tr><td>220e4dd490018abff...</td><td>0</td><td>0.0</td><td>57</td></tr>\n",
       "<tr><td>aaa32c29cb9ccc7ff...</td><td>0</td><td>0.0</td><td>35</td></tr>\n",
       "<tr><td>af7a8a661df3318bd...</td><td>2</td><td>0.0</td><td>7</td></tr>\n",
       "<tr><td>0e744cffa05697dfa...</td><td>0</td><td>0.0</td><td>45</td></tr>\n",
       "</table>\n",
       "only showing top 20 rows\n"
      ],
      "text/plain": [
       "+--------------------+-----------+-----------+----------------------+\n",
       "|           member_id|delinq_2yrs|delinq_amnt|mths_since_last_delinq|\n",
       "+--------------------+-----------+-----------+----------------------+\n",
       "|b59d80da191f5b573...|          0|        0.0|                    31|\n",
       "|202d9f56ecb7c3bc9...|          1|        0.0|                     6|\n",
       "|e5a140c0922b554b9...|          0|        0.0|                    47|\n",
       "|e12aefc548f750777...|          0|        0.0|                    33|\n",
       "|1b3a50d854fbbf97e...|          1|        0.0|                    21|\n",
       "|9847d8c1e9d0b2084...|          1|        0.0|                     6|\n",
       "|8340dbe1adea41fb4...|          0|        0.0|                    36|\n",
       "|d4de0de3ab7d79ad4...|          0|        0.0|                    35|\n",
       "|1d4e1ef4353b73c00...|          0|        0.0|                    30|\n",
       "|6f196952e71277fd4...|          4|        0.0|                     5|\n",
       "|9c617cbc6e3e3d6a1...|          1|        0.0|                    20|\n",
       "|45eb04dd75400a942...|          0|        0.0|                    28|\n",
       "|8ff4d0ed17a1cab92...|          1|        0.0|                    15|\n",
       "|aec13cfd611b2cfea...|          1|        0.0|                    19|\n",
       "|9ba8c96ccba6cd1f0...|          0|        0.0|                    37|\n",
       "|2cf47faee0c996343...|          0|        0.0|                    24|\n",
       "|220e4dd490018abff...|          0|        0.0|                    57|\n",
       "|aaa32c29cb9ccc7ff...|          0|        0.0|                    35|\n",
       "|af7a8a661df3318bd...|          2|        0.0|                     7|\n",
       "|0e744cffa05697dfa...|          0|        0.0|                    45|\n",
       "+--------------------+-----------+-----------+----------------------+\n",
       "only showing top 20 rows"
      ]
     },
     "execution_count": 25,
     "metadata": {},
     "output_type": "execute_result"
    }
   ],
   "source": [
    "loansDefDelinq"
   ]
  },
  {
   "cell_type": "code",
   "execution_count": 26,
   "id": "834def42",
   "metadata": {},
   "outputs": [],
   "source": [
    "loansDefRecords = spark.sql(\"select member_id,pub_rec, pub_rec_bankruptcies, inq_last_6mths from loan_defaulters \")"
   ]
  },
  {
   "cell_type": "code",
   "execution_count": 31,
   "id": "eda39e7e",
   "metadata": {},
   "outputs": [
    {
     "data": {
      "text/html": [
       "<table border='1'>\n",
       "<tr><th>member_id</th><th>pub_rec</th><th>pub_rec_bankruptcies</th><th>inq_last_6mths</th></tr>\n",
       "<tr><td>b59d80da191f5b573...</td><td>0</td><td>0</td><td>1</td></tr>\n",
       "<tr><td>202d9f56ecb7c3bc9...</td><td>0</td><td>0</td><td>0</td></tr>\n",
       "<tr><td>e5a140c0922b554b9...</td><td>0</td><td>0</td><td>0</td></tr>\n",
       "<tr><td>e12aefc548f750777...</td><td>0</td><td>0</td><td>0</td></tr>\n",
       "<tr><td>1b3a50d854fbbf97e...</td><td>0</td><td>0</td><td>0</td></tr>\n",
       "<tr><td>1c4329e5f17697127...</td><td>0</td><td>0</td><td>0</td></tr>\n",
       "<tr><td>5026c86ad983175eb...</td><td>1</td><td>0</td><td>2</td></tr>\n",
       "<tr><td>9847d8c1e9d0b2084...</td><td>2</td><td>0</td><td>0</td></tr>\n",
       "<tr><td>8340dbe1adea41fb4...</td><td>0</td><td>0</td><td>0</td></tr>\n",
       "<tr><td>d4de0de3ab7d79ad4...</td><td>0</td><td>0</td><td>0</td></tr>\n",
       "<tr><td>3df3cdeddb74a8712...</td><td>0</td><td>0</td><td>0</td></tr>\n",
       "<tr><td>9dd72636b1b4045b4...</td><td>0</td><td>0</td><td>3</td></tr>\n",
       "<tr><td>1d4e1ef4353b73c00...</td><td>0</td><td>0</td><td>2</td></tr>\n",
       "<tr><td>6f196952e71277fd4...</td><td>0</td><td>0</td><td>0</td></tr>\n",
       "<tr><td>9c617cbc6e3e3d6a1...</td><td>0</td><td>0</td><td>2</td></tr>\n",
       "<tr><td>45eb04dd75400a942...</td><td>0</td><td>0</td><td>2</td></tr>\n",
       "<tr><td>08d233c81f9e50726...</td><td>0</td><td>0</td><td>1</td></tr>\n",
       "<tr><td>8ff4d0ed17a1cab92...</td><td>2</td><td>0</td><td>2</td></tr>\n",
       "<tr><td>aec13cfd611b2cfea...</td><td>0</td><td>0</td><td>1</td></tr>\n",
       "<tr><td>9ba8c96ccba6cd1f0...</td><td>0</td><td>0</td><td>0</td></tr>\n",
       "</table>\n",
       "only showing top 20 rows\n"
      ],
      "text/plain": [
       "DataFrame[member_id: string, pub_rec: int, pub_rec_bankruptcies: int, inq_last_6mths: int]"
      ]
     },
     "execution_count": 31,
     "metadata": {},
     "output_type": "execute_result"
    }
   ],
   "source": [
    "loansDefRecords"
   ]
  },
  {
   "cell_type": "code",
   "execution_count": 27,
   "id": "3cebb2c2",
   "metadata": {},
   "outputs": [],
   "source": [
    "loansDefDelinq.write \\\n",
    ".option(\"header\", True) \\\n",
    ".format(\"csv\") \\\n",
    ".mode(\"overwrite\") \\\n",
    ".option(\"path\", \"/user/anil/lendingClubProject/cleansed/NoLoansDefaultersCsv\") \\\n",
    ".save()"
   ]
  },
  {
   "cell_type": "code",
   "execution_count": 28,
   "id": "60a0e5fe",
   "metadata": {},
   "outputs": [],
   "source": [
    "loansDefDelinq.write \\\n",
    ".format(\"parquet\") \\\n",
    ".mode(\"overwrite\") \\\n",
    ".option(\"path\", \"/user/anil/lendingClubProject/cleansed/NoLoansDefaultersParquet\") \\\n",
    ".save()"
   ]
  },
  {
   "cell_type": "code",
   "execution_count": 32,
   "id": "20b3609f",
   "metadata": {},
   "outputs": [],
   "source": [
    "loansDefRecords.write \\\n",
    ".option(\"header\", True) \\\n",
    ".format(\"csv\") \\\n",
    ".mode(\"overwrite\") \\\n",
    ".option(\"path\", \"/user/anil/lendingClubProject/cleansed/LoansDefaultersCsv\") \\\n",
    ".save()"
   ]
  },
  {
   "cell_type": "code",
   "execution_count": 33,
   "id": "5f0a0c1a",
   "metadata": {},
   "outputs": [],
   "source": [
    "loansDefRecords.write \\\n",
    ".format(\"parquet\") \\\n",
    ".mode(\"overwrite\") \\\n",
    ".option(\"path\", \"/user/anil/lendingClubProject/cleansed/LoansDefaultersParquet\") \\\n",
    ".save()"
   ]
  }
 ],
 "metadata": {
  "kernelspec": {
   "display_name": "Pyspark 3",
   "language": "python",
   "name": "pyspark3"
  },
  "language_info": {
   "codemirror_mode": {
    "name": "ipython",
    "version": 3
   },
   "file_extension": ".py",
   "mimetype": "text/x-python",
   "name": "python",
   "nbconvert_exporter": "python",
   "pygments_lexer": "ipython3",
   "version": "3.6.12"
  }
 },
 "nbformat": 4,
 "nbformat_minor": 5
}
