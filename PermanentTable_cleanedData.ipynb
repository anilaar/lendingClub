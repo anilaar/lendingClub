{
 "cells": [
  {
   "cell_type": "code",
   "execution_count": 1,
   "id": "8e144ddf",
   "metadata": {},
   "outputs": [],
   "source": [
    "from pyspark.sql import SparkSession\n",
    "from pyspark.sql.functions import sha2, concat_ws\n",
    "from pyspark.sql.functions import *\n",
    "spark  = SparkSession.builder\\\n",
    "                    .appName(\"lendingClubProject\")\\\n",
    "                    .config('spark.shuffle.useOldFetchProtocol', 'true') \\\n",
    "                    .config(\"spark.sql.warehouse.dir\",\"/user/anil/warehouse\")\\\n",
    "                    .enableHiveSupport()\\\n",
    "                    .master('yarn')\\\n",
    "                    .getOrCreate()"
   ]
  },
  {
   "cell_type": "markdown",
   "id": "8bc4d5c9",
   "metadata": {},
   "source": [
    "# Creating external hive tables on top of cleansed files"
   ]
  },
  {
   "cell_type": "code",
   "execution_count": 2,
   "id": "5f753f21",
   "metadata": {},
   "outputs": [],
   "source": [
    "customers_df = spark.read \\\n",
    ".format(\"parquet\") \\\n",
    ".load(\"/user/anil/lendingClubProject/cleansed/customersParquet\")"
   ]
  },
  {
   "cell_type": "code",
   "execution_count": 3,
   "id": "97fdad90",
   "metadata": {},
   "outputs": [
    {
     "data": {
      "text/html": [
       "<table border='1'>\n",
       "<tr><th>member_id</th><th>emp_title</th><th>emp_length</th><th>home_ownership</th><th>annual_income</th><th>address_state</th><th>address_zipcode</th><th>address_country</th><th>grade</th><th>sub_grade</th><th>verification_status</th><th>total_high_credit_limit</th><th>application_type</th><th>join_annual_income</th><th>verification_status_joint</th><th>Ingeste_date</th></tr>\n",
       "<tr><td>5bad76b2473e8638c...</td><td>Funeral Director</td><td>3</td><td>RENT</td><td>56000.0</td><td>VA</td><td>221xx</td><td>USA</td><td>C</td><td>C2</td><td>Verified</td><td>61768.0</td><td>Individual</td><td>null</td><td>null</td><td>2024-11-13 08:02:04</td></tr>\n",
       "<tr><td>2651c8e4bc69338d8...</td><td>Technician</td><td>3</td><td>OWN</td><td>120000.0</td><td>OK</td><td>730xx</td><td>USA</td><td>A</td><td>A4</td><td>Not Verified</td><td>261126.0</td><td>Individual</td><td>null</td><td>null</td><td>2024-11-13 08:02:04</td></tr>\n",
       "<tr><td>2b3f2a8caa61c35eb...</td><td>International Fli...</td><td>10</td><td>MORTGAGE</td><td>60000.0</td><td>TX</td><td>773xx</td><td>USA</td><td>C</td><td>C3</td><td>Not Verified</td><td>144189.0</td><td>Individual</td><td>null</td><td>null</td><td>2024-11-13 08:02:04</td></tr>\n",
       "<tr><td>432ea84f5b9715a27...</td><td>Carpenter</td><td>5</td><td>RENT</td><td>12000.0</td><td>CA</td><td>945xx</td><td>USA</td><td>A</td><td>A5</td><td>Not Verified</td><td>16300.0</td><td>Individual</td><td>null</td><td>null</td><td>2024-11-13 08:02:04</td></tr>\n",
       "<tr><td>cfbb2e6dd37657fcc...</td><td>Office work</td><td>8</td><td>MORTGAGE</td><td>30000.0</td><td>FL</td><td>334xx</td><td>USA</td><td>A</td><td>A3</td><td>Not Verified</td><td>43000.0</td><td>Individual</td><td>null</td><td>null</td><td>2024-11-13 08:02:04</td></tr>\n",
       "<tr><td>d1946d1099882c06a...</td><td>Deli Manager</td><td>10</td><td>MORTGAGE</td><td>60000.0</td><td>NY</td><td>119xx</td><td>USA</td><td>B</td><td>B3</td><td>Not Verified</td><td>305570.0</td><td>Individual</td><td>null</td><td>null</td><td>2024-11-13 08:02:04</td></tr>\n",
       "<tr><td>3a8b3e793b034aa4b...</td><td>Hair stylist</td><td>1</td><td>RENT</td><td>30000.0</td><td>GA</td><td>303xx</td><td>USA</td><td>B</td><td>B3</td><td>Not Verified</td><td>56962.0</td><td>Individual</td><td>null</td><td>null</td><td>2024-11-13 08:02:04</td></tr>\n",
       "<tr><td>3576f3b052b25e27b...</td><td>RECEPTIONIST</td><td>10</td><td>RENT</td><td>102000.0</td><td>NJ</td><td>070xx</td><td>USA</td><td>B</td><td>B3</td><td>Verified</td><td>35435.0</td><td>Individual</td><td>null</td><td>null</td><td>2024-11-13 08:02:04</td></tr>\n",
       "<tr><td>a41b62fdeb37c6783...</td><td>Office Administrator</td><td>5</td><td>MORTGAGE</td><td>70000.0</td><td>FL</td><td>330xx</td><td>USA</td><td>D</td><td>D4</td><td>Source Verified</td><td>283460.0</td><td>Individual</td><td>null</td><td>null</td><td>2024-11-13 08:02:04</td></tr>\n",
       "<tr><td>efc9537c442236da0...</td><td>Pharmacist</td><td>1</td><td>RENT</td><td>80000.0</td><td>TN</td><td>379xx</td><td>USA</td><td>A</td><td>A5</td><td>Not Verified</td><td>64936.0</td><td>Individual</td><td>null</td><td>null</td><td>2024-11-13 08:02:04</td></tr>\n",
       "<tr><td>14adf470df68384f1...</td><td>Driver</td><td>2</td><td>RENT</td><td>63000.0</td><td>NJ</td><td>076xx</td><td>USA</td><td>B</td><td>B4</td><td>Source Verified</td><td>67100.0</td><td>Individual</td><td>null</td><td>null</td><td>2024-11-13 08:02:04</td></tr>\n",
       "<tr><td>558441637fd09abb8...</td><td>Machine Operator</td><td>10</td><td>MORTGAGE</td><td>83000.0</td><td>NM</td><td>880xx</td><td>USA</td><td>A</td><td>A1</td><td>Not Verified</td><td>366925.0</td><td>Individual</td><td>null</td><td>null</td><td>2024-11-13 08:02:04</td></tr>\n",
       "<tr><td>3c3cef728cc1ae03c...</td><td>Teacher</td><td>8</td><td>RENT</td><td>64000.0</td><td>GA</td><td>313xx</td><td>USA</td><td>D</td><td>D1</td><td>Source Verified</td><td>74469.0</td><td>Individual</td><td>null</td><td>null</td><td>2024-11-13 08:02:04</td></tr>\n",
       "<tr><td>66db980e4df58b3ce...</td><td>Convention Servic...</td><td>6</td><td>RENT</td><td>47000.0</td><td>NV</td><td>890xx</td><td>USA</td><td>B</td><td>B2</td><td>Not Verified</td><td>33162.0</td><td>Individual</td><td>null</td><td>null</td><td>2024-11-13 08:02:04</td></tr>\n",
       "<tr><td>ea2d28d254a0cb87e...</td><td>Firefighter</td><td>3</td><td>OWN</td><td>38000.0</td><td>LA</td><td>713xx</td><td>USA</td><td>B</td><td>B1</td><td>Not Verified</td><td>116489.0</td><td>Individual</td><td>null</td><td>null</td><td>2024-11-13 08:02:04</td></tr>\n",
       "<tr><td>d82a061d0805d2ec5...</td><td>Sr. HR Ops &amp; Cust...</td><td>2</td><td>RENT</td><td>43762.2</td><td>PA</td><td>152xx</td><td>USA</td><td>C</td><td>C4</td><td>Source Verified</td><td>78150.0</td><td>Individual</td><td>null</td><td>null</td><td>2024-11-13 08:02:04</td></tr>\n",
       "<tr><td>af67a736cab58e92a...</td><td>teacher</td><td>10</td><td>RENT</td><td>85000.0</td><td>NJ</td><td>070xx</td><td>USA</td><td>B</td><td>B1</td><td>Not Verified</td><td>80496.0</td><td>Individual</td><td>null</td><td>null</td><td>2024-11-13 08:02:04</td></tr>\n",
       "<tr><td>16c92e404dbf53db9...</td><td>Manager</td><td>7</td><td>MORTGAGE</td><td>98500.0</td><td>TX</td><td>752xx</td><td>USA</td><td>A</td><td>A4</td><td>Not Verified</td><td>369431.0</td><td>Individual</td><td>null</td><td>null</td><td>2024-11-13 08:02:04</td></tr>\n",
       "<tr><td>4fcb0611de9e25043...</td><td>Executive Directo...</td><td>3</td><td>MORTGAGE</td><td>120000.0</td><td>MS</td><td>393xx</td><td>USA</td><td>B</td><td>B4</td><td>Verified</td><td>413973.0</td><td>Individual</td><td>null</td><td>null</td><td>2024-11-13 08:02:04</td></tr>\n",
       "<tr><td>6e8df329c8a3a9add...</td><td>Master Teacher</td><td>9</td><td>OWN</td><td>55000.0</td><td>FL</td><td>331xx</td><td>USA</td><td>B</td><td>B2</td><td>Not Verified</td><td>56116.0</td><td>Individual</td><td>null</td><td>null</td><td>2024-11-13 08:02:04</td></tr>\n",
       "</table>\n",
       "only showing top 20 rows\n"
      ],
      "text/plain": [
       "+--------------------+--------------------+----------+--------------+-------------+-------------+---------------+---------------+-----+---------+-------------------+-----------------------+----------------+------------------+-------------------------+-------------------+\n",
       "|           member_id|           emp_title|emp_length|home_ownership|annual_income|address_state|address_zipcode|address_country|grade|sub_grade|verification_status|total_high_credit_limit|application_type|join_annual_income|verification_status_joint|       Ingeste_date|\n",
       "+--------------------+--------------------+----------+--------------+-------------+-------------+---------------+---------------+-----+---------+-------------------+-----------------------+----------------+------------------+-------------------------+-------------------+\n",
       "|5bad76b2473e8638c...|    Funeral Director|         3|          RENT|      56000.0|           VA|          221xx|            USA|    C|       C2|           Verified|                61768.0|      Individual|              null|                     null|2024-11-13 08:02:04|\n",
       "|2651c8e4bc69338d8...|          Technician|         3|           OWN|     120000.0|           OK|          730xx|            USA|    A|       A4|       Not Verified|               261126.0|      Individual|              null|                     null|2024-11-13 08:02:04|\n",
       "|2b3f2a8caa61c35eb...|International Fli...|        10|      MORTGAGE|      60000.0|           TX|          773xx|            USA|    C|       C3|       Not Verified|               144189.0|      Individual|              null|                     null|2024-11-13 08:02:04|\n",
       "|432ea84f5b9715a27...|           Carpenter|         5|          RENT|      12000.0|           CA|          945xx|            USA|    A|       A5|       Not Verified|                16300.0|      Individual|              null|                     null|2024-11-13 08:02:04|\n",
       "|cfbb2e6dd37657fcc...|         Office work|         8|      MORTGAGE|      30000.0|           FL|          334xx|            USA|    A|       A3|       Not Verified|                43000.0|      Individual|              null|                     null|2024-11-13 08:02:04|\n",
       "|d1946d1099882c06a...|        Deli Manager|        10|      MORTGAGE|      60000.0|           NY|          119xx|            USA|    B|       B3|       Not Verified|               305570.0|      Individual|              null|                     null|2024-11-13 08:02:04|\n",
       "|3a8b3e793b034aa4b...|        Hair stylist|         1|          RENT|      30000.0|           GA|          303xx|            USA|    B|       B3|       Not Verified|                56962.0|      Individual|              null|                     null|2024-11-13 08:02:04|\n",
       "|3576f3b052b25e27b...|        RECEPTIONIST|        10|          RENT|     102000.0|           NJ|          070xx|            USA|    B|       B3|           Verified|                35435.0|      Individual|              null|                     null|2024-11-13 08:02:04|\n",
       "|a41b62fdeb37c6783...|Office Administrator|         5|      MORTGAGE|      70000.0|           FL|          330xx|            USA|    D|       D4|    Source Verified|               283460.0|      Individual|              null|                     null|2024-11-13 08:02:04|\n",
       "|efc9537c442236da0...|          Pharmacist|         1|          RENT|      80000.0|           TN|          379xx|            USA|    A|       A5|       Not Verified|                64936.0|      Individual|              null|                     null|2024-11-13 08:02:04|\n",
       "|14adf470df68384f1...|              Driver|         2|          RENT|      63000.0|           NJ|          076xx|            USA|    B|       B4|    Source Verified|                67100.0|      Individual|              null|                     null|2024-11-13 08:02:04|\n",
       "|558441637fd09abb8...|    Machine Operator|        10|      MORTGAGE|      83000.0|           NM|          880xx|            USA|    A|       A1|       Not Verified|               366925.0|      Individual|              null|                     null|2024-11-13 08:02:04|\n",
       "|3c3cef728cc1ae03c...|             Teacher|         8|          RENT|      64000.0|           GA|          313xx|            USA|    D|       D1|    Source Verified|                74469.0|      Individual|              null|                     null|2024-11-13 08:02:04|\n",
       "|66db980e4df58b3ce...|Convention Servic...|         6|          RENT|      47000.0|           NV|          890xx|            USA|    B|       B2|       Not Verified|                33162.0|      Individual|              null|                     null|2024-11-13 08:02:04|\n",
       "|ea2d28d254a0cb87e...|         Firefighter|         3|           OWN|      38000.0|           LA|          713xx|            USA|    B|       B1|       Not Verified|               116489.0|      Individual|              null|                     null|2024-11-13 08:02:04|\n",
       "|d82a061d0805d2ec5...|Sr. HR Ops & Cust...|         2|          RENT|      43762.2|           PA|          152xx|            USA|    C|       C4|    Source Verified|                78150.0|      Individual|              null|                     null|2024-11-13 08:02:04|\n",
       "|af67a736cab58e92a...|             teacher|        10|          RENT|      85000.0|           NJ|          070xx|            USA|    B|       B1|       Not Verified|                80496.0|      Individual|              null|                     null|2024-11-13 08:02:04|\n",
       "|16c92e404dbf53db9...|             Manager|         7|      MORTGAGE|      98500.0|           TX|          752xx|            USA|    A|       A4|       Not Verified|               369431.0|      Individual|              null|                     null|2024-11-13 08:02:04|\n",
       "|4fcb0611de9e25043...|Executive Directo...|         3|      MORTGAGE|     120000.0|           MS|          393xx|            USA|    B|       B4|           Verified|               413973.0|      Individual|              null|                     null|2024-11-13 08:02:04|\n",
       "|6e8df329c8a3a9add...|      Master Teacher|         9|           OWN|      55000.0|           FL|          331xx|            USA|    B|       B2|       Not Verified|                56116.0|      Individual|              null|                     null|2024-11-13 08:02:04|\n",
       "+--------------------+--------------------+----------+--------------+-------------+-------------+---------------+---------------+-----+---------+-------------------+-----------------------+----------------+------------------+-------------------------+-------------------+\n",
       "only showing top 20 rows"
      ]
     },
     "execution_count": 3,
     "metadata": {},
     "output_type": "execute_result"
    }
   ],
   "source": [
    "customers_df"
   ]
  },
  {
   "cell_type": "code",
   "execution_count": 4,
   "id": "f9103cb1",
   "metadata": {},
   "outputs": [
    {
     "data": {
      "text/html": [
       "<table border='1'>\n",
       "<tr><th></th></tr>\n",
       "</table>\n"
      ],
      "text/plain": [
       "++\n",
       "||\n",
       "++\n",
       "++"
      ]
     },
     "execution_count": 4,
     "metadata": {},
     "output_type": "execute_result"
    }
   ],
   "source": [
    "spark.sql('create database if not exists lendingClub_525')"
   ]
  },
  {
   "cell_type": "code",
   "execution_count": 2,
   "id": "2c8a894b",
   "metadata": {},
   "outputs": [
    {
     "data": {
      "text/html": [
       "<table border='1'>\n",
       "<tr><th></th></tr>\n",
       "</table>\n"
      ],
      "text/plain": [
       "++\n",
       "||\n",
       "++\n",
       "++"
      ]
     },
     "execution_count": 2,
     "metadata": {},
     "output_type": "execute_result"
    }
   ],
   "source": [
    "spark.sql('use lendingClub_525')"
   ]
  },
  {
   "cell_type": "code",
   "execution_count": 10,
   "id": "3b024074",
   "metadata": {},
   "outputs": [
    {
     "data": {
      "text/html": [
       "<table border='1'>\n",
       "<tr><th></th></tr>\n",
       "</table>\n"
      ],
      "text/plain": [
       "++\n",
       "||\n",
       "++\n",
       "++"
      ]
     },
     "execution_count": 10,
     "metadata": {},
     "output_type": "execute_result"
    }
   ],
   "source": [
    "spark.sql(\"\"\"create table if not exists lendingClub_525.customers (member_id string, emp_title string, emp_length int, \n",
    "home_ownership string, annual_income float, address_state string, address_zipcode string, address_country string, grade string, \n",
    "sub_grade string, verification_status string, total_high_credit_limit float, application_type string, join_annual_income float, \n",
    "verification_status_joint string, ingest_date timestamp) using parquet location '/user/anil/lendingClubProject/cleansed/customersParquet' \"\"\")"
   ]
  },
  {
   "cell_type": "code",
   "execution_count": 6,
   "id": "71f411b4",
   "metadata": {},
   "outputs": [
    {
     "data": {
      "text/html": [
       "<table border='1'>\n",
       "<tr><th>member_id</th><th>emp_title</th><th>emp_length</th><th>home_ownership</th><th>annual_income</th><th>address_state</th><th>address_zipcode</th><th>address_country</th><th>grade</th><th>sub_grade</th><th>verification_status</th><th>total_high_credit_limit</th><th>application_type</th><th>join_annual_income</th><th>verification_status_joint</th><th>ingest_date</th></tr>\n",
       "<tr><td>5bad76b2473e8638c...</td><td>Funeral Director</td><td>3</td><td>RENT</td><td>56000.0</td><td>VA</td><td>221xx</td><td>USA</td><td>C</td><td>C2</td><td>Verified</td><td>61768.0</td><td>Individual</td><td>null</td><td>null</td><td>null</td></tr>\n",
       "<tr><td>2651c8e4bc69338d8...</td><td>Technician</td><td>3</td><td>OWN</td><td>120000.0</td><td>OK</td><td>730xx</td><td>USA</td><td>A</td><td>A4</td><td>Not Verified</td><td>261126.0</td><td>Individual</td><td>null</td><td>null</td><td>null</td></tr>\n",
       "<tr><td>2b3f2a8caa61c35eb...</td><td>International Fli...</td><td>10</td><td>MORTGAGE</td><td>60000.0</td><td>TX</td><td>773xx</td><td>USA</td><td>C</td><td>C3</td><td>Not Verified</td><td>144189.0</td><td>Individual</td><td>null</td><td>null</td><td>null</td></tr>\n",
       "<tr><td>432ea84f5b9715a27...</td><td>Carpenter</td><td>5</td><td>RENT</td><td>12000.0</td><td>CA</td><td>945xx</td><td>USA</td><td>A</td><td>A5</td><td>Not Verified</td><td>16300.0</td><td>Individual</td><td>null</td><td>null</td><td>null</td></tr>\n",
       "<tr><td>cfbb2e6dd37657fcc...</td><td>Office work</td><td>8</td><td>MORTGAGE</td><td>30000.0</td><td>FL</td><td>334xx</td><td>USA</td><td>A</td><td>A3</td><td>Not Verified</td><td>43000.0</td><td>Individual</td><td>null</td><td>null</td><td>null</td></tr>\n",
       "<tr><td>d1946d1099882c06a...</td><td>Deli Manager</td><td>10</td><td>MORTGAGE</td><td>60000.0</td><td>NY</td><td>119xx</td><td>USA</td><td>B</td><td>B3</td><td>Not Verified</td><td>305570.0</td><td>Individual</td><td>null</td><td>null</td><td>null</td></tr>\n",
       "<tr><td>3a8b3e793b034aa4b...</td><td>Hair stylist</td><td>1</td><td>RENT</td><td>30000.0</td><td>GA</td><td>303xx</td><td>USA</td><td>B</td><td>B3</td><td>Not Verified</td><td>56962.0</td><td>Individual</td><td>null</td><td>null</td><td>null</td></tr>\n",
       "<tr><td>3576f3b052b25e27b...</td><td>RECEPTIONIST</td><td>10</td><td>RENT</td><td>102000.0</td><td>NJ</td><td>070xx</td><td>USA</td><td>B</td><td>B3</td><td>Verified</td><td>35435.0</td><td>Individual</td><td>null</td><td>null</td><td>null</td></tr>\n",
       "<tr><td>a41b62fdeb37c6783...</td><td>Office Administrator</td><td>5</td><td>MORTGAGE</td><td>70000.0</td><td>FL</td><td>330xx</td><td>USA</td><td>D</td><td>D4</td><td>Source Verified</td><td>283460.0</td><td>Individual</td><td>null</td><td>null</td><td>null</td></tr>\n",
       "<tr><td>efc9537c442236da0...</td><td>Pharmacist</td><td>1</td><td>RENT</td><td>80000.0</td><td>TN</td><td>379xx</td><td>USA</td><td>A</td><td>A5</td><td>Not Verified</td><td>64936.0</td><td>Individual</td><td>null</td><td>null</td><td>null</td></tr>\n",
       "<tr><td>14adf470df68384f1...</td><td>Driver</td><td>2</td><td>RENT</td><td>63000.0</td><td>NJ</td><td>076xx</td><td>USA</td><td>B</td><td>B4</td><td>Source Verified</td><td>67100.0</td><td>Individual</td><td>null</td><td>null</td><td>null</td></tr>\n",
       "<tr><td>558441637fd09abb8...</td><td>Machine Operator</td><td>10</td><td>MORTGAGE</td><td>83000.0</td><td>NM</td><td>880xx</td><td>USA</td><td>A</td><td>A1</td><td>Not Verified</td><td>366925.0</td><td>Individual</td><td>null</td><td>null</td><td>null</td></tr>\n",
       "<tr><td>3c3cef728cc1ae03c...</td><td>Teacher</td><td>8</td><td>RENT</td><td>64000.0</td><td>GA</td><td>313xx</td><td>USA</td><td>D</td><td>D1</td><td>Source Verified</td><td>74469.0</td><td>Individual</td><td>null</td><td>null</td><td>null</td></tr>\n",
       "<tr><td>66db980e4df58b3ce...</td><td>Convention Servic...</td><td>6</td><td>RENT</td><td>47000.0</td><td>NV</td><td>890xx</td><td>USA</td><td>B</td><td>B2</td><td>Not Verified</td><td>33162.0</td><td>Individual</td><td>null</td><td>null</td><td>null</td></tr>\n",
       "<tr><td>ea2d28d254a0cb87e...</td><td>Firefighter</td><td>3</td><td>OWN</td><td>38000.0</td><td>LA</td><td>713xx</td><td>USA</td><td>B</td><td>B1</td><td>Not Verified</td><td>116489.0</td><td>Individual</td><td>null</td><td>null</td><td>null</td></tr>\n",
       "<tr><td>d82a061d0805d2ec5...</td><td>Sr. HR Ops &amp; Cust...</td><td>2</td><td>RENT</td><td>43762.2</td><td>PA</td><td>152xx</td><td>USA</td><td>C</td><td>C4</td><td>Source Verified</td><td>78150.0</td><td>Individual</td><td>null</td><td>null</td><td>null</td></tr>\n",
       "<tr><td>af67a736cab58e92a...</td><td>teacher</td><td>10</td><td>RENT</td><td>85000.0</td><td>NJ</td><td>070xx</td><td>USA</td><td>B</td><td>B1</td><td>Not Verified</td><td>80496.0</td><td>Individual</td><td>null</td><td>null</td><td>null</td></tr>\n",
       "<tr><td>16c92e404dbf53db9...</td><td>Manager</td><td>7</td><td>MORTGAGE</td><td>98500.0</td><td>TX</td><td>752xx</td><td>USA</td><td>A</td><td>A4</td><td>Not Verified</td><td>369431.0</td><td>Individual</td><td>null</td><td>null</td><td>null</td></tr>\n",
       "<tr><td>4fcb0611de9e25043...</td><td>Executive Directo...</td><td>3</td><td>MORTGAGE</td><td>120000.0</td><td>MS</td><td>393xx</td><td>USA</td><td>B</td><td>B4</td><td>Verified</td><td>413973.0</td><td>Individual</td><td>null</td><td>null</td><td>null</td></tr>\n",
       "<tr><td>6e8df329c8a3a9add...</td><td>Master Teacher</td><td>9</td><td>OWN</td><td>55000.0</td><td>FL</td><td>331xx</td><td>USA</td><td>B</td><td>B2</td><td>Not Verified</td><td>56116.0</td><td>Individual</td><td>null</td><td>null</td><td>null</td></tr>\n",
       "</table>\n",
       "only showing top 20 rows\n"
      ],
      "text/plain": [
       "+--------------------+--------------------+----------+--------------+-------------+-------------+---------------+---------------+-----+---------+-------------------+-----------------------+----------------+------------------+-------------------------+-----------+\n",
       "|           member_id|           emp_title|emp_length|home_ownership|annual_income|address_state|address_zipcode|address_country|grade|sub_grade|verification_status|total_high_credit_limit|application_type|join_annual_income|verification_status_joint|ingest_date|\n",
       "+--------------------+--------------------+----------+--------------+-------------+-------------+---------------+---------------+-----+---------+-------------------+-----------------------+----------------+------------------+-------------------------+-----------+\n",
       "|5bad76b2473e8638c...|    Funeral Director|         3|          RENT|      56000.0|           VA|          221xx|            USA|    C|       C2|           Verified|                61768.0|      Individual|              null|                     null|       null|\n",
       "|2651c8e4bc69338d8...|          Technician|         3|           OWN|     120000.0|           OK|          730xx|            USA|    A|       A4|       Not Verified|               261126.0|      Individual|              null|                     null|       null|\n",
       "|2b3f2a8caa61c35eb...|International Fli...|        10|      MORTGAGE|      60000.0|           TX|          773xx|            USA|    C|       C3|       Not Verified|               144189.0|      Individual|              null|                     null|       null|\n",
       "|432ea84f5b9715a27...|           Carpenter|         5|          RENT|      12000.0|           CA|          945xx|            USA|    A|       A5|       Not Verified|                16300.0|      Individual|              null|                     null|       null|\n",
       "|cfbb2e6dd37657fcc...|         Office work|         8|      MORTGAGE|      30000.0|           FL|          334xx|            USA|    A|       A3|       Not Verified|                43000.0|      Individual|              null|                     null|       null|\n",
       "|d1946d1099882c06a...|        Deli Manager|        10|      MORTGAGE|      60000.0|           NY|          119xx|            USA|    B|       B3|       Not Verified|               305570.0|      Individual|              null|                     null|       null|\n",
       "|3a8b3e793b034aa4b...|        Hair stylist|         1|          RENT|      30000.0|           GA|          303xx|            USA|    B|       B3|       Not Verified|                56962.0|      Individual|              null|                     null|       null|\n",
       "|3576f3b052b25e27b...|        RECEPTIONIST|        10|          RENT|     102000.0|           NJ|          070xx|            USA|    B|       B3|           Verified|                35435.0|      Individual|              null|                     null|       null|\n",
       "|a41b62fdeb37c6783...|Office Administrator|         5|      MORTGAGE|      70000.0|           FL|          330xx|            USA|    D|       D4|    Source Verified|               283460.0|      Individual|              null|                     null|       null|\n",
       "|efc9537c442236da0...|          Pharmacist|         1|          RENT|      80000.0|           TN|          379xx|            USA|    A|       A5|       Not Verified|                64936.0|      Individual|              null|                     null|       null|\n",
       "|14adf470df68384f1...|              Driver|         2|          RENT|      63000.0|           NJ|          076xx|            USA|    B|       B4|    Source Verified|                67100.0|      Individual|              null|                     null|       null|\n",
       "|558441637fd09abb8...|    Machine Operator|        10|      MORTGAGE|      83000.0|           NM|          880xx|            USA|    A|       A1|       Not Verified|               366925.0|      Individual|              null|                     null|       null|\n",
       "|3c3cef728cc1ae03c...|             Teacher|         8|          RENT|      64000.0|           GA|          313xx|            USA|    D|       D1|    Source Verified|                74469.0|      Individual|              null|                     null|       null|\n",
       "|66db980e4df58b3ce...|Convention Servic...|         6|          RENT|      47000.0|           NV|          890xx|            USA|    B|       B2|       Not Verified|                33162.0|      Individual|              null|                     null|       null|\n",
       "|ea2d28d254a0cb87e...|         Firefighter|         3|           OWN|      38000.0|           LA|          713xx|            USA|    B|       B1|       Not Verified|               116489.0|      Individual|              null|                     null|       null|\n",
       "|d82a061d0805d2ec5...|Sr. HR Ops & Cust...|         2|          RENT|      43762.2|           PA|          152xx|            USA|    C|       C4|    Source Verified|                78150.0|      Individual|              null|                     null|       null|\n",
       "|af67a736cab58e92a...|             teacher|        10|          RENT|      85000.0|           NJ|          070xx|            USA|    B|       B1|       Not Verified|                80496.0|      Individual|              null|                     null|       null|\n",
       "|16c92e404dbf53db9...|             Manager|         7|      MORTGAGE|      98500.0|           TX|          752xx|            USA|    A|       A4|       Not Verified|               369431.0|      Individual|              null|                     null|       null|\n",
       "|4fcb0611de9e25043...|Executive Directo...|         3|      MORTGAGE|     120000.0|           MS|          393xx|            USA|    B|       B4|           Verified|               413973.0|      Individual|              null|                     null|       null|\n",
       "|6e8df329c8a3a9add...|      Master Teacher|         9|           OWN|      55000.0|           FL|          331xx|            USA|    B|       B2|       Not Verified|                56116.0|      Individual|              null|                     null|       null|\n",
       "+--------------------+--------------------+----------+--------------+-------------+-------------+---------------+---------------+-----+---------+-------------------+-----------------------+----------------+------------------+-------------------------+-----------+\n",
       "only showing top 20 rows"
      ]
     },
     "execution_count": 6,
     "metadata": {},
     "output_type": "execute_result"
    }
   ],
   "source": [
    "spark.sql('select * from lendingClub_525.customers')"
   ]
  },
  {
   "cell_type": "code",
   "execution_count": 15,
   "id": "7d73a4a8",
   "metadata": {},
   "outputs": [
    {
     "data": {
      "text/html": [
       "<table border='1'>\n",
       "<tr><th></th></tr>\n",
       "</table>\n"
      ],
      "text/plain": [
       "++\n",
       "||\n",
       "++\n",
       "++"
      ]
     },
     "execution_count": 15,
     "metadata": {},
     "output_type": "execute_result"
    }
   ],
   "source": [
    "spark.sql(\"\"\"create table if not exists lendingClub_525.loans (loan_id string, member_id string, loan_amount float, funded_amount float,\n",
    "loan_term_years integer, interest_rate float, monthly_installment float, issue_date string,\n",
    "loan_status string, loan_purpose string, loan_title string, ingest_date timestamp) stored as parquet location '/user/anil/lendingClubProject/cleansed/loansParquet' \"\"\")"
   ]
  },
  {
   "cell_type": "code",
   "execution_count": 7,
   "id": "9236a21c",
   "metadata": {},
   "outputs": [
    {
     "data": {
      "text/html": [
       "<table border='1'>\n",
       "<tr><th>loan_id</th><th>member_id</th><th>loan_amount</th><th>funded_amount</th><th>loan_term_years</th><th>interest_rate</th><th>monthly_installment</th><th>issue_date</th><th>loan_status</th><th>loan_purpose</th><th>loan_title</th><th>ingest_date</th></tr>\n",
       "<tr><td>59190291</td><td>0431f86978d2a85e9...</td><td>30000.0</td><td>30000.0</td><td>null</td><td>20.99</td><td>811.44</td><td>Oct-2015</td><td>Charged Off</td><td>credit_card</td><td>Credit card refin...</td><td>null</td></tr>\n",
       "<tr><td>60972894</td><td>d238f9b04eee8c1c7...</td><td>18000.0</td><td>18000.0</td><td>null</td><td>16.99</td><td>447.25</td><td>Oct-2015</td><td>Charged Off</td><td>debt_consolidation</td><td>Debt consolidation</td><td>null</td></tr>\n",
       "<tr><td>60960485</td><td>498dd5426f8f54cf6...</td><td>6300.0</td><td>6300.0</td><td>null</td><td>14.65</td><td>217.32</td><td>Oct-2015</td><td>Charged Off</td><td>debt_consolidation</td><td>Debt consolidation</td><td>null</td></tr>\n",
       "<tr><td>61036633</td><td>60bcff6473e4dfedc...</td><td>10000.0</td><td>10000.0</td><td>null</td><td>12.69</td><td>225.95</td><td>Oct-2015</td><td>Fully Paid</td><td>debt_consolidation</td><td>Debt consolidation</td><td>null</td></tr>\n",
       "<tr><td>60742072</td><td>a752b18765d069246...</td><td>8400.0</td><td>8400.0</td><td>null</td><td>7.26</td><td>260.37</td><td>Oct-2015</td><td>Fully Paid</td><td>credit_card</td><td>Credit card refin...</td><td>null</td></tr>\n",
       "<tr><td>60823793</td><td>9eddecb0503ede6a3...</td><td>12325.0</td><td>12325.0</td><td>null</td><td>26.77</td><td>374.66</td><td>Oct-2015</td><td>Charged Off</td><td>debt_consolidation</td><td>Debt consolidation</td><td>null</td></tr>\n",
       "<tr><td>60793669</td><td>986f35bcef677fd75...</td><td>35000.0</td><td>35000.0</td><td>null</td><td>13.33</td><td>802.29</td><td>Oct-2015</td><td>Charged Off</td><td>credit_card</td><td>Credit card refin...</td><td>null</td></tr>\n",
       "<tr><td>60963101</td><td>1e068f117261f6a58...</td><td>10000.0</td><td>10000.0</td><td>null</td><td>9.17</td><td>318.79</td><td>Oct-2015</td><td>Fully Paid</td><td>debt_consolidation</td><td>Debt consolidation</td><td>null</td></tr>\n",
       "<tr><td>60982977</td><td>9c082e773d5abee94...</td><td>18000.0</td><td>18000.0</td><td>null</td><td>9.99</td><td>382.36</td><td>Oct-2015</td><td>Current</td><td>debt_consolidation</td><td>Debt consolidation</td><td>null</td></tr>\n",
       "<tr><td>60883787</td><td>c08faf281a34d5fd3...</td><td>7350.0</td><td>7350.0</td><td>null</td><td>19.99</td><td>273.12</td><td>Oct-2015</td><td>Fully Paid</td><td>vacation</td><td>Vacation</td><td>null</td></tr>\n",
       "<tr><td>60763578</td><td>651faccc2116c5f59...</td><td>16000.0</td><td>16000.0</td><td>null</td><td>12.69</td><td>536.72</td><td>Oct-2015</td><td>Fully Paid</td><td>vacation</td><td>Vacation</td><td>null</td></tr>\n",
       "<tr><td>60833856</td><td>0c9d905c61b5bf5c8...</td><td>10000.0</td><td>10000.0</td><td>null</td><td>12.69</td><td>335.45</td><td>Oct-2015</td><td>Fully Paid</td><td>credit_card</td><td>Credit card refin...</td><td>null</td></tr>\n",
       "<tr><td>60862738</td><td>cc22ca69c18ff463e...</td><td>8000.0</td><td>8000.0</td><td>null</td><td>12.29</td><td>266.83</td><td>Oct-2015</td><td>Fully Paid</td><td>credit_card</td><td>Credit card refin...</td><td>null</td></tr>\n",
       "<tr><td>60646402</td><td>0c0eabf7cfa083c48...</td><td>10000.0</td><td>10000.0</td><td>null</td><td>15.61</td><td>349.65</td><td>Oct-2015</td><td>Fully Paid</td><td>debt_consolidation</td><td>Debt consolidation</td><td>null</td></tr>\n",
       "<tr><td>60793625</td><td>851f63505a0282d2b...</td><td>29800.0</td><td>29800.0</td><td>null</td><td>13.99</td><td>1018.35</td><td>Oct-2015</td><td>Charged Off</td><td>debt_consolidation</td><td>Debt consolidation</td><td>null</td></tr>\n",
       "<tr><td>60962917</td><td>e54765c1173c3a7d7...</td><td>6850.0</td><td>6850.0</td><td>null</td><td>16.99</td><td>244.19</td><td>Oct-2015</td><td>Fully Paid</td><td>debt_consolidation</td><td>Debt consolidation</td><td>null</td></tr>\n",
       "<tr><td>60783588</td><td>6b7801b852c0821b3...</td><td>6000.0</td><td>6000.0</td><td>null</td><td>12.29</td><td>200.12</td><td>Oct-2015</td><td>Fully Paid</td><td>debt_consolidation</td><td>Debt consolidation</td><td>null</td></tr>\n",
       "<tr><td>60863059</td><td>9d58fc15e29f94431...</td><td>5000.0</td><td>5000.0</td><td>null</td><td>11.53</td><td>164.96</td><td>Oct-2015</td><td>Fully Paid</td><td>credit_card</td><td>Credit card refin...</td><td>null</td></tr>\n",
       "<tr><td>60953867</td><td>f5e31743118609611...</td><td>18000.0</td><td>18000.0</td><td>null</td><td>8.18</td><td>366.53</td><td>Oct-2015</td><td>Current</td><td>credit_card</td><td>Credit card refin...</td><td>null</td></tr>\n",
       "<tr><td>60833500</td><td>40a2642b396f8fbd1...</td><td>12000.0</td><td>12000.0</td><td>null</td><td>7.89</td><td>375.43</td><td>Oct-2015</td><td>Fully Paid</td><td>debt_consolidation</td><td>Debt consolidation</td><td>null</td></tr>\n",
       "</table>\n",
       "only showing top 20 rows\n"
      ],
      "text/plain": [
       "+--------+--------------------+-----------+-------------+---------------+-------------+-------------------+----------+-----------+------------------+--------------------+-----------+\n",
       "| loan_id|           member_id|loan_amount|funded_amount|loan_term_years|interest_rate|monthly_installment|issue_date|loan_status|      loan_purpose|          loan_title|ingest_date|\n",
       "+--------+--------------------+-----------+-------------+---------------+-------------+-------------------+----------+-----------+------------------+--------------------+-----------+\n",
       "|59190291|0431f86978d2a85e9...|    30000.0|      30000.0|           null|        20.99|             811.44|  Oct-2015|Charged Off|       credit_card|Credit card refin...|       null|\n",
       "|60972894|d238f9b04eee8c1c7...|    18000.0|      18000.0|           null|        16.99|             447.25|  Oct-2015|Charged Off|debt_consolidation|  Debt consolidation|       null|\n",
       "|60960485|498dd5426f8f54cf6...|     6300.0|       6300.0|           null|        14.65|             217.32|  Oct-2015|Charged Off|debt_consolidation|  Debt consolidation|       null|\n",
       "|61036633|60bcff6473e4dfedc...|    10000.0|      10000.0|           null|        12.69|             225.95|  Oct-2015| Fully Paid|debt_consolidation|  Debt consolidation|       null|\n",
       "|60742072|a752b18765d069246...|     8400.0|       8400.0|           null|         7.26|             260.37|  Oct-2015| Fully Paid|       credit_card|Credit card refin...|       null|\n",
       "|60823793|9eddecb0503ede6a3...|    12325.0|      12325.0|           null|        26.77|             374.66|  Oct-2015|Charged Off|debt_consolidation|  Debt consolidation|       null|\n",
       "|60793669|986f35bcef677fd75...|    35000.0|      35000.0|           null|        13.33|             802.29|  Oct-2015|Charged Off|       credit_card|Credit card refin...|       null|\n",
       "|60963101|1e068f117261f6a58...|    10000.0|      10000.0|           null|         9.17|             318.79|  Oct-2015| Fully Paid|debt_consolidation|  Debt consolidation|       null|\n",
       "|60982977|9c082e773d5abee94...|    18000.0|      18000.0|           null|         9.99|             382.36|  Oct-2015|    Current|debt_consolidation|  Debt consolidation|       null|\n",
       "|60883787|c08faf281a34d5fd3...|     7350.0|       7350.0|           null|        19.99|             273.12|  Oct-2015| Fully Paid|          vacation|            Vacation|       null|\n",
       "|60763578|651faccc2116c5f59...|    16000.0|      16000.0|           null|        12.69|             536.72|  Oct-2015| Fully Paid|          vacation|            Vacation|       null|\n",
       "|60833856|0c9d905c61b5bf5c8...|    10000.0|      10000.0|           null|        12.69|             335.45|  Oct-2015| Fully Paid|       credit_card|Credit card refin...|       null|\n",
       "|60862738|cc22ca69c18ff463e...|     8000.0|       8000.0|           null|        12.29|             266.83|  Oct-2015| Fully Paid|       credit_card|Credit card refin...|       null|\n",
       "|60646402|0c0eabf7cfa083c48...|    10000.0|      10000.0|           null|        15.61|             349.65|  Oct-2015| Fully Paid|debt_consolidation|  Debt consolidation|       null|\n",
       "|60793625|851f63505a0282d2b...|    29800.0|      29800.0|           null|        13.99|            1018.35|  Oct-2015|Charged Off|debt_consolidation|  Debt consolidation|       null|\n",
       "|60962917|e54765c1173c3a7d7...|     6850.0|       6850.0|           null|        16.99|             244.19|  Oct-2015| Fully Paid|debt_consolidation|  Debt consolidation|       null|\n",
       "|60783588|6b7801b852c0821b3...|     6000.0|       6000.0|           null|        12.29|             200.12|  Oct-2015| Fully Paid|debt_consolidation|  Debt consolidation|       null|\n",
       "|60863059|9d58fc15e29f94431...|     5000.0|       5000.0|           null|        11.53|             164.96|  Oct-2015| Fully Paid|       credit_card|Credit card refin...|       null|\n",
       "|60953867|f5e31743118609611...|    18000.0|      18000.0|           null|         8.18|             366.53|  Oct-2015|    Current|       credit_card|Credit card refin...|       null|\n",
       "|60833500|40a2642b396f8fbd1...|    12000.0|      12000.0|           null|         7.89|             375.43|  Oct-2015| Fully Paid|debt_consolidation|  Debt consolidation|       null|\n",
       "+--------+--------------------+-----------+-------------+---------------+-------------+-------------------+----------+-----------+------------------+--------------------+-----------+\n",
       "only showing top 20 rows"
      ]
     },
     "execution_count": 7,
     "metadata": {},
     "output_type": "execute_result"
    }
   ],
   "source": [
    "spark.sql('select * from lendingClub_525.loans')"
   ]
  },
  {
   "cell_type": "code",
   "execution_count": 10,
   "id": "9abb9b14",
   "metadata": {},
   "outputs": [
    {
     "data": {
      "text/html": [
       "<table border='1'>\n",
       "<tr><th></th></tr>\n",
       "</table>\n"
      ],
      "text/plain": [
       "++\n",
       "||\n",
       "++\n",
       "++"
      ]
     },
     "execution_count": 10,
     "metadata": {},
     "output_type": "execute_result"
    }
   ],
   "source": [
    "spark.sql(\"\"\"create external table if not exists lendingClub_525.loans_repayments (loan_id_ string, total_principal_received float,\n",
    "total_interest_received float,total_late_fee_received float,total_payment_received float,last_payment_amount float,\n",
    "last_payment_date string,next_payment_date string,IngestedDateTime timestamp) stored as parquet \n",
    "location '/user/anil/lendingClubProject/cleansed/loansRepaymentParquet' \"\"\")"
   ]
  },
  {
   "cell_type": "code",
   "execution_count": 9,
   "id": "724b4f12",
   "metadata": {},
   "outputs": [
    {
     "data": {
      "text/html": [
       "<table border='1'>\n",
       "<tr><th></th></tr>\n",
       "</table>\n"
      ],
      "text/plain": [
       "++\n",
       "||\n",
       "++\n",
       "++"
      ]
     },
     "execution_count": 9,
     "metadata": {},
     "output_type": "execute_result"
    }
   ],
   "source": [
    "spark.sql('drop table lendingClub_525.loans_repayments')"
   ]
  },
  {
   "cell_type": "code",
   "execution_count": 11,
   "id": "64ec4444",
   "metadata": {},
   "outputs": [
    {
     "data": {
      "text/html": [
       "<table border='1'>\n",
       "<tr><th>loan_id_</th><th>total_principal_received</th><th>total_interest_received</th><th>total_late_fee_received</th><th>total_payment_received</th><th>last_payment_amount</th><th>last_payment_date</th><th>next_payment_date</th><th>IngestedDateTime</th></tr>\n",
       "<tr><td>68407277</td><td>3600.0</td><td>821.72</td><td>0.0</td><td>4421.724</td><td>122.67</td><td>null</td><td>null</td><td>2024-11-18 07:39:...</td></tr>\n",
       "<tr><td>68355089</td><td>24700.0</td><td>979.66</td><td>0.0</td><td>25679.66</td><td>926.35</td><td>null</td><td>null</td><td>2024-11-18 07:39:...</td></tr>\n",
       "<tr><td>68341763</td><td>20000.0</td><td>2705.92</td><td>0.0</td><td>22705.924</td><td>15813.3</td><td>null</td><td>null</td><td>2024-11-18 07:39:...</td></tr>\n",
       "<tr><td>66310712</td><td>19102.35</td><td>12361.66</td><td>0.0</td><td>31464.01</td><td>829.9</td><td>Apr-2019</td><td>Apr-2019</td><td>2024-11-18 07:39:...</td></tr>\n",
       "<tr><td>68476807</td><td>10400.0</td><td>1340.5</td><td>0.0</td><td>11740.5</td><td>10128.96</td><td>null</td><td>null</td><td>2024-11-18 07:39:...</td></tr>\n",
       "<tr><td>68426831</td><td>11950.0</td><td>1758.95</td><td>0.0</td><td>13708.948</td><td>7653.56</td><td>null</td><td>null</td><td>2024-11-18 07:39:...</td></tr>\n",
       "<tr><td>68476668</td><td>20000.0</td><td>1393.8</td><td>0.0</td><td>21393.8</td><td>15681.05</td><td>null</td><td>null</td><td>2024-11-18 07:39:...</td></tr>\n",
       "<tr><td>67275481</td><td>20000.0</td><td>1538.51</td><td>0.0</td><td>21538.51</td><td>14618.23</td><td>null</td><td>null</td><td>2024-11-18 07:39:...</td></tr>\n",
       "<tr><td>68466926</td><td>10000.0</td><td>998.97</td><td>0.0</td><td>10998.972</td><td>1814.48</td><td>null</td><td>null</td><td>2024-11-18 07:39:...</td></tr>\n",
       "<tr><td>68616873</td><td>8000.0</td><td>939.58</td><td>0.0</td><td>8939.58</td><td>4996.24</td><td>null</td><td>null</td><td>2024-11-18 07:39:...</td></tr>\n",
       "<tr><td>68356421</td><td>12487.12</td><td>6788.21</td><td>0.0</td><td>19275.33</td><td>508.3</td><td>Apr-2019</td><td>Apr-2019</td><td>2024-11-18 07:39:...</td></tr>\n",
       "<tr><td>68426545</td><td>8919.3</td><td>4848.74</td><td>0.0</td><td>13768.04</td><td>363.07</td><td>Apr-2019</td><td>Apr-2019</td><td>2024-11-18 07:39:...</td></tr>\n",
       "<tr><td>68338832</td><td>1400.0</td><td>175.16</td><td>0.0</td><td>1575.1606</td><td>965.36</td><td>null</td><td>null</td><td>2024-11-18 07:39:...</td></tr>\n",
       "<tr><td>66624733</td><td>3481.86</td><td>4351.98</td><td>0.0</td><td>9452.74</td><td>471.7</td><td>null</td><td>null</td><td>2024-11-18 07:39:...</td></tr>\n",
       "<tr><td>68466961</td><td>28000.0</td><td>1939.02</td><td>0.0</td><td>29939.018</td><td>17093.51</td><td>null</td><td>null</td><td>2024-11-18 07:39:...</td></tr>\n",
       "<tr><td>68354783</td><td>9600.0</td><td>1036.1</td><td>0.0</td><td>10636.099</td><td>3480.17</td><td>null</td><td>null</td><td>2024-11-18 07:39:...</td></tr>\n",
       "<tr><td>68466916</td><td>25000.0</td><td>1224.23</td><td>0.0</td><td>26224.23</td><td>20807.39</td><td>null</td><td>null</td><td>2024-11-18 07:39:...</td></tr>\n",
       "<tr><td>68577849</td><td>18000.0</td><td>387.22</td><td>0.0</td><td>18387.22</td><td>18004.9</td><td>null</td><td>null</td><td>2024-11-18 07:39:...</td></tr>\n",
       "<tr><td>68506798</td><td>13419.8</td><td>4480.34</td><td>0.0</td><td>17900.14</td><td>471.77</td><td>Apr-2019</td><td>Apr-2019</td><td>2024-11-18 07:39:...</td></tr>\n",
       "<tr><td>68495092</td><td>8650.0</td><td>540.49</td><td>0.0</td><td>9190.49</td><td>8251.42</td><td>null</td><td>null</td><td>2024-11-18 07:39:...</td></tr>\n",
       "</table>\n",
       "only showing top 20 rows\n"
      ],
      "text/plain": [
       "+--------+------------------------+-----------------------+-----------------------+----------------------+-------------------+-----------------+-----------------+--------------------+\n",
       "|loan_id_|total_principal_received|total_interest_received|total_late_fee_received|total_payment_received|last_payment_amount|last_payment_date|next_payment_date|    IngestedDateTime|\n",
       "+--------+------------------------+-----------------------+-----------------------+----------------------+-------------------+-----------------+-----------------+--------------------+\n",
       "|68407277|                  3600.0|                 821.72|                    0.0|              4421.724|             122.67|             null|             null|2024-11-18 07:39:...|\n",
       "|68355089|                 24700.0|                 979.66|                    0.0|              25679.66|             926.35|             null|             null|2024-11-18 07:39:...|\n",
       "|68341763|                 20000.0|                2705.92|                    0.0|             22705.924|            15813.3|             null|             null|2024-11-18 07:39:...|\n",
       "|66310712|                19102.35|               12361.66|                    0.0|              31464.01|              829.9|         Apr-2019|         Apr-2019|2024-11-18 07:39:...|\n",
       "|68476807|                 10400.0|                 1340.5|                    0.0|               11740.5|           10128.96|             null|             null|2024-11-18 07:39:...|\n",
       "|68426831|                 11950.0|                1758.95|                    0.0|             13708.948|            7653.56|             null|             null|2024-11-18 07:39:...|\n",
       "|68476668|                 20000.0|                 1393.8|                    0.0|               21393.8|           15681.05|             null|             null|2024-11-18 07:39:...|\n",
       "|67275481|                 20000.0|                1538.51|                    0.0|              21538.51|           14618.23|             null|             null|2024-11-18 07:39:...|\n",
       "|68466926|                 10000.0|                 998.97|                    0.0|             10998.972|            1814.48|             null|             null|2024-11-18 07:39:...|\n",
       "|68616873|                  8000.0|                 939.58|                    0.0|               8939.58|            4996.24|             null|             null|2024-11-18 07:39:...|\n",
       "|68356421|                12487.12|                6788.21|                    0.0|              19275.33|              508.3|         Apr-2019|         Apr-2019|2024-11-18 07:39:...|\n",
       "|68426545|                  8919.3|                4848.74|                    0.0|              13768.04|             363.07|         Apr-2019|         Apr-2019|2024-11-18 07:39:...|\n",
       "|68338832|                  1400.0|                 175.16|                    0.0|             1575.1606|             965.36|             null|             null|2024-11-18 07:39:...|\n",
       "|66624733|                 3481.86|                4351.98|                    0.0|               9452.74|              471.7|             null|             null|2024-11-18 07:39:...|\n",
       "|68466961|                 28000.0|                1939.02|                    0.0|             29939.018|           17093.51|             null|             null|2024-11-18 07:39:...|\n",
       "|68354783|                  9600.0|                 1036.1|                    0.0|             10636.099|            3480.17|             null|             null|2024-11-18 07:39:...|\n",
       "|68466916|                 25000.0|                1224.23|                    0.0|              26224.23|           20807.39|             null|             null|2024-11-18 07:39:...|\n",
       "|68577849|                 18000.0|                 387.22|                    0.0|              18387.22|            18004.9|             null|             null|2024-11-18 07:39:...|\n",
       "|68506798|                 13419.8|                4480.34|                    0.0|              17900.14|             471.77|         Apr-2019|         Apr-2019|2024-11-18 07:39:...|\n",
       "|68495092|                  8650.0|                 540.49|                    0.0|               9190.49|            8251.42|             null|             null|2024-11-18 07:39:...|\n",
       "+--------+------------------------+-----------------------+-----------------------+----------------------+-------------------+-----------------+-----------------+--------------------+\n",
       "only showing top 20 rows"
      ]
     },
     "execution_count": 11,
     "metadata": {},
     "output_type": "execute_result"
    }
   ],
   "source": [
    "spark.sql('select * from lendingClub_525.loans_repayments')"
   ]
  },
  {
   "cell_type": "code",
   "execution_count": 78,
   "id": "c29087f2",
   "metadata": {},
   "outputs": [
    {
     "data": {
      "text/html": [
       "<table border='1'>\n",
       "<tr><th></th></tr>\n",
       "</table>\n"
      ],
      "text/plain": [
       "++\n",
       "||\n",
       "++\n",
       "++"
      ]
     },
     "execution_count": 78,
     "metadata": {},
     "output_type": "execute_result"
    }
   ],
   "source": [
    "spark.sql(\"\"\"create external table if not exists lendingClub_525.loans_defaulters_delinq (member_id string, delinq_2yrs integer, delinq_amnt float, mths_since_last_delinq integer) stored as parquet \n",
    "location '/user/anil/lendingClubProject/cleansed/NoLoansDefaultersParquet' \"\"\")"
   ]
  },
  {
   "cell_type": "code",
   "execution_count": 79,
   "id": "ea4f7612",
   "metadata": {},
   "outputs": [
    {
     "data": {
      "text/html": [
       "<table border='1'>\n",
       "<tr><th>member_id</th><th>delinq_2yrs</th><th>delinq_amnt</th><th>mths_since_last_delinq</th></tr>\n",
       "<tr><td>b59d80da191f5b573...</td><td>0</td><td>0.0</td><td>31</td></tr>\n",
       "<tr><td>202d9f56ecb7c3bc9...</td><td>1</td><td>0.0</td><td>6</td></tr>\n",
       "<tr><td>e5a140c0922b554b9...</td><td>0</td><td>0.0</td><td>47</td></tr>\n",
       "<tr><td>e12aefc548f750777...</td><td>0</td><td>0.0</td><td>33</td></tr>\n",
       "<tr><td>1b3a50d854fbbf97e...</td><td>1</td><td>0.0</td><td>21</td></tr>\n",
       "<tr><td>9847d8c1e9d0b2084...</td><td>1</td><td>0.0</td><td>6</td></tr>\n",
       "<tr><td>8340dbe1adea41fb4...</td><td>0</td><td>0.0</td><td>36</td></tr>\n",
       "<tr><td>d4de0de3ab7d79ad4...</td><td>0</td><td>0.0</td><td>35</td></tr>\n",
       "<tr><td>1d4e1ef4353b73c00...</td><td>0</td><td>0.0</td><td>30</td></tr>\n",
       "<tr><td>6f196952e71277fd4...</td><td>4</td><td>0.0</td><td>5</td></tr>\n",
       "<tr><td>9c617cbc6e3e3d6a1...</td><td>1</td><td>0.0</td><td>20</td></tr>\n",
       "<tr><td>45eb04dd75400a942...</td><td>0</td><td>0.0</td><td>28</td></tr>\n",
       "<tr><td>8ff4d0ed17a1cab92...</td><td>1</td><td>0.0</td><td>15</td></tr>\n",
       "<tr><td>aec13cfd611b2cfea...</td><td>1</td><td>0.0</td><td>19</td></tr>\n",
       "<tr><td>9ba8c96ccba6cd1f0...</td><td>0</td><td>0.0</td><td>37</td></tr>\n",
       "<tr><td>2cf47faee0c996343...</td><td>0</td><td>0.0</td><td>24</td></tr>\n",
       "<tr><td>220e4dd490018abff...</td><td>0</td><td>0.0</td><td>57</td></tr>\n",
       "<tr><td>aaa32c29cb9ccc7ff...</td><td>0</td><td>0.0</td><td>35</td></tr>\n",
       "<tr><td>af7a8a661df3318bd...</td><td>2</td><td>0.0</td><td>7</td></tr>\n",
       "<tr><td>0e744cffa05697dfa...</td><td>0</td><td>0.0</td><td>45</td></tr>\n",
       "</table>\n",
       "only showing top 20 rows\n"
      ],
      "text/plain": [
       "+--------------------+-----------+-----------+----------------------+\n",
       "|           member_id|delinq_2yrs|delinq_amnt|mths_since_last_delinq|\n",
       "+--------------------+-----------+-----------+----------------------+\n",
       "|b59d80da191f5b573...|          0|        0.0|                    31|\n",
       "|202d9f56ecb7c3bc9...|          1|        0.0|                     6|\n",
       "|e5a140c0922b554b9...|          0|        0.0|                    47|\n",
       "|e12aefc548f750777...|          0|        0.0|                    33|\n",
       "|1b3a50d854fbbf97e...|          1|        0.0|                    21|\n",
       "|9847d8c1e9d0b2084...|          1|        0.0|                     6|\n",
       "|8340dbe1adea41fb4...|          0|        0.0|                    36|\n",
       "|d4de0de3ab7d79ad4...|          0|        0.0|                    35|\n",
       "|1d4e1ef4353b73c00...|          0|        0.0|                    30|\n",
       "|6f196952e71277fd4...|          4|        0.0|                     5|\n",
       "|9c617cbc6e3e3d6a1...|          1|        0.0|                    20|\n",
       "|45eb04dd75400a942...|          0|        0.0|                    28|\n",
       "|8ff4d0ed17a1cab92...|          1|        0.0|                    15|\n",
       "|aec13cfd611b2cfea...|          1|        0.0|                    19|\n",
       "|9ba8c96ccba6cd1f0...|          0|        0.0|                    37|\n",
       "|2cf47faee0c996343...|          0|        0.0|                    24|\n",
       "|220e4dd490018abff...|          0|        0.0|                    57|\n",
       "|aaa32c29cb9ccc7ff...|          0|        0.0|                    35|\n",
       "|af7a8a661df3318bd...|          2|        0.0|                     7|\n",
       "|0e744cffa05697dfa...|          0|        0.0|                    45|\n",
       "+--------------------+-----------+-----------+----------------------+\n",
       "only showing top 20 rows"
      ]
     },
     "execution_count": 79,
     "metadata": {},
     "output_type": "execute_result"
    }
   ],
   "source": [
    "spark.sql('select * from lendingClub_525.loans_defaulters_delinq')"
   ]
  },
  {
   "cell_type": "code",
   "execution_count": 80,
   "id": "b005a430",
   "metadata": {},
   "outputs": [
    {
     "data": {
      "text/html": [
       "<table border='1'>\n",
       "<tr><th></th></tr>\n",
       "</table>\n"
      ],
      "text/plain": [
       "++\n",
       "||\n",
       "++\n",
       "++"
      ]
     },
     "execution_count": 80,
     "metadata": {},
     "output_type": "execute_result"
    }
   ],
   "source": [
    "spark.sql(\"\"\"create external table if not exists lendingClub_525.loans_defaulters_detail_rec_enq ( member_id string, pub_rec integer, pub_rec_bankruptcies integer, inq_last_6mths integer) stored as parquet \n",
    "location '/user/anil/lendingClubProject/cleansed/LoansDefaultersParquet' \"\"\")"
   ]
  },
  {
   "cell_type": "code",
   "execution_count": 81,
   "id": "e90f6479",
   "metadata": {},
   "outputs": [
    {
     "data": {
      "text/html": [
       "<table border='1'>\n",
       "<tr><th>member_id</th><th>pub_rec</th><th>pub_rec_bankruptcies</th><th>inq_last_6mths</th></tr>\n",
       "<tr><td>b59d80da191f5b573...</td><td>0</td><td>0</td><td>1</td></tr>\n",
       "<tr><td>202d9f56ecb7c3bc9...</td><td>0</td><td>0</td><td>0</td></tr>\n",
       "<tr><td>e5a140c0922b554b9...</td><td>0</td><td>0</td><td>0</td></tr>\n",
       "<tr><td>e12aefc548f750777...</td><td>0</td><td>0</td><td>0</td></tr>\n",
       "<tr><td>1b3a50d854fbbf97e...</td><td>0</td><td>0</td><td>0</td></tr>\n",
       "<tr><td>1c4329e5f17697127...</td><td>0</td><td>0</td><td>0</td></tr>\n",
       "<tr><td>5026c86ad983175eb...</td><td>1</td><td>0</td><td>2</td></tr>\n",
       "<tr><td>9847d8c1e9d0b2084...</td><td>2</td><td>0</td><td>0</td></tr>\n",
       "<tr><td>8340dbe1adea41fb4...</td><td>0</td><td>0</td><td>0</td></tr>\n",
       "<tr><td>d4de0de3ab7d79ad4...</td><td>0</td><td>0</td><td>0</td></tr>\n",
       "<tr><td>3df3cdeddb74a8712...</td><td>0</td><td>0</td><td>0</td></tr>\n",
       "<tr><td>9dd72636b1b4045b4...</td><td>0</td><td>0</td><td>3</td></tr>\n",
       "<tr><td>1d4e1ef4353b73c00...</td><td>0</td><td>0</td><td>2</td></tr>\n",
       "<tr><td>6f196952e71277fd4...</td><td>0</td><td>0</td><td>0</td></tr>\n",
       "<tr><td>9c617cbc6e3e3d6a1...</td><td>0</td><td>0</td><td>2</td></tr>\n",
       "<tr><td>45eb04dd75400a942...</td><td>0</td><td>0</td><td>2</td></tr>\n",
       "<tr><td>08d233c81f9e50726...</td><td>0</td><td>0</td><td>1</td></tr>\n",
       "<tr><td>8ff4d0ed17a1cab92...</td><td>2</td><td>0</td><td>2</td></tr>\n",
       "<tr><td>aec13cfd611b2cfea...</td><td>0</td><td>0</td><td>1</td></tr>\n",
       "<tr><td>9ba8c96ccba6cd1f0...</td><td>0</td><td>0</td><td>0</td></tr>\n",
       "</table>\n",
       "only showing top 20 rows\n"
      ],
      "text/plain": [
       "+--------------------+-------+--------------------+--------------+\n",
       "|           member_id|pub_rec|pub_rec_bankruptcies|inq_last_6mths|\n",
       "+--------------------+-------+--------------------+--------------+\n",
       "|b59d80da191f5b573...|      0|                   0|             1|\n",
       "|202d9f56ecb7c3bc9...|      0|                   0|             0|\n",
       "|e5a140c0922b554b9...|      0|                   0|             0|\n",
       "|e12aefc548f750777...|      0|                   0|             0|\n",
       "|1b3a50d854fbbf97e...|      0|                   0|             0|\n",
       "|1c4329e5f17697127...|      0|                   0|             0|\n",
       "|5026c86ad983175eb...|      1|                   0|             2|\n",
       "|9847d8c1e9d0b2084...|      2|                   0|             0|\n",
       "|8340dbe1adea41fb4...|      0|                   0|             0|\n",
       "|d4de0de3ab7d79ad4...|      0|                   0|             0|\n",
       "|3df3cdeddb74a8712...|      0|                   0|             0|\n",
       "|9dd72636b1b4045b4...|      0|                   0|             3|\n",
       "|1d4e1ef4353b73c00...|      0|                   0|             2|\n",
       "|6f196952e71277fd4...|      0|                   0|             0|\n",
       "|9c617cbc6e3e3d6a1...|      0|                   0|             2|\n",
       "|45eb04dd75400a942...|      0|                   0|             2|\n",
       "|08d233c81f9e50726...|      0|                   0|             1|\n",
       "|8ff4d0ed17a1cab92...|      2|                   0|             2|\n",
       "|aec13cfd611b2cfea...|      0|                   0|             1|\n",
       "|9ba8c96ccba6cd1f0...|      0|                   0|             0|\n",
       "+--------------------+-------+--------------------+--------------+\n",
       "only showing top 20 rows"
      ]
     },
     "execution_count": 81,
     "metadata": {},
     "output_type": "execute_result"
    }
   ],
   "source": [
    "spark.sql('select * from lendingClub_525.loans_defaulters_detail_rec_enq')"
   ]
  }
 ],
 "metadata": {
  "kernelspec": {
   "display_name": "Pyspark 3",
   "language": "python",
   "name": "pyspark3"
  },
  "language_info": {
   "codemirror_mode": {
    "name": "ipython",
    "version": 3
   },
   "file_extension": ".py",
   "mimetype": "text/x-python",
   "name": "python",
   "nbconvert_exporter": "python",
   "pygments_lexer": "ipython3",
   "version": "3.6.12"
  }
 },
 "nbformat": 4,
 "nbformat_minor": 5
}
