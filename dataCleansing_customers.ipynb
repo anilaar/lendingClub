{
 "cells": [
  {
   "cell_type": "markdown",
   "id": "3b0b5730",
   "metadata": {},
   "source": [
    "# Cleansing customers Data"
   ]
  },
  {
   "cell_type": "code",
   "execution_count": 2,
   "id": "8601b61b",
   "metadata": {},
   "outputs": [],
   "source": [
    "from pyspark.sql import SparkSession\n",
    "from pyspark.sql.functions import sha2, concat_ws\n",
    "from pyspark.sql.functions import *\n",
    "spark  = SparkSession.builder\\\n",
    "                    .appName(\"lendingClubProject\")\\\n",
    "                    .config(\"spark.sql.warehouse.dir\",\"/user/anil/warehouse\")\\\n",
    "                    .enableHiveSupport()\\\n",
    "                    .master('yarn')\\\n",
    "                    .getOrCreate()"
   ]
  },
  {
   "cell_type": "markdown",
   "id": "210c6c18",
   "metadata": {},
   "source": [
    "# proper Type casting "
   ]
  },
  {
   "cell_type": "code",
   "execution_count": 3,
   "id": "8a1f7bb9",
   "metadata": {},
   "outputs": [
    {
     "name": "stdout",
     "output_type": "stream",
     "text": [
      "root\n",
      " |-- member_id: string (nullable = true)\n",
      " |-- emp_title: string (nullable = true)\n",
      " |-- emp_length: string (nullable = true)\n",
      " |-- home_ownership: string (nullable = true)\n",
      " |-- annual_inc: float (nullable = true)\n",
      " |-- addr_state: string (nullable = true)\n",
      " |-- zip_code: string (nullable = true)\n",
      " |-- country: string (nullable = true)\n",
      " |-- grade: string (nullable = true)\n",
      " |-- sub_grade: string (nullable = true)\n",
      " |-- verification_status: string (nullable = true)\n",
      " |-- tot_hi_cred_lim: float (nullable = true)\n",
      " |-- application_type: string (nullable = true)\n",
      " |-- annual_inc_joint: float (nullable = true)\n",
      " |-- verification_status_joint: string (nullable = true)\n",
      "\n"
     ]
    }
   ],
   "source": [
    "customersSchema = 'member_id string, emp_title string, emp_length string, home_ownership string, annual_inc float, addr_state string, zip_code string, country string, grade string, sub_grade string, verification_status string, tot_hi_cred_lim float, application_type string, annual_inc_joint float, verification_status_joint string'\n",
    "customers = spark.read.format('csv')\\\n",
    "                        .option('header','true')\\\n",
    "                        .schema(customersSchema)\\\n",
    "                        .load('/user/anil/lendingClubProject/customers')\n",
    "customers.printSchema()"
   ]
  },
  {
   "cell_type": "code",
   "execution_count": 17,
   "id": "4f5e9bf0",
   "metadata": {},
   "outputs": [
    {
     "data": {
      "text/html": [
       "<table border='1'>\n",
       "<tr><th>member_id</th><th>emp_title</th><th>emp_length</th><th>home_ownership</th><th>annual_inc</th><th>addr_state</th><th>zip_code</th><th>country</th><th>grade</th><th>sub_grade</th><th>verification_status</th><th>tot_hi_cred_lim</th><th>application_type</th><th>annual_inc_joint</th><th>verification_status_joint</th></tr>\n",
       "<tr><td>9cb79aa7323e81be1...</td><td>Supervisor</td><td>10+ years</td><td>MORTGAGE</td><td>125000.0</td><td>KY</td><td>424xx</td><td>USA</td><td>E</td><td>E3</td><td>Verified</td><td>594540.0</td><td>Individual</td><td>null</td><td>null</td></tr>\n",
       "<tr><td>0dd2bbc517e3c8f9e...</td><td>Security</td><td>&lt; 1 year</td><td>RENT</td><td>54000.0</td><td>WI</td><td>532xx</td><td>USA</td><td>A</td><td>A4</td><td>Not Verified</td><td>57729.0</td><td>Individual</td><td>null</td><td>null</td></tr>\n",
       "<tr><td>458458599d3df3bfc...</td><td>Manager</td><td>5 years</td><td>MORTGAGE</td><td>28000.0</td><td>AR</td><td>721xx</td><td>USA</td><td>C</td><td>C4</td><td>Verified</td><td>82780.0</td><td>Individual</td><td>null</td><td>null</td></tr>\n",
       "<tr><td>05ea141ec28b5c7f7...</td><td>Teller</td><td>3 years</td><td>RENT</td><td>26000.0</td><td>WI</td><td>532xx</td><td>USA</td><td>A</td><td>A5</td><td>Not Verified</td><td>41114.0</td><td>Individual</td><td>null</td><td>null</td></tr>\n",
       "<tr><td>aac68850fdac09fd0...</td><td>Quality Control A...</td><td>3 years</td><td>RENT</td><td>67000.0</td><td>TX</td><td>760xx</td><td>USA</td><td>F</td><td>F2</td><td>Verified</td><td>43449.0</td><td>Individual</td><td>null</td><td>null</td></tr>\n",
       "<tr><td>3a423e4589e89f429...</td><td>Technician</td><td>2 years</td><td>RENT</td><td>65000.0</td><td>CA</td><td>900xx</td><td>USA</td><td>C</td><td>C3</td><td>Verified</td><td>127916.0</td><td>Joint App</td><td>118000.0</td><td>Verified</td></tr>\n",
       "<tr><td>f1efcf7dfbfef21be...</td><td>Host</td><td>&lt; 1 year</td><td>MORTGAGE</td><td>325000.0</td><td>NY</td><td>111xx</td><td>USA</td><td>B</td><td>B5</td><td>Source Verified</td><td>41000.0</td><td>Individual</td><td>null</td><td>null</td></tr>\n",
       "<tr><td>c89986155a070db2e...</td><td>Guest Services Su...</td><td>2 years</td><td>MORTGAGE</td><td>60000.0</td><td>AZ</td><td>850xx</td><td>USA</td><td>C</td><td>C2</td><td>Source Verified</td><td>280890.0</td><td>Individual</td><td>null</td><td>null</td></tr>\n",
       "<tr><td>118dc629b6e134419...</td><td>general manager</td><td>10+ years</td><td>MORTGAGE</td><td>74000.0</td><td>GA</td><td>310xx</td><td>USA</td><td>A</td><td>A3</td><td>Source Verified</td><td>306897.0</td><td>Individual</td><td>null</td><td>null</td></tr>\n",
       "<tr><td>a86fa4b7493708333...</td><td>Sheet Metal Mechanic</td><td>9 years</td><td>MORTGAGE</td><td>54496.0</td><td>GA</td><td>307xx</td><td>USA</td><td>B</td><td>B1</td><td>Verified</td><td>153345.0</td><td>Joint App</td><td>119496.0</td><td>Verified</td></tr>\n",
       "<tr><td>6e8d94bf446e97025...</td><td>Owner</td><td>10+ years</td><td>RENT</td><td>60000.0</td><td>TX</td><td>762xx</td><td>USA</td><td>C</td><td>C2</td><td>Source Verified</td><td>64104.0</td><td>Individual</td><td>null</td><td>null</td></tr>\n",
       "<tr><td>3de585156dc6b73f6...</td><td>Business Manager</td><td>10+ years</td><td>MORTGAGE</td><td>53000.0</td><td>IL</td><td>618xx</td><td>USA</td><td>B</td><td>B2</td><td>Source Verified</td><td>117200.0</td><td>Individual</td><td>null</td><td>null</td></tr>\n",
       "<tr><td>e88945f86a96f8d71...</td><td>Custodian</td><td>10+ years</td><td>MORTGAGE</td><td>465000.0</td><td>RI</td><td>028xx</td><td>USA</td><td>B</td><td>B5</td><td>Not Verified</td><td>365133.0</td><td>Individual</td><td>null</td><td>null</td></tr>\n",
       "<tr><td>42f73fd8a01f1c475...</td><td>Service provider</td><td>10+ years</td><td>MORTGAGE</td><td>110000.0</td><td>CA</td><td>945xx</td><td>USA</td><td>A</td><td>A4</td><td>Source Verified</td><td>524699.0</td><td>Individual</td><td>null</td><td>null</td></tr>\n",
       "<tr><td>c680bca32456530e6...</td><td>Relationship Manager</td><td>3 years</td><td>RENT</td><td>150000.0</td><td>NY</td><td>111xx</td><td>USA</td><td>B</td><td>B2</td><td>Not Verified</td><td>136683.0</td><td>Individual</td><td>null</td><td>null</td></tr>\n",
       "<tr><td>3c36e35bcc0379690...</td><td>Flight attendant</td><td>1 year</td><td>RENT</td><td>40000.0</td><td>CO</td><td>800xx</td><td>USA</td><td>A</td><td>A1</td><td>Source Verified</td><td>62200.0</td><td>Individual</td><td>null</td><td>null</td></tr>\n",
       "<tr><td>4e1c30a5dfe9f1e20...</td><td>Pilot</td><td>2 years</td><td>MORTGAGE</td><td>106000.0</td><td>AL</td><td>356xx</td><td>USA</td><td>C</td><td>C3</td><td>Verified</td><td>95200.0</td><td>Individual</td><td>null</td><td>null</td></tr>\n",
       "<tr><td>1eef79a0e79b72c7a...</td><td>null</td><td>&lt; 1 year</td><td>MORTGAGE</td><td>76000.0</td><td>OR</td><td>973xx</td><td>USA</td><td>B</td><td>B2</td><td>Not Verified</td><td>7000.0</td><td>Individual</td><td>null</td><td>null</td></tr>\n",
       "<tr><td>89d42771f79636d22...</td><td>Archivist</td><td>5 years</td><td>MORTGAGE</td><td>60000.0</td><td>MA</td><td>020xx</td><td>USA</td><td>A</td><td>A2</td><td>Not Verified</td><td>376785.0</td><td>Joint App</td><td>250000.0</td><td>Not Verified</td></tr>\n",
       "<tr><td>1dd1d1b51473d4993...</td><td>null</td><td>null</td><td>RENT</td><td>45000.0</td><td>NY</td><td>114xx</td><td>USA</td><td>C</td><td>C2</td><td>Not Verified</td><td>47400.0</td><td>Individual</td><td>null</td><td>null</td></tr>\n",
       "</table>\n",
       "only showing top 20 rows\n"
      ],
      "text/plain": [
       "+--------------------+--------------------+----------+--------------+----------+----------+--------+-------+-----+---------+-------------------+---------------+----------------+----------------+-------------------------+\n",
       "|           member_id|           emp_title|emp_length|home_ownership|annual_inc|addr_state|zip_code|country|grade|sub_grade|verification_status|tot_hi_cred_lim|application_type|annual_inc_joint|verification_status_joint|\n",
       "+--------------------+--------------------+----------+--------------+----------+----------+--------+-------+-----+---------+-------------------+---------------+----------------+----------------+-------------------------+\n",
       "|9cb79aa7323e81be1...|          Supervisor| 10+ years|      MORTGAGE|  125000.0|        KY|   424xx|    USA|    E|       E3|           Verified|       594540.0|      Individual|            null|                     null|\n",
       "|0dd2bbc517e3c8f9e...|            Security|  < 1 year|          RENT|   54000.0|        WI|   532xx|    USA|    A|       A4|       Not Verified|        57729.0|      Individual|            null|                     null|\n",
       "|458458599d3df3bfc...|             Manager|   5 years|      MORTGAGE|   28000.0|        AR|   721xx|    USA|    C|       C4|           Verified|        82780.0|      Individual|            null|                     null|\n",
       "|05ea141ec28b5c7f7...|              Teller|   3 years|          RENT|   26000.0|        WI|   532xx|    USA|    A|       A5|       Not Verified|        41114.0|      Individual|            null|                     null|\n",
       "|aac68850fdac09fd0...|Quality Control A...|   3 years|          RENT|   67000.0|        TX|   760xx|    USA|    F|       F2|           Verified|        43449.0|      Individual|            null|                     null|\n",
       "|3a423e4589e89f429...|          Technician|   2 years|          RENT|   65000.0|        CA|   900xx|    USA|    C|       C3|           Verified|       127916.0|       Joint App|        118000.0|                 Verified|\n",
       "|f1efcf7dfbfef21be...|                Host|  < 1 year|      MORTGAGE|  325000.0|        NY|   111xx|    USA|    B|       B5|    Source Verified|        41000.0|      Individual|            null|                     null|\n",
       "|c89986155a070db2e...|Guest Services Su...|   2 years|      MORTGAGE|   60000.0|        AZ|   850xx|    USA|    C|       C2|    Source Verified|       280890.0|      Individual|            null|                     null|\n",
       "|118dc629b6e134419...|     general manager| 10+ years|      MORTGAGE|   74000.0|        GA|   310xx|    USA|    A|       A3|    Source Verified|       306897.0|      Individual|            null|                     null|\n",
       "|a86fa4b7493708333...|Sheet Metal Mechanic|   9 years|      MORTGAGE|   54496.0|        GA|   307xx|    USA|    B|       B1|           Verified|       153345.0|       Joint App|        119496.0|                 Verified|\n",
       "|6e8d94bf446e97025...|               Owner| 10+ years|          RENT|   60000.0|        TX|   762xx|    USA|    C|       C2|    Source Verified|        64104.0|      Individual|            null|                     null|\n",
       "|3de585156dc6b73f6...|    Business Manager| 10+ years|      MORTGAGE|   53000.0|        IL|   618xx|    USA|    B|       B2|    Source Verified|       117200.0|      Individual|            null|                     null|\n",
       "|e88945f86a96f8d71...|           Custodian| 10+ years|      MORTGAGE|  465000.0|        RI|   028xx|    USA|    B|       B5|       Not Verified|       365133.0|      Individual|            null|                     null|\n",
       "|42f73fd8a01f1c475...|    Service provider| 10+ years|      MORTGAGE|  110000.0|        CA|   945xx|    USA|    A|       A4|    Source Verified|       524699.0|      Individual|            null|                     null|\n",
       "|c680bca32456530e6...|Relationship Manager|   3 years|          RENT|  150000.0|        NY|   111xx|    USA|    B|       B2|       Not Verified|       136683.0|      Individual|            null|                     null|\n",
       "|3c36e35bcc0379690...|    Flight attendant|    1 year|          RENT|   40000.0|        CO|   800xx|    USA|    A|       A1|    Source Verified|        62200.0|      Individual|            null|                     null|\n",
       "|4e1c30a5dfe9f1e20...|               Pilot|   2 years|      MORTGAGE|  106000.0|        AL|   356xx|    USA|    C|       C3|           Verified|        95200.0|      Individual|            null|                     null|\n",
       "|1eef79a0e79b72c7a...|                null|  < 1 year|      MORTGAGE|   76000.0|        OR|   973xx|    USA|    B|       B2|       Not Verified|         7000.0|      Individual|            null|                     null|\n",
       "|89d42771f79636d22...|           Archivist|   5 years|      MORTGAGE|   60000.0|        MA|   020xx|    USA|    A|       A2|       Not Verified|       376785.0|       Joint App|        250000.0|             Not Verified|\n",
       "|1dd1d1b51473d4993...|                null|      null|          RENT|   45000.0|        NY|   114xx|    USA|    C|       C2|       Not Verified|        47400.0|      Individual|            null|                     null|\n",
       "+--------------------+--------------------+----------+--------------+----------+----------+--------+-------+-----+---------+-------------------+---------------+----------------+----------------+-------------------------+\n",
       "only showing top 20 rows"
      ]
     },
     "execution_count": 17,
     "metadata": {},
     "output_type": "execute_result"
    }
   ],
   "source": [
    "customers"
   ]
  },
  {
   "cell_type": "markdown",
   "id": "edad093e",
   "metadata": {},
   "source": [
    "# Renaming few columns"
   ]
  },
  {
   "cell_type": "code",
   "execution_count": 4,
   "id": "bcf4bdd7",
   "metadata": {},
   "outputs": [],
   "source": [
    "customersRenamed = customers.withColumnRenamed(\"annual_inc\", \"annual_income\")\\\n",
    ".withColumnRenamed(\"addr_state\", \"address_state\") \\\n",
    ".withColumnRenamed(\"zip_code\", \"address_zipcode\") \\\n",
    ".withColumnRenamed(\"country\", \"address_country\") \\\n",
    ".withColumnRenamed(\"tot_hi_cred_lim\", \"total_high_credit_limit\") \\\n",
    ".withColumnRenamed(\"annual_inc_joint\", \"join_annual_income\")"
   ]
  },
  {
   "cell_type": "markdown",
   "id": "b74b61c5",
   "metadata": {},
   "source": [
    "# add current timestamp for processed/ingested data & time"
   ]
  },
  {
   "cell_type": "code",
   "execution_count": 5,
   "id": "707721c7",
   "metadata": {},
   "outputs": [],
   "source": [
    "customersIngested =customersRenamed.withColumn('Ingeste_date',current_timestamp())"
   ]
  },
  {
   "cell_type": "code",
   "execution_count": 6,
   "id": "6718a65a",
   "metadata": {},
   "outputs": [
    {
     "data": {
      "text/html": [
       "<table border='1'>\n",
       "<tr><th>member_id</th><th>emp_title</th><th>emp_length</th><th>home_ownership</th><th>annual_income</th><th>address_state</th><th>address_zipcode</th><th>address_country</th><th>grade</th><th>sub_grade</th><th>verification_status</th><th>total_high_credit_limit</th><th>application_type</th><th>join_annual_income</th><th>verification_status_joint</th><th>Ingeste_date</th></tr>\n",
       "<tr><td>9cb79aa7323e81be1...</td><td>Supervisor</td><td>10+ years</td><td>MORTGAGE</td><td>125000.0</td><td>KY</td><td>424xx</td><td>USA</td><td>E</td><td>E3</td><td>Verified</td><td>594540.0</td><td>Individual</td><td>null</td><td>null</td><td>2024-11-13 07:33:...</td></tr>\n",
       "<tr><td>0dd2bbc517e3c8f9e...</td><td>Security</td><td>&lt; 1 year</td><td>RENT</td><td>54000.0</td><td>WI</td><td>532xx</td><td>USA</td><td>A</td><td>A4</td><td>Not Verified</td><td>57729.0</td><td>Individual</td><td>null</td><td>null</td><td>2024-11-13 07:33:...</td></tr>\n",
       "<tr><td>458458599d3df3bfc...</td><td>Manager</td><td>5 years</td><td>MORTGAGE</td><td>28000.0</td><td>AR</td><td>721xx</td><td>USA</td><td>C</td><td>C4</td><td>Verified</td><td>82780.0</td><td>Individual</td><td>null</td><td>null</td><td>2024-11-13 07:33:...</td></tr>\n",
       "<tr><td>05ea141ec28b5c7f7...</td><td>Teller</td><td>3 years</td><td>RENT</td><td>26000.0</td><td>WI</td><td>532xx</td><td>USA</td><td>A</td><td>A5</td><td>Not Verified</td><td>41114.0</td><td>Individual</td><td>null</td><td>null</td><td>2024-11-13 07:33:...</td></tr>\n",
       "<tr><td>aac68850fdac09fd0...</td><td>Quality Control A...</td><td>3 years</td><td>RENT</td><td>67000.0</td><td>TX</td><td>760xx</td><td>USA</td><td>F</td><td>F2</td><td>Verified</td><td>43449.0</td><td>Individual</td><td>null</td><td>null</td><td>2024-11-13 07:33:...</td></tr>\n",
       "<tr><td>3a423e4589e89f429...</td><td>Technician</td><td>2 years</td><td>RENT</td><td>65000.0</td><td>CA</td><td>900xx</td><td>USA</td><td>C</td><td>C3</td><td>Verified</td><td>127916.0</td><td>Joint App</td><td>118000.0</td><td>Verified</td><td>2024-11-13 07:33:...</td></tr>\n",
       "<tr><td>f1efcf7dfbfef21be...</td><td>Host</td><td>&lt; 1 year</td><td>MORTGAGE</td><td>325000.0</td><td>NY</td><td>111xx</td><td>USA</td><td>B</td><td>B5</td><td>Source Verified</td><td>41000.0</td><td>Individual</td><td>null</td><td>null</td><td>2024-11-13 07:33:...</td></tr>\n",
       "<tr><td>c89986155a070db2e...</td><td>Guest Services Su...</td><td>2 years</td><td>MORTGAGE</td><td>60000.0</td><td>AZ</td><td>850xx</td><td>USA</td><td>C</td><td>C2</td><td>Source Verified</td><td>280890.0</td><td>Individual</td><td>null</td><td>null</td><td>2024-11-13 07:33:...</td></tr>\n",
       "<tr><td>118dc629b6e134419...</td><td>general manager</td><td>10+ years</td><td>MORTGAGE</td><td>74000.0</td><td>GA</td><td>310xx</td><td>USA</td><td>A</td><td>A3</td><td>Source Verified</td><td>306897.0</td><td>Individual</td><td>null</td><td>null</td><td>2024-11-13 07:33:...</td></tr>\n",
       "<tr><td>a86fa4b7493708333...</td><td>Sheet Metal Mechanic</td><td>9 years</td><td>MORTGAGE</td><td>54496.0</td><td>GA</td><td>307xx</td><td>USA</td><td>B</td><td>B1</td><td>Verified</td><td>153345.0</td><td>Joint App</td><td>119496.0</td><td>Verified</td><td>2024-11-13 07:33:...</td></tr>\n",
       "<tr><td>6e8d94bf446e97025...</td><td>Owner</td><td>10+ years</td><td>RENT</td><td>60000.0</td><td>TX</td><td>762xx</td><td>USA</td><td>C</td><td>C2</td><td>Source Verified</td><td>64104.0</td><td>Individual</td><td>null</td><td>null</td><td>2024-11-13 07:33:...</td></tr>\n",
       "<tr><td>3de585156dc6b73f6...</td><td>Business Manager</td><td>10+ years</td><td>MORTGAGE</td><td>53000.0</td><td>IL</td><td>618xx</td><td>USA</td><td>B</td><td>B2</td><td>Source Verified</td><td>117200.0</td><td>Individual</td><td>null</td><td>null</td><td>2024-11-13 07:33:...</td></tr>\n",
       "<tr><td>e88945f86a96f8d71...</td><td>Custodian</td><td>10+ years</td><td>MORTGAGE</td><td>465000.0</td><td>RI</td><td>028xx</td><td>USA</td><td>B</td><td>B5</td><td>Not Verified</td><td>365133.0</td><td>Individual</td><td>null</td><td>null</td><td>2024-11-13 07:33:...</td></tr>\n",
       "<tr><td>42f73fd8a01f1c475...</td><td>Service provider</td><td>10+ years</td><td>MORTGAGE</td><td>110000.0</td><td>CA</td><td>945xx</td><td>USA</td><td>A</td><td>A4</td><td>Source Verified</td><td>524699.0</td><td>Individual</td><td>null</td><td>null</td><td>2024-11-13 07:33:...</td></tr>\n",
       "<tr><td>c680bca32456530e6...</td><td>Relationship Manager</td><td>3 years</td><td>RENT</td><td>150000.0</td><td>NY</td><td>111xx</td><td>USA</td><td>B</td><td>B2</td><td>Not Verified</td><td>136683.0</td><td>Individual</td><td>null</td><td>null</td><td>2024-11-13 07:33:...</td></tr>\n",
       "<tr><td>3c36e35bcc0379690...</td><td>Flight attendant</td><td>1 year</td><td>RENT</td><td>40000.0</td><td>CO</td><td>800xx</td><td>USA</td><td>A</td><td>A1</td><td>Source Verified</td><td>62200.0</td><td>Individual</td><td>null</td><td>null</td><td>2024-11-13 07:33:...</td></tr>\n",
       "<tr><td>4e1c30a5dfe9f1e20...</td><td>Pilot</td><td>2 years</td><td>MORTGAGE</td><td>106000.0</td><td>AL</td><td>356xx</td><td>USA</td><td>C</td><td>C3</td><td>Verified</td><td>95200.0</td><td>Individual</td><td>null</td><td>null</td><td>2024-11-13 07:33:...</td></tr>\n",
       "<tr><td>1eef79a0e79b72c7a...</td><td>null</td><td>&lt; 1 year</td><td>MORTGAGE</td><td>76000.0</td><td>OR</td><td>973xx</td><td>USA</td><td>B</td><td>B2</td><td>Not Verified</td><td>7000.0</td><td>Individual</td><td>null</td><td>null</td><td>2024-11-13 07:33:...</td></tr>\n",
       "<tr><td>89d42771f79636d22...</td><td>Archivist</td><td>5 years</td><td>MORTGAGE</td><td>60000.0</td><td>MA</td><td>020xx</td><td>USA</td><td>A</td><td>A2</td><td>Not Verified</td><td>376785.0</td><td>Joint App</td><td>250000.0</td><td>Not Verified</td><td>2024-11-13 07:33:...</td></tr>\n",
       "<tr><td>1dd1d1b51473d4993...</td><td>null</td><td>null</td><td>RENT</td><td>45000.0</td><td>NY</td><td>114xx</td><td>USA</td><td>C</td><td>C2</td><td>Not Verified</td><td>47400.0</td><td>Individual</td><td>null</td><td>null</td><td>2024-11-13 07:33:...</td></tr>\n",
       "</table>\n",
       "only showing top 20 rows\n"
      ],
      "text/plain": [
       "+--------------------+--------------------+----------+--------------+-------------+-------------+---------------+---------------+-----+---------+-------------------+-----------------------+----------------+------------------+-------------------------+--------------------+\n",
       "|           member_id|           emp_title|emp_length|home_ownership|annual_income|address_state|address_zipcode|address_country|grade|sub_grade|verification_status|total_high_credit_limit|application_type|join_annual_income|verification_status_joint|        Ingeste_date|\n",
       "+--------------------+--------------------+----------+--------------+-------------+-------------+---------------+---------------+-----+---------+-------------------+-----------------------+----------------+------------------+-------------------------+--------------------+\n",
       "|9cb79aa7323e81be1...|          Supervisor| 10+ years|      MORTGAGE|     125000.0|           KY|          424xx|            USA|    E|       E3|           Verified|               594540.0|      Individual|              null|                     null|2024-11-13 07:33:...|\n",
       "|0dd2bbc517e3c8f9e...|            Security|  < 1 year|          RENT|      54000.0|           WI|          532xx|            USA|    A|       A4|       Not Verified|                57729.0|      Individual|              null|                     null|2024-11-13 07:33:...|\n",
       "|458458599d3df3bfc...|             Manager|   5 years|      MORTGAGE|      28000.0|           AR|          721xx|            USA|    C|       C4|           Verified|                82780.0|      Individual|              null|                     null|2024-11-13 07:33:...|\n",
       "|05ea141ec28b5c7f7...|              Teller|   3 years|          RENT|      26000.0|           WI|          532xx|            USA|    A|       A5|       Not Verified|                41114.0|      Individual|              null|                     null|2024-11-13 07:33:...|\n",
       "|aac68850fdac09fd0...|Quality Control A...|   3 years|          RENT|      67000.0|           TX|          760xx|            USA|    F|       F2|           Verified|                43449.0|      Individual|              null|                     null|2024-11-13 07:33:...|\n",
       "|3a423e4589e89f429...|          Technician|   2 years|          RENT|      65000.0|           CA|          900xx|            USA|    C|       C3|           Verified|               127916.0|       Joint App|          118000.0|                 Verified|2024-11-13 07:33:...|\n",
       "|f1efcf7dfbfef21be...|                Host|  < 1 year|      MORTGAGE|     325000.0|           NY|          111xx|            USA|    B|       B5|    Source Verified|                41000.0|      Individual|              null|                     null|2024-11-13 07:33:...|\n",
       "|c89986155a070db2e...|Guest Services Su...|   2 years|      MORTGAGE|      60000.0|           AZ|          850xx|            USA|    C|       C2|    Source Verified|               280890.0|      Individual|              null|                     null|2024-11-13 07:33:...|\n",
       "|118dc629b6e134419...|     general manager| 10+ years|      MORTGAGE|      74000.0|           GA|          310xx|            USA|    A|       A3|    Source Verified|               306897.0|      Individual|              null|                     null|2024-11-13 07:33:...|\n",
       "|a86fa4b7493708333...|Sheet Metal Mechanic|   9 years|      MORTGAGE|      54496.0|           GA|          307xx|            USA|    B|       B1|           Verified|               153345.0|       Joint App|          119496.0|                 Verified|2024-11-13 07:33:...|\n",
       "|6e8d94bf446e97025...|               Owner| 10+ years|          RENT|      60000.0|           TX|          762xx|            USA|    C|       C2|    Source Verified|                64104.0|      Individual|              null|                     null|2024-11-13 07:33:...|\n",
       "|3de585156dc6b73f6...|    Business Manager| 10+ years|      MORTGAGE|      53000.0|           IL|          618xx|            USA|    B|       B2|    Source Verified|               117200.0|      Individual|              null|                     null|2024-11-13 07:33:...|\n",
       "|e88945f86a96f8d71...|           Custodian| 10+ years|      MORTGAGE|     465000.0|           RI|          028xx|            USA|    B|       B5|       Not Verified|               365133.0|      Individual|              null|                     null|2024-11-13 07:33:...|\n",
       "|42f73fd8a01f1c475...|    Service provider| 10+ years|      MORTGAGE|     110000.0|           CA|          945xx|            USA|    A|       A4|    Source Verified|               524699.0|      Individual|              null|                     null|2024-11-13 07:33:...|\n",
       "|c680bca32456530e6...|Relationship Manager|   3 years|          RENT|     150000.0|           NY|          111xx|            USA|    B|       B2|       Not Verified|               136683.0|      Individual|              null|                     null|2024-11-13 07:33:...|\n",
       "|3c36e35bcc0379690...|    Flight attendant|    1 year|          RENT|      40000.0|           CO|          800xx|            USA|    A|       A1|    Source Verified|                62200.0|      Individual|              null|                     null|2024-11-13 07:33:...|\n",
       "|4e1c30a5dfe9f1e20...|               Pilot|   2 years|      MORTGAGE|     106000.0|           AL|          356xx|            USA|    C|       C3|           Verified|                95200.0|      Individual|              null|                     null|2024-11-13 07:33:...|\n",
       "|1eef79a0e79b72c7a...|                null|  < 1 year|      MORTGAGE|      76000.0|           OR|          973xx|            USA|    B|       B2|       Not Verified|                 7000.0|      Individual|              null|                     null|2024-11-13 07:33:...|\n",
       "|89d42771f79636d22...|           Archivist|   5 years|      MORTGAGE|      60000.0|           MA|          020xx|            USA|    A|       A2|       Not Verified|               376785.0|       Joint App|          250000.0|             Not Verified|2024-11-13 07:33:...|\n",
       "|1dd1d1b51473d4993...|                null|      null|          RENT|      45000.0|           NY|          114xx|            USA|    C|       C2|       Not Verified|                47400.0|      Individual|              null|                     null|2024-11-13 07:33:...|\n",
       "+--------------------+--------------------+----------+--------------+-------------+-------------+---------------+---------------+-----+---------+-------------------+-----------------------+----------------+------------------+-------------------------+--------------------+\n",
       "only showing top 20 rows"
      ]
     },
     "execution_count": 6,
     "metadata": {},
     "output_type": "execute_result"
    }
   ],
   "source": [
    "customersIngested"
   ]
  },
  {
   "cell_type": "markdown",
   "id": "12ebed8b",
   "metadata": {},
   "source": [
    "# Remove Dupicate Rows"
   ]
  },
  {
   "cell_type": "code",
   "execution_count": 7,
   "id": "26646d64",
   "metadata": {},
   "outputs": [
    {
     "data": {
      "text/plain": [
       "2260701"
      ]
     },
     "execution_count": 7,
     "metadata": {},
     "output_type": "execute_result"
    }
   ],
   "source": [
    "customersIngested.count()"
   ]
  },
  {
   "cell_type": "code",
   "execution_count": 8,
   "id": "5a09f494",
   "metadata": {},
   "outputs": [
    {
     "data": {
      "text/plain": [
       "2260638"
      ]
     },
     "execution_count": 8,
     "metadata": {},
     "output_type": "execute_result"
    }
   ],
   "source": [
    "customersIngested.distinct().count()"
   ]
  },
  {
   "cell_type": "code",
   "execution_count": 9,
   "id": "93c0ca26",
   "metadata": {},
   "outputs": [],
   "source": [
    "customersDistinct = customersIngested.distinct()"
   ]
  },
  {
   "cell_type": "markdown",
   "id": "0513b3c0",
   "metadata": {},
   "source": [
    "# Remove the rows where annual_income is null"
   ]
  },
  {
   "cell_type": "code",
   "execution_count": 10,
   "id": "4072cfe9",
   "metadata": {},
   "outputs": [
    {
     "data": {
      "text/plain": [
       "5"
      ]
     },
     "execution_count": 10,
     "metadata": {},
     "output_type": "execute_result"
    }
   ],
   "source": [
    "customersDistinct.filter(col('annual_income').isNull()).count()"
   ]
  },
  {
   "cell_type": "code",
   "execution_count": 12,
   "id": "02c70237",
   "metadata": {},
   "outputs": [
    {
     "data": {
      "text/plain": [
       "2260633"
      ]
     },
     "execution_count": 12,
     "metadata": {},
     "output_type": "execute_result"
    }
   ],
   "source": [
    "customersFiltered = customersDistinct.filter(col('annual_income').isNotNull())\n",
    "customersFiltered.count()"
   ]
  },
  {
   "cell_type": "markdown",
   "id": "f42aea7c",
   "metadata": {},
   "source": [
    "# convert emp_length to integer"
   ]
  },
  {
   "cell_type": "code",
   "execution_count": 24,
   "id": "fcf93677",
   "metadata": {},
   "outputs": [],
   "source": [
    "customersdf = customersFiltered.withColumn(\"emp_length\", regexp_replace(col(\"emp_length\"), \"\\D\",\"\").cast('int') )"
   ]
  },
  {
   "cell_type": "code",
   "execution_count": 25,
   "id": "96d6d412",
   "metadata": {},
   "outputs": [
    {
     "data": {
      "text/html": [
       "<table border='1'>\n",
       "<tr><th>member_id</th><th>emp_title</th><th>emp_length</th><th>home_ownership</th><th>annual_income</th><th>address_state</th><th>address_zipcode</th><th>address_country</th><th>grade</th><th>sub_grade</th><th>verification_status</th><th>total_high_credit_limit</th><th>application_type</th><th>join_annual_income</th><th>verification_status_joint</th><th>Ingeste_date</th></tr>\n",
       "<tr><td>f91a9c6d6490ae166...</td><td>Office Manager</td><td>10</td><td>MORTGAGE</td><td>37232.0</td><td>FL</td><td>334xx</td><td>USA</td><td>C</td><td>C4</td><td>Source Verified</td><td>185360.0</td><td>Individual</td><td>null</td><td>null</td><td>2024-11-13 07:37:...</td></tr>\n",
       "<tr><td>153db23fe98162aba...</td><td>SENIOR SERVICE REP</td><td>10</td><td>MORTGAGE</td><td>97000.0</td><td>NJ</td><td>070xx</td><td>USA</td><td>B</td><td>B3</td><td>Verified</td><td>217055.0</td><td>Individual</td><td>null</td><td>null</td><td>2024-11-13 07:37:...</td></tr>\n",
       "<tr><td>9809f807816c481cd...</td><td>Production Manager</td><td>10</td><td>MORTGAGE</td><td>65000.0</td><td>IL</td><td>610xx</td><td>USA</td><td>A</td><td>A1</td><td>Not Verified</td><td>186287.0</td><td>Individual</td><td>null</td><td>null</td><td>2024-11-13 07:37:...</td></tr>\n",
       "<tr><td>ccf59e5c346acbdf5...</td><td>Laborer</td><td>6</td><td>RENT</td><td>30000.0</td><td>ME</td><td>044xx</td><td>USA</td><td>B</td><td>B4</td><td>Not Verified</td><td>52839.0</td><td>Individual</td><td>null</td><td>null</td><td>2024-11-13 07:37:...</td></tr>\n",
       "<tr><td>2b0958ddeed614647...</td><td>psychologist</td><td>6</td><td>MORTGAGE</td><td>165000.0</td><td>FL</td><td>330xx</td><td>USA</td><td>B</td><td>B4</td><td>Not Verified</td><td>464285.0</td><td>Individual</td><td>null</td><td>null</td><td>2024-11-13 07:37:...</td></tr>\n",
       "<tr><td>39a33db1b3f9aa00d...</td><td>null</td><td>null</td><td>MORTGAGE</td><td>79328.0</td><td>MO</td><td>656xx</td><td>USA</td><td>C</td><td>C2</td><td>Verified</td><td>238089.0</td><td>Individual</td><td>null</td><td>null</td><td>2024-11-13 07:37:...</td></tr>\n",
       "<tr><td>fbb9ac9c0008278a8...</td><td>Solutions Consultant</td><td>4</td><td>RENT</td><td>66000.0</td><td>TX</td><td>770xx</td><td>USA</td><td>A</td><td>A2</td><td>Source Verified</td><td>116349.0</td><td>Individual</td><td>null</td><td>null</td><td>2024-11-13 07:37:...</td></tr>\n",
       "<tr><td>1cc41378cf5a2a361...</td><td>Import Specialist</td><td>10</td><td>OWN</td><td>79500.0</td><td>CA</td><td>945xx</td><td>USA</td><td>A</td><td>A1</td><td>Source Verified</td><td>286100.0</td><td>Individual</td><td>null</td><td>null</td><td>2024-11-13 07:37:...</td></tr>\n",
       "<tr><td>9eabc6f0eda96861a...</td><td>surgical coordinator</td><td>10</td><td>MORTGAGE</td><td>60000.0</td><td>IL</td><td>604xx</td><td>USA</td><td>C</td><td>C2</td><td>Not Verified</td><td>269690.0</td><td>Individual</td><td>null</td><td>null</td><td>2024-11-13 07:37:...</td></tr>\n",
       "<tr><td>b0c7878a8e6994d69...</td><td>Associate Warden</td><td>10</td><td>RENT</td><td>50000.0</td><td>TN</td><td>380xx</td><td>USA</td><td>C</td><td>C2</td><td>Verified</td><td>58225.0</td><td>Individual</td><td>null</td><td>null</td><td>2024-11-13 07:37:...</td></tr>\n",
       "<tr><td>1d9fc0078e7bdc918...</td><td>Team Leader</td><td>10</td><td>MORTGAGE</td><td>72000.0</td><td>TN</td><td>378xx</td><td>USA</td><td>C</td><td>C3</td><td>Verified</td><td>276511.0</td><td>Individual</td><td>null</td><td>null</td><td>2024-11-13 07:37:...</td></tr>\n",
       "<tr><td>2e5e87bf887e8e008...</td><td>Pastor</td><td>10</td><td>RENT</td><td>50000.0</td><td>TX</td><td>790xx</td><td>USA</td><td>C</td><td>C3</td><td>Not Verified</td><td>83503.0</td><td>Individual</td><td>null</td><td>null</td><td>2024-11-13 07:37:...</td></tr>\n",
       "<tr><td>51f77d3b4dceffb0e...</td><td>Aircraft Mechanic</td><td>5</td><td>OWN</td><td>55000.0</td><td>SC</td><td>294xx</td><td>USA</td><td>C</td><td>C4</td><td>Source Verified</td><td>187346.0</td><td>Individual</td><td>null</td><td>null</td><td>2024-11-13 07:37:...</td></tr>\n",
       "<tr><td>8b0c492eb7782659a...</td><td>null</td><td>null</td><td>OWN</td><td>32000.0</td><td>FL</td><td>349xx</td><td>USA</td><td>B</td><td>B5</td><td>Verified</td><td>31400.0</td><td>Individual</td><td>null</td><td>null</td><td>2024-11-13 07:37:...</td></tr>\n",
       "<tr><td>c1cbed2a94343b32e...</td><td>Customer Engagement</td><td>10</td><td>MORTGAGE</td><td>103000.0</td><td>AZ</td><td>851xx</td><td>USA</td><td>B</td><td>B5</td><td>Verified</td><td>392834.0</td><td>Individual</td><td>null</td><td>null</td><td>2024-11-13 07:37:...</td></tr>\n",
       "<tr><td>559030f06f1936229...</td><td>null</td><td>null</td><td>MORTGAGE</td><td>94000.0</td><td>CA</td><td>936xx</td><td>USA</td><td>C</td><td>C1</td><td>Verified</td><td>308400.0</td><td>Individual</td><td>null</td><td>null</td><td>2024-11-13 07:37:...</td></tr>\n",
       "<tr><td>da6b4c576dc360797...</td><td>null</td><td>null</td><td>MORTGAGE</td><td>35000.0</td><td>TX</td><td>795xx</td><td>USA</td><td>A</td><td>A5</td><td>Verified</td><td>62561.0</td><td>Joint App</td><td>75000.0</td><td>Not Verified</td><td>2024-11-13 07:37:...</td></tr>\n",
       "<tr><td>4d64333c0d222a012...</td><td>Purchasing Manager</td><td>10</td><td>RENT</td><td>70000.0</td><td>TN</td><td>371xx</td><td>USA</td><td>B</td><td>B1</td><td>Not Verified</td><td>78103.0</td><td>Individual</td><td>null</td><td>null</td><td>2024-11-13 07:37:...</td></tr>\n",
       "<tr><td>0569e7959d0542604...</td><td>Lineman</td><td>10</td><td>MORTGAGE</td><td>223000.0</td><td>MI</td><td>483xx</td><td>USA</td><td>C</td><td>C1</td><td>Not Verified</td><td>314691.0</td><td>Individual</td><td>null</td><td>null</td><td>2024-11-13 07:37:...</td></tr>\n",
       "<tr><td>3b9d8d523418ee0d7...</td><td>President</td><td>10</td><td>MORTGAGE</td><td>290000.0</td><td>NC</td><td>275xx</td><td>USA</td><td>B</td><td>B3</td><td>Source Verified</td><td>193423.0</td><td>Individual</td><td>null</td><td>null</td><td>2024-11-13 07:37:...</td></tr>\n",
       "</table>\n",
       "only showing top 20 rows\n"
      ],
      "text/plain": [
       "+--------------------+--------------------+----------+--------------+-------------+-------------+---------------+---------------+-----+---------+-------------------+-----------------------+----------------+------------------+-------------------------+--------------------+\n",
       "|           member_id|           emp_title|emp_length|home_ownership|annual_income|address_state|address_zipcode|address_country|grade|sub_grade|verification_status|total_high_credit_limit|application_type|join_annual_income|verification_status_joint|        Ingeste_date|\n",
       "+--------------------+--------------------+----------+--------------+-------------+-------------+---------------+---------------+-----+---------+-------------------+-----------------------+----------------+------------------+-------------------------+--------------------+\n",
       "|e1c0bf3dd7908b54a...|      police officer|        10|           OWN|      75000.0|           TX|          759xx|            USA|    E|       E4|    Source Verified|               163779.0|       Joint App|          111000.0|          Source Verified|2024-11-13 07:37:...|\n",
       "|1fa44f4f089e67765...|Purchasing Assistant|         3|           OWN|      35000.0|           CA|          917xx|            USA|    A|       A3|           Verified|                71220.0|       Joint App|           91000.0|                 Verified|2024-11-13 07:37:...|\n",
       "|6add34acac4a1e395...| VP, Loan Operations|         1|          RENT|     105000.0|           CA|          902xx|            USA|    D|       D3|    Source Verified|               129155.0|      Individual|              null|                     null|2024-11-13 07:37:...|\n",
       "|3fabf015a08becc5b...|                null|         1|      MORTGAGE|     150000.0|           MO|          640xx|            USA|    C|       C1|       Not Verified|                91416.0|      Individual|              null|                     null|2024-11-13 07:37:...|\n",
       "|364cc9cada417dd9c...|Therapeutic Visit...|         5|           OWN|      59000.0|           CO|          806xx|            USA|    B|       B3|       Not Verified|                96807.0|      Individual|              null|                     null|2024-11-13 07:37:...|\n",
       "|1220521934ff0ac85...|  Purchasing Manager|         1|      MORTGAGE|      85000.0|           TX|          751xx|            USA|    A|       A3|       Not Verified|                81473.0|      Individual|              null|                     null|2024-11-13 07:37:...|\n",
       "|e71eed59dc51da5b8...|              Sr. VP|         5|      MORTGAGE|     325000.0|           NJ|          087xx|            USA|    E|       E1|           Verified|               964454.0|      Individual|              null|                     null|2024-11-13 07:37:...|\n",
       "|435a70910cd0a2d2d...| Fleet Service clerk|        10|          RENT|      50000.0|           TX|          750xx|            USA|    C|       C5|    Source Verified|                23949.0|      Individual|              null|                     null|2024-11-13 07:37:...|\n",
       "|03da1addcf74eb9bb...|Quality Control S...|         4|      MORTGAGE|      47500.0|           AZ|          850xx|            USA|    A|       A2|    Source Verified|               161838.0|      Individual|              null|                     null|2024-11-13 07:37:...|\n",
       "|26093f47dbe06b957...|                null|      null|           OWN|      78000.0|           MI|          488xx|            USA|    C|       C2|       Not Verified|                26393.0|      Individual|              null|                     null|2024-11-13 07:37:...|\n",
       "|d16fe9d0575bd5cf3...|            Operator|         2|           OWN|      60000.0|           WI|          531xx|            USA|    B|       B3|    Source Verified|               283249.0|      Individual|              null|                     null|2024-11-13 07:37:...|\n",
       "|eac6487d2b52675fb...|        Truck driver|         4|          RENT|      65000.0|           PA|          195xx|            USA|    D|       D4|    Source Verified|                63360.0|      Individual|              null|                     null|2024-11-13 07:37:...|\n",
       "|ab67dd8cf8764be81...| Executive Assistant|        10|      MORTGAGE|      86000.0|           VA|          223xx|            USA|    B|       B2|       Not Verified|               277023.0|      Individual|              null|                     null|2024-11-13 07:37:...|\n",
       "|f169f72bf16cea6bb...|emergency technician|         1|          RENT|      60000.0|           NY|          112xx|            USA|    D|       D3|    Source Verified|                22500.0|      Individual|              null|                     null|2024-11-13 07:37:...|\n",
       "|8cf30a408969691f6...|Hazardous waste h...|         6|      MORTGAGE|      56000.0|           AR|          722xx|            USA|    C|       C5|       Not Verified|                63416.0|      Individual|              null|                     null|2024-11-13 07:37:...|\n",
       "|985cdb2edabd6458e...|   Fireman/paramedic|         2|          RENT|      75000.0|           IN|          465xx|            USA|    C|       C5|    Source Verified|                74251.0|      Individual|              null|                     null|2024-11-13 07:37:...|\n",
       "|47cd1109dd094726d...|Support Service Tech|         1|      MORTGAGE|      46000.0|           CO|          804xx|            USA|    C|       C1|    Source Verified|               541800.0|       Joint App|          111000.0|                     null|2024-11-13 07:37:...|\n",
       "|01035e2fc04aa0d49...| Locomotive Engineer|        10|      MORTGAGE|     115000.0|           CA|          935xx|            USA|    D|       D5|       Not Verified|               317460.0|       Joint App|          115000.0|             Not Verified|2024-11-13 07:37:...|\n",
       "|e121731aca55b3be4...|            operator|         1|           OWN|      55000.0|           NV|          894xx|            USA|    A|       A5|    Source Verified|               197519.0|       Joint App|          107000.0|          Source Verified|2024-11-13 07:37:...|\n",
       "|467ee59c7345aca96...|Sr. Business Analyst|        10|           OWN|     105000.0|           NC|          282xx|            USA|    B|       B2|    Source Verified|                66084.0|      Individual|              null|                     null|2024-11-13 07:37:...|\n",
       "+--------------------+--------------------+----------+--------------+-------------+-------------+---------------+---------------+-----+---------+-------------------+-----------------------+----------------+------------------+-------------------------+--------------------+\n",
       "only showing top 20 rows"
      ]
     },
     "execution_count": 25,
     "metadata": {},
     "output_type": "execute_result"
    }
   ],
   "source": [
    "customersdf"
   ]
  },
  {
   "cell_type": "code",
   "execution_count": 26,
   "id": "262a2428",
   "metadata": {},
   "outputs": [
    {
     "name": "stdout",
     "output_type": "stream",
     "text": [
      "root\n",
      " |-- member_id: string (nullable = true)\n",
      " |-- emp_title: string (nullable = true)\n",
      " |-- emp_length: integer (nullable = true)\n",
      " |-- home_ownership: string (nullable = true)\n",
      " |-- annual_income: float (nullable = true)\n",
      " |-- address_state: string (nullable = true)\n",
      " |-- address_zipcode: string (nullable = true)\n",
      " |-- address_country: string (nullable = true)\n",
      " |-- grade: string (nullable = true)\n",
      " |-- sub_grade: string (nullable = true)\n",
      " |-- verification_status: string (nullable = true)\n",
      " |-- total_high_credit_limit: float (nullable = true)\n",
      " |-- application_type: string (nullable = true)\n",
      " |-- join_annual_income: float (nullable = true)\n",
      " |-- verification_status_joint: string (nullable = true)\n",
      " |-- Ingeste_date: timestamp (nullable = false)\n",
      "\n"
     ]
    }
   ],
   "source": [
    "customersdf.printSchema()"
   ]
  },
  {
   "cell_type": "markdown",
   "id": "e2864f35",
   "metadata": {},
   "source": [
    "# Replace all the nulls in emp_length column with average of this column"
   ]
  },
  {
   "cell_type": "code",
   "execution_count": 39,
   "id": "8ccfd284",
   "metadata": {},
   "outputs": [
    {
     "data": {
      "text/html": [
       "<table border='1'>\n",
       "<tr><th>member_id</th><th>emp_title</th><th>emp_length</th><th>home_ownership</th><th>annual_income</th><th>address_state</th><th>address_zipcode</th><th>address_country</th><th>grade</th><th>sub_grade</th><th>verification_status</th><th>total_high_credit_limit</th><th>application_type</th><th>join_annual_income</th><th>verification_status_joint</th><th>Ingeste_date</th></tr>\n",
       "<tr><td>62989615616a2f4fb...</td><td>Stockroom Clerk</td><td>3</td><td>MORTGAGE</td><td>54000.0</td><td>NY</td><td>129xx</td><td>USA</td><td>B</td><td>B2</td><td>Not Verified</td><td>88695.0</td><td>Individual</td><td>null</td><td>null</td><td>2024-11-13 07:50:...</td></tr>\n",
       "<tr><td>7ccdfb5ac896c8eb9...</td><td>Network Engineer</td><td>3</td><td>MORTGAGE</td><td>53000.0</td><td>IL</td><td>617xx</td><td>USA</td><td>C</td><td>C5</td><td>Source Verified</td><td>216399.0</td><td>Individual</td><td>null</td><td>null</td><td>2024-11-13 07:50:...</td></tr>\n",
       "<tr><td>5b7bdf3da54079a6b...</td><td>Group Leader</td><td>10</td><td>MORTGAGE</td><td>37824.0</td><td>KY</td><td>421xx</td><td>USA</td><td>B</td><td>B1</td><td>Not Verified</td><td>189164.0</td><td>Joint App</td><td>74208.0</td><td>null</td><td>2024-11-13 07:50:...</td></tr>\n",
       "<tr><td>e899fd1d151804b0e...</td><td>Barber</td><td>1</td><td>RENT</td><td>45000.0</td><td>IL</td><td>606xx</td><td>USA</td><td>D</td><td>D1</td><td>Source Verified</td><td>31208.0</td><td>Individual</td><td>null</td><td>null</td><td>2024-11-13 07:50:...</td></tr>\n",
       "<tr><td>5095e67678079101c...</td><td>Estimator</td><td>10</td><td>MORTGAGE</td><td>67600.0</td><td>TX</td><td>780xx</td><td>USA</td><td>A</td><td>A4</td><td>Not Verified</td><td>136394.0</td><td>Individual</td><td>null</td><td>null</td><td>2024-11-13 07:50:...</td></tr>\n",
       "<tr><td>93f51d819a9c3396b...</td><td>Delivery Driver</td><td>10</td><td>OWN</td><td>70000.0</td><td>IL</td><td>606xx</td><td>USA</td><td>B</td><td>B2</td><td>Source Verified</td><td>247054.0</td><td>Individual</td><td>null</td><td>null</td><td>2024-11-13 07:50:...</td></tr>\n",
       "<tr><td>ed4de75e1cf2c4f0f...</td><td>Consumer Solution...</td><td>10</td><td>MORTGAGE</td><td>60000.0</td><td>MO</td><td>652xx</td><td>USA</td><td>D</td><td>D1</td><td>Source Verified</td><td>237699.0</td><td>Individual</td><td>null</td><td>null</td><td>2024-11-13 07:50:...</td></tr>\n",
       "<tr><td>c58ce191ca41d5ca8...</td><td>Corporate Controller</td><td>8</td><td>MORTGAGE</td><td>155000.0</td><td>MD</td><td>217xx</td><td>USA</td><td>C</td><td>C3</td><td>Verified</td><td>719981.0</td><td>Joint App</td><td>235000.0</td><td>Verified</td><td>2024-11-13 07:50:...</td></tr>\n",
       "<tr><td>22005e49d7c0b9eab...</td><td>Longshoreman Labor</td><td>10</td><td>OWN</td><td>100000.0</td><td>CA</td><td>945xx</td><td>USA</td><td>C</td><td>C2</td><td>Source Verified</td><td>518800.0</td><td>Individual</td><td>null</td><td>null</td><td>2024-11-13 07:50:...</td></tr>\n",
       "<tr><td>f586099a4b7567f5e...</td><td>Sales</td><td>2</td><td>RENT</td><td>85000.0</td><td>FL</td><td>333xx</td><td>USA</td><td>C</td><td>C2</td><td>Source Verified</td><td>90326.0</td><td>Individual</td><td>null</td><td>null</td><td>2024-11-13 07:50:...</td></tr>\n",
       "<tr><td>87de5f22d3a80cb58...</td><td>Controller, Trust...</td><td>10</td><td>MORTGAGE</td><td>220000.0</td><td>CA</td><td>917xx</td><td>USA</td><td>C</td><td>C5</td><td>Source Verified</td><td>767886.0</td><td>Individual</td><td>null</td><td>null</td><td>2024-11-13 07:50:...</td></tr>\n",
       "<tr><td>070db63316595ff56...</td><td>Engineered Wood D...</td><td>1</td><td>MORTGAGE</td><td>38000.0</td><td>MI</td><td>481xx</td><td>USA</td><td>B</td><td>B2</td><td>Verified</td><td>101925.0</td><td>Joint App</td><td>81000.0</td><td>null</td><td>2024-11-13 07:50:...</td></tr>\n",
       "<tr><td>58b24f3c75b6b763c...</td><td>Reciever</td><td>10</td><td>MORTGAGE</td><td>49000.0</td><td>FL</td><td>338xx</td><td>USA</td><td>D</td><td>D5</td><td>Verified</td><td>117681.0</td><td>Joint App</td><td>97000.0</td><td>Source Verified</td><td>2024-11-13 07:50:...</td></tr>\n",
       "<tr><td>9ea230e66b6188698...</td><td>Claims auditor</td><td>1</td><td>RENT</td><td>57000.0</td><td>TN</td><td>371xx</td><td>USA</td><td>B</td><td>B3</td><td>Not Verified</td><td>114405.0</td><td>Individual</td><td>null</td><td>null</td><td>2024-11-13 07:50:...</td></tr>\n",
       "<tr><td>fcc7945892905575a...</td><td>tech</td><td>2</td><td>MORTGAGE</td><td>60000.0</td><td>OK</td><td>731xx</td><td>USA</td><td>B</td><td>B4</td><td>Not Verified</td><td>137313.0</td><td>Individual</td><td>null</td><td>null</td><td>2024-11-13 07:50:...</td></tr>\n",
       "<tr><td>68ca1a56536cdbbc4...</td><td>Distribution center</td><td>8</td><td>RENT</td><td>39000.0</td><td>IL</td><td>601xx</td><td>USA</td><td>D</td><td>D1</td><td>Not Verified</td><td>24590.0</td><td>Individual</td><td>null</td><td>null</td><td>2024-11-13 07:50:...</td></tr>\n",
       "<tr><td>c44e6f79fb762c9cf...</td><td>Medical records c...</td><td>5</td><td>ANY</td><td>35000.0</td><td>GA</td><td>305xx</td><td>USA</td><td>B</td><td>B5</td><td>Not Verified</td><td>26729.0</td><td>Individual</td><td>null</td><td>null</td><td>2024-11-13 07:50:...</td></tr>\n",
       "<tr><td>c0a4c93f91ac58c5e...</td><td>Sr. Producer</td><td>6</td><td>RENT</td><td>100000.0</td><td>CA</td><td>934xx</td><td>USA</td><td>A</td><td>A1</td><td>Not Verified</td><td>56500.0</td><td>Individual</td><td>null</td><td>null</td><td>2024-11-13 07:50:...</td></tr>\n",
       "<tr><td>30539ceee6c595537...</td><td>null</td><td>1</td><td>OWN</td><td>160000.0</td><td>AL</td><td>359xx</td><td>USA</td><td>C</td><td>C3</td><td>Source Verified</td><td>217068.0</td><td>Individual</td><td>null</td><td>null</td><td>2024-11-13 07:50:...</td></tr>\n",
       "<tr><td>949a9da8b63a1c51e...</td><td>Registered respir...</td><td>8</td><td>MORTGAGE</td><td>50000.0</td><td>MI</td><td>480xx</td><td>USA</td><td>B</td><td>B4</td><td>Verified</td><td>146103.0</td><td>Individual</td><td>null</td><td>null</td><td>2024-11-13 07:50:...</td></tr>\n",
       "</table>\n",
       "only showing top 20 rows\n"
      ],
      "text/plain": [
       "+--------------------+--------------------+----------+--------------+-------------+-------------+---------------+---------------+-----+---------+-------------------+-----------------------+----------------+------------------+-------------------------+--------------------+\n",
       "|           member_id|           emp_title|emp_length|home_ownership|annual_income|address_state|address_zipcode|address_country|grade|sub_grade|verification_status|total_high_credit_limit|application_type|join_annual_income|verification_status_joint|        Ingeste_date|\n",
       "+--------------------+--------------------+----------+--------------+-------------+-------------+---------------+---------------+-----+---------+-------------------+-----------------------+----------------+------------------+-------------------------+--------------------+\n",
       "|dfed975793a9d5b4c...|             Painter|        10|          RENT|      84000.0|           CA|          960xx|            USA|    C|       C3|           Verified|                28275.0|      Individual|              null|                     null|2024-11-13 07:50:...|\n",
       "|ef6b302b640426fb5...|  Network Specialist|        10|      MORTGAGE|      85000.0|           NJ|          072xx|            USA|    A|       A4|    Source Verified|               371000.0|      Individual|              null|                     null|2024-11-13 07:50:...|\n",
       "|14c272338c15e3fb7...|        Office Clerk|        10|          RENT|      32000.0|           CA|          932xx|            USA|    D|       D5|           Verified|                48996.0|      Individual|              null|                     null|2024-11-13 07:50:...|\n",
       "|5844689c67387b41e...|               Owner|         7|      MORTGAGE|     150000.0|           NJ|          074xx|            USA|    A|       A1|       Not Verified|               424000.0|      Individual|              null|                     null|2024-11-13 07:50:...|\n",
       "|b6eb8596767cfca85...|  Document Processor|         9|          RENT|      59000.0|           VA|          231xx|            USA|    G|       G3|    Source Verified|               147496.0|      Individual|              null|                     null|2024-11-13 07:50:...|\n",
       "|f3b80b9648b8cda34...|   Software Engineer|         1|      MORTGAGE|      85000.0|           PA|          195xx|            USA|    A|       A2|       Not Verified|               181981.0|      Individual|              null|                     null|2024-11-13 07:50:...|\n",
       "|2055b3d0b6813ed0c...|Pasrtry departmen...|        10|          RENT|      65000.0|           NJ|          071xx|            USA|    B|       B5|    Source Verified|               121158.0|      Individual|              null|                     null|2024-11-13 07:50:...|\n",
       "|9d89feb05fc242a31...|   Senior Accountant|         3|           OWN|      96000.0|           CA|          958xx|            USA|    A|       A5|    Source Verified|               109518.0|      Individual|              null|                     null|2024-11-13 07:50:...|\n",
       "|7bbe2db97af91df4c...|Chief Deputy Reco...|        10|      MORTGAGE|      60000.0|           OH|          446xx|            USA|    B|       B5|       Not Verified|                88922.0|      Individual|              null|                     null|2024-11-13 07:50:...|\n",
       "|257ea0ec1ee8710d4...|Desktop Support S...|         2|      MORTGAGE|     109000.0|           AZ|          852xx|            USA|    A|       A1|    Source Verified|               360006.0|      Individual|              null|                     null|2024-11-13 07:50:...|\n",
       "|b3e96532dafd5692b...|Business Office M...|        10|          RENT|      60000.0|           OH|          457xx|            USA|    C|       C3|       Not Verified|                75421.0|      Individual|              null|                     null|2024-11-13 07:50:...|\n",
       "|6cf2f60a91d724368...|  Nurse practitioner|         6|      MORTGAGE|     120000.0|           PA|          170xx|            USA|    B|       B1|           Verified|               542803.0|      Individual|              null|                     null|2024-11-13 07:50:...|\n",
       "|bd299a8da45c32184...|                null|         6|      MORTGAGE|      25000.0|           GA|          315xx|            USA|    D|       D5|       Not Verified|                63013.0|      Individual|              null|                     null|2024-11-13 07:50:...|\n",
       "|5c80c78fa71c9f2aa...| Electronic Engineer|         8|      MORTGAGE|      97000.0|           NJ|          070xx|            USA|    B|       B5|           Verified|               434846.0|      Individual|              null|                     null|2024-11-13 07:50:...|\n",
       "|7d3779bc59d96c2cf...|Executive Consultant|        10|      MORTGAGE|     180000.0|           SC|          294xx|            USA|    A|       A1|           Verified|               716728.0|      Individual|              null|                     null|2024-11-13 07:50:...|\n",
       "|ad7e52a2f37633b11...|Sr. Systems Engineer|         5|      MORTGAGE|     105000.0|           CA|          925xx|            USA|    A|       A2|       Not Verified|               397089.0|      Individual|              null|                     null|2024-11-13 07:50:...|\n",
       "|1285316006c563de6...|                null|         6|           OWN|      54248.0|           WV|          266xx|            USA|    B|       B3|    Source Verified|                42855.0|      Individual|              null|                     null|2024-11-13 07:50:...|\n",
       "|3111b0b90b4f4a0fd...|          Instructor|         1|      MORTGAGE|      82000.0|           TX|          797xx|            USA|    C|       C5|    Source Verified|               317106.0|      Individual|              null|                     null|2024-11-13 07:50:...|\n",
       "|51381bfecbadc2f3a...|               Sales|        10|      MORTGAGE|      65000.0|           UT|          847xx|            USA|    A|       A1|           Verified|               198600.0|       Joint App|           66500.0|             Not Verified|2024-11-13 07:50:...|\n",
       "|0f9bbfd721934b60a...|Field Service Tec...|         2|          RENT|     110000.0|           VA|          244xx|            USA|    D|       D1|    Source Verified|                43553.0|      Individual|              null|                     null|2024-11-13 07:50:...|\n",
       "+--------------------+--------------------+----------+--------------+-------------+-------------+---------------+---------------+-----+---------+-------------------+-----------------------+----------------+------------------+-------------------------+--------------------+\n",
       "only showing top 20 rows"
      ]
     },
     "execution_count": 39,
     "metadata": {},
     "output_type": "execute_result"
    }
   ],
   "source": [
    "avgEmp_experience = customersdf.agg(floor(avg('emp_length'))).collect()[0][0]\n",
    "customersModified = customersdf.withColumn('emp_length', when(col('emp_length').isNull(), avgEmp_experience).otherwise(col('emp_length')))\n",
    "customersModified"
   ]
  },
  {
   "cell_type": "markdown",
   "id": "cb85441d",
   "metadata": {},
   "source": [
    "# Clean the address_state(it should be 2 characters only),replace all others with NA"
   ]
  },
  {
   "cell_type": "code",
   "execution_count": 44,
   "id": "16ba6f32",
   "metadata": {},
   "outputs": [
    {
     "data": {
      "text/html": [
       "<table border='1'>\n",
       "<tr><th>address_state</th></tr>\n",
       "<tr><td>Helping Kenya&#x27;s D...</td></tr>\n",
       "<tr><td>223xx</td></tr>\n",
       "<tr><td>175 (total projec...</td></tr>\n",
       "<tr><td>AZ</td></tr>\n",
       "<tr><td>SC</td></tr>\n",
       "<tr><td>so Plan &quot;&quot;C&quot;&quot; is ...</td></tr>\n",
       "<tr><td>I am 56 yrs. old ...</td></tr>\n",
       "<tr><td>financially I mad...</td></tr>\n",
       "<tr><td>but no one will l...</td></tr>\n",
       "<tr><td>LA</td></tr>\n",
       "<tr><td>etc.  First</td></tr>\n",
       "<tr><td>MN</td></tr>\n",
       "<tr><td>850xx</td></tr>\n",
       "<tr><td>yet Capital One n...</td></tr>\n",
       "<tr><td>499xx</td></tr>\n",
       "<tr><td>Eliminating Credi...</td></tr>\n",
       "<tr><td>Advocate business...</td></tr>\n",
       "<tr><td>and MBA&#x27;s are ove...</td></tr>\n",
       "<tr><td>662xx</td></tr>\n",
       "<tr><td>I the credit card...</td></tr>\n",
       "</table>\n",
       "only showing top 20 rows\n"
      ],
      "text/plain": [
       "+--------------------+\n",
       "|       address_state|\n",
       "+--------------------+\n",
       "|Helping Kenya's D...|\n",
       "|175 (total projec...|\n",
       "|               223xx|\n",
       "|                  AZ|\n",
       "|                  SC|\n",
       "|I am 56 yrs. old ...|\n",
       "|so Plan \"\"C\"\" is ...|\n",
       "|financially I mad...|\n",
       "|but no one will l...|\n",
       "|                  LA|\n",
       "|         etc.  First|\n",
       "|                  MN|\n",
       "|               499xx|\n",
       "|               850xx|\n",
       "|yet Capital One n...|\n",
       "|and MBA's are ove...|\n",
       "|Eliminating Credi...|\n",
       "|Advocate business...|\n",
       "|               951xx|\n",
       "|I the credit card...|\n",
       "+--------------------+\n",
       "only showing top 20 rows"
      ]
     },
     "execution_count": 44,
     "metadata": {},
     "output_type": "execute_result"
    }
   ],
   "source": [
    "customersModified.select('address_state').distinct()"
   ]
  },
  {
   "cell_type": "code",
   "execution_count": 51,
   "id": "723bdff9",
   "metadata": {},
   "outputs": [
    {
     "data": {
      "text/html": [
       "<table border='1'>\n",
       "<tr><th>member_id</th><th>emp_title</th><th>emp_length</th><th>home_ownership</th><th>annual_income</th><th>address_state</th><th>address_zipcode</th><th>address_country</th><th>grade</th><th>sub_grade</th><th>verification_status</th><th>total_high_credit_limit</th><th>application_type</th><th>join_annual_income</th><th>verification_status_joint</th><th>Ingeste_date</th></tr>\n",
       "<tr><td>830acbbf3d11f4c72...</td><td>data processor</td><td>10</td><td>MORTGAGE</td><td>30800.0</td><td>TX</td><td>769xx</td><td>USA</td><td>C</td><td>C4</td><td>Source Verified</td><td>21062.0</td><td>Individual</td><td>null</td><td>null</td><td>2024-11-13 08:00:...</td></tr>\n",
       "<tr><td>77028e3163b9e2447...</td><td>Member</td><td>4</td><td>MORTGAGE</td><td>90000.0</td><td>MN</td><td>553xx</td><td>USA</td><td>C</td><td>C4</td><td>Source Verified</td><td>374083.0</td><td>Individual</td><td>null</td><td>null</td><td>2024-11-13 08:00:...</td></tr>\n",
       "<tr><td>ce9a09b0451f7cc5a...</td><td>Area Manager</td><td>10</td><td>MORTGAGE</td><td>120000.0</td><td>PA</td><td>161xx</td><td>USA</td><td>C</td><td>C5</td><td>Verified</td><td>272117.0</td><td>Individual</td><td>null</td><td>null</td><td>2024-11-13 08:00:...</td></tr>\n",
       "<tr><td>565dd59818a21d009...</td><td>Sales rep</td><td>7</td><td>MORTGAGE</td><td>115000.0</td><td>IL</td><td>605xx</td><td>USA</td><td>A</td><td>A4</td><td>Not Verified</td><td>355495.0</td><td>Individual</td><td>null</td><td>null</td><td>2024-11-13 08:00:...</td></tr>\n",
       "<tr><td>5b619a268051f7691...</td><td>Associate Directo...</td><td>1</td><td>RENT</td><td>143000.0</td><td>MA</td><td>018xx</td><td>USA</td><td>D</td><td>D5</td><td>Source Verified</td><td>228550.0</td><td>Individual</td><td>null</td><td>null</td><td>2024-11-13 08:00:...</td></tr>\n",
       "<tr><td>e0b56c8ca640ba6d7...</td><td>HR</td><td>4</td><td>MORTGAGE</td><td>36500.0</td><td>OK</td><td>730xx</td><td>USA</td><td>B</td><td>B5</td><td>Verified</td><td>125776.0</td><td>Individual</td><td>null</td><td>null</td><td>2024-11-13 08:00:...</td></tr>\n",
       "<tr><td>ddc4c5d5e9d8f7c16...</td><td>Network Administr...</td><td>1</td><td>MORTGAGE</td><td>110000.0</td><td>FL</td><td>330xx</td><td>USA</td><td>C</td><td>C3</td><td>Not Verified</td><td>364342.0</td><td>Individual</td><td>null</td><td>null</td><td>2024-11-13 08:00:...</td></tr>\n",
       "<tr><td>7b44a9c47b29ec573...</td><td>Route supervisor</td><td>10</td><td>MORTGAGE</td><td>60000.0</td><td>CT</td><td>064xx</td><td>USA</td><td>B</td><td>B4</td><td>Source Verified</td><td>143563.0</td><td>Individual</td><td>null</td><td>null</td><td>2024-11-13 08:00:...</td></tr>\n",
       "<tr><td>ff1b89e07e37ae11f...</td><td>Supervisor mainte...</td><td>6</td><td>RENT</td><td>36000.0</td><td>NY</td><td>112xx</td><td>USA</td><td>C</td><td>C3</td><td>Not Verified</td><td>20400.0</td><td>Individual</td><td>null</td><td>null</td><td>2024-11-13 08:00:...</td></tr>\n",
       "<tr><td>acc38c259e4610da4...</td><td>Chief Engineer</td><td>2</td><td>RENT</td><td>63500.0</td><td>NY</td><td>112xx</td><td>USA</td><td>D</td><td>D1</td><td>Source Verified</td><td>121348.0</td><td>Individual</td><td>null</td><td>null</td><td>2024-11-13 08:00:...</td></tr>\n",
       "<tr><td>68818ccf16c68426c...</td><td>Mechanic</td><td>1</td><td>RENT</td><td>28000.0</td><td>NC</td><td>276xx</td><td>USA</td><td>D</td><td>D1</td><td>Source Verified</td><td>36139.0</td><td>Individual</td><td>null</td><td>null</td><td>2024-11-13 08:00:...</td></tr>\n",
       "<tr><td>99c29dfc32f0907e5...</td><td>Project Superinte...</td><td>1</td><td>MORTGAGE</td><td>93000.0</td><td>MN</td><td>553xx</td><td>USA</td><td>D</td><td>D1</td><td>Verified</td><td>231274.0</td><td>Joint App</td><td>144000.0</td><td>Not Verified</td><td>2024-11-13 08:00:...</td></tr>\n",
       "<tr><td>2ef4f1a366e7a9a14...</td><td>Operations Manager</td><td>10</td><td>MORTGAGE</td><td>68000.0</td><td>MO</td><td>637xx</td><td>USA</td><td>A</td><td>A5</td><td>Source Verified</td><td>41050.0</td><td>Individual</td><td>null</td><td>null</td><td>2024-11-13 08:00:...</td></tr>\n",
       "<tr><td>2edc9e090dd2a6099...</td><td>GENERAL MANAGER</td><td>8</td><td>RENT</td><td>70000.0</td><td>NY</td><td>109xx</td><td>USA</td><td>E</td><td>E4</td><td>Source Verified</td><td>51371.0</td><td>Individual</td><td>null</td><td>null</td><td>2024-11-13 08:00:...</td></tr>\n",
       "<tr><td>cc9e83cd78464840b...</td><td>quality</td><td>9</td><td>OWN</td><td>48345.0</td><td>OH</td><td>430xx</td><td>USA</td><td>F</td><td>F2</td><td>Verified</td><td>55904.0</td><td>Individual</td><td>null</td><td>null</td><td>2024-11-13 08:00:...</td></tr>\n",
       "<tr><td>bc07e008ebf0c9e8c...</td><td>Sr Drive Engineer</td><td>5</td><td>MORTGAGE</td><td>93500.0</td><td>PA</td><td>152xx</td><td>USA</td><td>D</td><td>D5</td><td>Not Verified</td><td>260305.0</td><td>Individual</td><td>null</td><td>null</td><td>2024-11-13 08:00:...</td></tr>\n",
       "<tr><td>7f8bb9bc7fc9da3d0...</td><td>VP Sales and Mark...</td><td>9</td><td>MORTGAGE</td><td>205000.0</td><td>MD</td><td>217xx</td><td>USA</td><td>C</td><td>C2</td><td>Verified</td><td>927470.0</td><td>Individual</td><td>null</td><td>null</td><td>2024-11-13 08:00:...</td></tr>\n",
       "<tr><td>7525dbf95155f37a6...</td><td>electronics work ...</td><td>10</td><td>MORTGAGE</td><td>60000.0</td><td>PA</td><td>185xx</td><td>USA</td><td>D</td><td>D3</td><td>Verified</td><td>387480.0</td><td>Individual</td><td>null</td><td>null</td><td>2024-11-13 08:00:...</td></tr>\n",
       "<tr><td>d560a4fd79318c09c...</td><td>Security Office</td><td>10</td><td>OWN</td><td>40000.0</td><td>PA</td><td>183xx</td><td>USA</td><td>C</td><td>C2</td><td>Source Verified</td><td>44253.0</td><td>Individual</td><td>null</td><td>null</td><td>2024-11-13 08:00:...</td></tr>\n",
       "<tr><td>6840bb6eafb573a94...</td><td>Cook</td><td>9</td><td>MORTGAGE</td><td>35000.0</td><td>NV</td><td>891xx</td><td>USA</td><td>C</td><td>C1</td><td>Source Verified</td><td>171353.0</td><td>Individual</td><td>null</td><td>null</td><td>2024-11-13 08:00:...</td></tr>\n",
       "</table>\n",
       "only showing top 20 rows\n"
      ],
      "text/plain": [
       "+--------------------+--------------------+----------+--------------+-------------+-------------+---------------+---------------+-----+---------+-------------------+-----------------------+----------------+------------------+-------------------------+--------------------+\n",
       "|           member_id|           emp_title|emp_length|home_ownership|annual_income|address_state|address_zipcode|address_country|grade|sub_grade|verification_status|total_high_credit_limit|application_type|join_annual_income|verification_status_joint|        Ingeste_date|\n",
       "+--------------------+--------------------+----------+--------------+-------------+-------------+---------------+---------------+-----+---------+-------------------+-----------------------+----------------+------------------+-------------------------+--------------------+\n",
       "|c563e0fea685d8004...|                null|         6|      MORTGAGE|      87000.0|           NY|          104xx|            USA|    A|       A3|    Source Verified|               391533.0|      Individual|              null|                     null|2024-11-13 08:00:...|\n",
       "|74dfc2da789b2df68...|        Office staff|         6|          RENT|      48000.0|           OH|          430xx|            USA|    C|       C3|    Source Verified|                38900.0|      Individual|              null|                     null|2024-11-13 08:00:...|\n",
       "|b4744777d504eca85...|  Cabinet Specialist|         5|      MORTGAGE|      61000.0|           NV|          891xx|            USA|    A|       A5|       Not Verified|               307716.0|      Individual|              null|                     null|2024-11-13 08:00:...|\n",
       "|141e4536e4af11ce1...|                null|         6|      MORTGAGE|      53000.0|           FL|          333xx|            USA|    A|       A2|           Verified|               218877.0|      Individual|              null|                     null|2024-11-13 08:00:...|\n",
       "|271236195c05a0c94...|             Fireman|        10|      MORTGAGE|      24000.0|           CA|          952xx|            USA|    B|       B2|    Source Verified|                38565.0|      Individual|              null|                     null|2024-11-13 08:00:...|\n",
       "|e1c04515cf05ca0a9...|                null|         6|      MORTGAGE|      39000.0|           MI|          494xx|            USA|    A|       A3|       Not Verified|               107121.0|      Individual|              null|                     null|2024-11-13 08:00:...|\n",
       "|1bd34f94281cee631...|    patient services|        10|          RENT|      55000.0|           MA|          021xx|            USA|    B|       B2|    Source Verified|                59500.0|      Individual|              null|                     null|2024-11-13 08:00:...|\n",
       "|29e5fbb3fd0c85396...|             Locator|         2|      MORTGAGE|      63500.0|           MO|          650xx|            USA|    C|       C1|    Source Verified|               166503.0|      Individual|              null|                     null|2024-11-13 08:00:...|\n",
       "|756347703e4ea7aef...|Customer Service ...|        10|      MORTGAGE|      45000.0|           MO|          658xx|            USA|    B|       B1|    Source Verified|                49331.0|      Individual|              null|                     null|2024-11-13 08:00:...|\n",
       "|ce9d6db648582d076...|Manufacturing Tec...|        10|      MORTGAGE|      94000.0|           OH|          452xx|            USA|    D|       D4|           Verified|               281376.0|      Individual|              null|                     null|2024-11-13 08:00:...|\n",
       "|fd084422b3b4f7393...|Fiber support ana...|         1|           OWN|      60000.0|           NY|          130xx|            USA|    A|       A4|    Source Verified|                52433.0|      Individual|              null|                     null|2024-11-13 08:00:...|\n",
       "|de111a8cd21876a97...|                null|         1|          RENT|      62400.0|           MN|          553xx|            USA|    C|       C1|       Not Verified|                30851.0|      Individual|              null|                     null|2024-11-13 08:00:...|\n",
       "|7553bfdaa03a5c935...|       ramp operator|         2|          RENT|      30000.0|           NY|          113xx|            USA|    A|       A2|    Source Verified|                41200.0|      Individual|              null|                     null|2024-11-13 08:00:...|\n",
       "|9f019005c9042b468...|                  Rn|        10|      MORTGAGE|     105000.0|           NY|          103xx|            USA|    A|       A1|       Not Verified|               396805.0|      Individual|              null|                     null|2024-11-13 08:00:...|\n",
       "|c482dcf51df5dd757...|                null|         8|      MORTGAGE|      58000.0|           GA|          302xx|            USA|    C|       C1|    Source Verified|               111177.0|      Individual|              null|                     null|2024-11-13 08:00:...|\n",
       "|55d7f9ec9ee11be53...|  PACS Administrator|         3|          RENT|      71000.0|           CA|          925xx|            USA|    D|       D4|    Source Verified|               109915.0|      Individual|              null|                     null|2024-11-13 08:00:...|\n",
       "|0881200014a78f137...|                null|         6|      MORTGAGE|      75000.0|           AZ|          853xx|            USA|    A|       A4|       Not Verified|               390386.0|      Individual|              null|                     null|2024-11-13 08:00:...|\n",
       "|09a26679da5083219...|                null|         1|      MORTGAGE|     225000.0|           IN|          462xx|            USA|    C|       C3|       Not Verified|               999280.0|      Individual|              null|                     null|2024-11-13 08:00:...|\n",
       "|f4289a9828a2bef31...|  Recruiting Manager|         5|      MORTGAGE|     145000.0|           NC|          282xx|            USA|    B|       B5|       Not Verified|               258843.0|      Individual|              null|                     null|2024-11-13 08:00:...|\n",
       "|92229e949c9e3af6a...|Client Service As...|         1|          RENT|      38000.0|           MI|          490xx|            USA|    B|       B2|       Not Verified|                45800.0|      Individual|              null|                     null|2024-11-13 08:00:...|\n",
       "+--------------------+--------------------+----------+--------------+-------------+-------------+---------------+---------------+-----+---------+-------------------+-----------------------+----------------+------------------+-------------------------+--------------------+\n",
       "only showing top 20 rows"
      ]
     },
     "execution_count": 51,
     "metadata": {},
     "output_type": "execute_result"
    }
   ],
   "source": [
    "customersStateCleaned = customersModified.withColumn(\"address_state\",when(length(col('address_state')) > 2 , 'NA').otherwise(col('address_state')))\n",
    "customersStateCleaned"
   ]
  },
  {
   "cell_type": "code",
   "execution_count": 53,
   "id": "ea7cc005",
   "metadata": {},
   "outputs": [
    {
     "data": {
      "text/html": [
       "<table border='1'>\n",
       "<tr><th>address_state</th></tr>\n",
       "<tr><td>AZ</td></tr>\n",
       "<tr><td>SC</td></tr>\n",
       "<tr><td>LA</td></tr>\n",
       "<tr><td>MN</td></tr>\n",
       "<tr><td>NJ</td></tr>\n",
       "<tr><td>DC</td></tr>\n",
       "<tr><td>OR</td></tr>\n",
       "<tr><td>NA</td></tr>\n",
       "<tr><td>VA</td></tr>\n",
       "<tr><td>null</td></tr>\n",
       "<tr><td>RI</td></tr>\n",
       "<tr><td>KY</td></tr>\n",
       "<tr><td>WY</td></tr>\n",
       "<tr><td>NH</td></tr>\n",
       "<tr><td>MI</td></tr>\n",
       "<tr><td>NV</td></tr>\n",
       "<tr><td>WI</td></tr>\n",
       "<tr><td>ID</td></tr>\n",
       "<tr><td>CA</td></tr>\n",
       "<tr><td>NE</td></tr>\n",
       "</table>\n",
       "only showing top 20 rows\n"
      ],
      "text/plain": [
       "+-------------+\n",
       "|address_state|\n",
       "+-------------+\n",
       "|           AZ|\n",
       "|           SC|\n",
       "|           LA|\n",
       "|           MN|\n",
       "|           NJ|\n",
       "|           DC|\n",
       "|           OR|\n",
       "|           NA|\n",
       "|           VA|\n",
       "|         null|\n",
       "|           RI|\n",
       "|           KY|\n",
       "|           WY|\n",
       "|           NH|\n",
       "|           MI|\n",
       "|           NV|\n",
       "|           WI|\n",
       "|           ID|\n",
       "|           CA|\n",
       "|           CT|\n",
       "+-------------+\n",
       "only showing top 20 rows"
      ]
     },
     "execution_count": 53,
     "metadata": {},
     "output_type": "execute_result"
    }
   ],
   "source": [
    "customersStateCleaned.select('address_state').distinct()"
   ]
  },
  {
   "cell_type": "code",
   "execution_count": 54,
   "id": "d56ec5a3",
   "metadata": {},
   "outputs": [],
   "source": [
    "customersStateCleaned.write \\\n",
    ".format(\"parquet\") \\\n",
    ".mode(\"overwrite\") \\\n",
    ".option(\"path\", \"/user/anil/lendingClubProject/cleansed/customersParquet\") \\\n",
    ".save()"
   ]
  },
  {
   "cell_type": "code",
   "execution_count": null,
   "id": "785b7e13",
   "metadata": {},
   "outputs": [],
   "source": [
    "customersStateCleaned.write \\\n",
    ".format(\"csv\") \\\n",
    ".mode(\"overwrite\") \\\n",
    ".option(\"path\", \"/user/anil/lendingClubProject/cleansed/customersCSV\") \\\n",
    ".save()"
   ]
  }
 ],
 "metadata": {
  "kernelspec": {
   "display_name": "Pyspark 3",
   "language": "python",
   "name": "pyspark3"
  },
  "language_info": {
   "codemirror_mode": {
    "name": "ipython",
    "version": 3
   },
   "file_extension": ".py",
   "mimetype": "text/x-python",
   "name": "python",
   "nbconvert_exporter": "python",
   "pygments_lexer": "ipython3",
   "version": "3.6.12"
  }
 },
 "nbformat": 4,
 "nbformat_minor": 5
}
